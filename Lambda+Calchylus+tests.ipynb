{
 "cells": [
  {
   "cell_type": "markdown",
   "metadata": {},
   "source": [
    "# Lambda Calchylus test document\n",
    "\n",
<<<<<<< HEAD
    "Lambda calculus evaluator written with Hy."
=======
    "Lambda calculus evaluator written with Hy.\n",
    "\n",
    "__DRAFT!__ 5.9.2017\n",
    "\n",
    "#### System configuration"
>>>>>>> e90b80c39be74d437e8b0ef771eedcd4d94ea2d2
   ]
  },
  {
   "cell_type": "code",
   "execution_count": 1,
   "metadata": {},
   "outputs": [
    {
     "name": "stdout",
     "output_type": "stream",
     "text": [
      "Hy version:  0.13.0\n",
<<<<<<< HEAD
      "Python 3.6.2 |Continuum Analytics, Inc.| (default, Jul 20 2017, 12:30:02) [MSC v.1900 64 bit (AMD64)]\n"
=======
      "Python 3.6.2 | packaged by conda-forge | (default, Jul 23 2017, 22:58:45) [MSC v.1900 64 bit (AMD64)]\n"
>>>>>>> e90b80c39be74d437e8b0ef771eedcd4d94ea2d2
     ]
    }
   ],
   "source": [
    "(import hy sys)\n",
    "(print \"Hy version: \" hy.__version__)\n",
    "(print \"Python\" sys.version)"
   ]
  },
  {
<<<<<<< HEAD
=======
   "cell_type": "markdown",
   "metadata": {},
   "source": [
    "#### Main evaluator code"
   ]
  },
  {
>>>>>>> e90b80c39be74d437e8b0ef771eedcd4d94ea2d2
   "cell_type": "code",
   "execution_count": 2,
   "metadata": {},
   "outputs": [
    {
     "data": {
      "text/plain": [
<<<<<<< HEAD
       "<function <lambda> at 0x0000013E94612268>"
=======
       "<function _hy_anon_fn_23 at 0x000002109BB62378>"
>>>>>>> e90b80c39be74d437e8b0ef771eedcd4d94ea2d2
      ]
     },
     "execution_count": 2,
     "metadata": {},
     "output_type": "execute_result"
    }
   ],
   "source": [
<<<<<<< HEAD
=======
    "; Copyright (c) Marko Manninen (@markomanninen), 2017\n",
>>>>>>> e90b80c39be74d437e8b0ef771eedcd4d94ea2d2
    "(import hy)\n",
    "(eval-and-compile\n",
    "  (setv ; lambda expression macro name\n",
    "        lambdachr 'L\n",
    "        ; lambda expression argument and body separator\n",
    "        separator ',\n",
<<<<<<< HEAD
    "        forms [\"CONST\" \"IDENT\" \"TRUE\" \"FALSE\" \"REPLACE\"\n",
=======
    "        ; TODO: these could be constructed by some lambda-term-generator macro\n",
    "        forms [\"CONST\" \"IDENT\" \"TRUE\" \"FALSE\" \"REPLACE\" \"OMIT\"\n",
>>>>>>> e90b80c39be74d437e8b0ef771eedcd4d94ea2d2
    "               \"PAIR\" \"HEAD\" \"TAIL\" \"FIRST\" \"SECOND\" \"NIL\" \"NIL?\" \"is_NIL\"\n",
    "               \"ZERO\" \"ZERO?\" \"is_ZERO\" \"NUM\" \n",
    "               \"ONE\" \"TWO\" \"THREE\" \"FOUR\" \"FIVE\" \"SIX\" \"SEVEN\" \"EIGHT\" \"NINE\" \"TEN\"\n",
    "               \"COND\" \"AND\" \"OR\" \"NOT\" \"XOR\"\n",
    "               \"ADD\" \"PRED\" \"SUCC\" \"EXP\" \"SUM\" \"PROD\" \"SUB\"\n",
<<<<<<< HEAD
    "               \"EQ?\" \"is_EQ\" \"LEQ?\" \"is_LEQ\" \"SELF\" \"YCOMB\"])\n",
    "  ; is given expression an expression?\n",
    "  (defn expr? [x] (instance? hy.HyExpression x))\n",
=======
    "               \"EQ?\" \"is_EQ\" \"LEQ?\" \"is_LEQ\" \"SELF\" \"YCOMB\"\n",
    "               \"SUMMATION\" \"FACTORIAL\" \"FIBONACCI\"])\n",
    "  ; is gensym?\n",
    "  (defn gensym? [x] (or (= (first x) \":\") (= (first x) \"\\ufdd0\")))\n",
>>>>>>> e90b80c39be74d437e8b0ef771eedcd4d94ea2d2
    "  ; pretty print utility\n",
    "  (defn pprint [expr]\n",
    "    (if-not (coll? expr) (str expr)\n",
    "      (% \"(%s)\" (.join \" \" (list-comp (pprint x) [x expr])))))\n",
    "  ; safe get index for the first occurrence of the x\n",
    "  ; (index (, 1 2) 0) ; -> -1\n",
    "  (defn index [l x]\n",
    "    (try (.index l x)\n",
    "         (except [e [ValueError AttributeError]]\n",
    "           -1)))\n",
    "  ; extend and return list instead of .extend list in place\n",
<<<<<<< HEAD
    "  (defn extend [a &rest b]\n",
    "    ; using original list (a) directly causes recursion error in some strange cases\n",
    "    ; thus using copy of it (ca) to work with\n",
    "    (for [c b] (.extend a c)) a)\n",
    "  ; church number body generator helper: (N 3 m n) ; -> (m (m (m n)))\n",
    "  (defn N [n x y]\n",
    "    (if (zero? n) y\n",
    "        (% \"(%s %s%s\" (, x  (N (dec n) x y) \")\"))))\n",
    "  ; is expr(ession) a suitable macro form?\n",
    "  (defn macro-form? [expr] (and (symbol? expr) (in expr forms)))\n",
    "  ;\n",
=======
    "  ; provide a as a copy (.copy a) in cases where strange \n",
    "  ; recursive error behaviour is occurring\n",
    "  (defn extend [a &rest b]\n",
    "    (for [c b] (.extend a c)) a)\n",
    "  ; church number body generator helper (N 3 m n) ; -> (m (m (m n)))\n",
    "  ;(defn N [n x y]\n",
    "  ;  (if (zero? n) y\n",
    "  ;      (% \"(%s %s%s\" (, x  (N (dec n) x y) \")\"))))\n",
    "  ; is expr(ession) a suitable macro form?\n",
    "  (defn macro-form? [expr] (and (symbol? expr) (in expr forms)))\n",
    "  ; is expr(ession) or the firs sub expression a suitable macro form\n",
>>>>>>> e90b80c39be74d437e8b0ef771eedcd4d94ea2d2
    "  (defn form? [expr]\n",
    "    (or (macro-form? expr)\n",
    "        (and (coll? expr) (macro-form? (first expr)))))\n",
    "  ; is expr(ession) a lambda expression i.e. starts with lambdachr: (L ...)?\n",
    "  (defn L? [expr]\n",
    "    (and (coll? expr)\n",
    "         (symbol? (first expr))\n",
    "         (= (first expr) lambdachr)))\n",
    "  ; make lambda expression from body and other parts\n",
    "  (defn build-lambda [body &optional [args []] [vals []]]\n",
    "    (hy.HyExpression (extend [lambdachr] args [separator] body vals)))\n",
    "  ; substitute lambda sub expr(ession). it requires special handler\n",
    "  ; because of variable shadowing and not-coll body\n",
<<<<<<< HEAD
    "  (defn substitute* [a b expr] \n",
    "    (setv p (parts expr)\n",
=======
    "  (defn substitute* [a b expr] ; (print 's2 a b expr)\n",
    "    (setv p (extract-parts expr)\n",
>>>>>>> e90b80c39be74d437e8b0ef771eedcd4d94ea2d2
    "          args (get p \"args\")\n",
    "          body (get p \"body\")\n",
    "          vals (get p \"vals\")\n",
    "          free (drop (len args) vals))\n",
    "    ; first substitute a to b in possible values\n",
    "    (if-not (empty? vals) (setv vals (substitute a b vals)))\n",
    "    ; shadow arguments, don't substitute if a is in new arguments\n",
    "    (if (in a args) expr\n",
    "        (build-lambda\n",
    "          ; only coll body can be iterated\n",
    "          (if (coll? body)\n",
    "              [(substitute a b body)]\n",
    "              [(if (= a body) b body)])\n",
    "          args vals)))\n",
    "  ; substitute a with b in expr\n",
<<<<<<< HEAD
    "  (defn substitute [a b expr]\n",
=======
    "  (defn substitute [a b expr] ; (print 's1 a b expr)\n",
>>>>>>> e90b80c39be74d437e8b0ef771eedcd4d94ea2d2
    "    (if (coll? expr)\n",
    "        ; if e is lambda expression, call special handler\n",
    "        (if (L? expr) (substitute* a b expr)\n",
    "            ; else substitute all sub expressions\n",
    "            ((type expr) (genexpr (substitute a b e) [e expr])))\n",
    "        ; return substitute (b), if match is found\n",
    "        (if (= a expr) b expr)))\n",
    "  ; shift arguments inside functions in application expressions\n",
<<<<<<< HEAD
    "  ; ((L x , x) 1) -> (L x , x 1)\n",
=======
    "  ; ((L x , x) a b) -> (L x , x a b) -> (a b)\n",
    "  ; ((TRUE) TRUE FALSE) -> (TRUE TRUE FALSE) -> TRUE\n",
    "  ; this is required to convert and evaluate substituted function forms\n",
    "  ; (L x y z , ((x) y z) TRUE a b) -> ((TRUE) a b) -> (TRUE a b) -> a\n",
>>>>>>> e90b80c39be74d437e8b0ef771eedcd4d94ea2d2
    "  (defn shift-arguments [expr]\n",
    "    (if-not (coll? expr) expr \n",
    "      (do\n",
    "        (setv f (first expr))\n",
    "        ;(print 'shift-arguments-1 (pprint expr))\n",
    "        (if (or (L? f) (and (coll? f) (form? f)))\n",
    "            (setv expr (extend ((type f) (.copy f)) (tuple (rest expr)))))\n",
    "        ;(print 'shift-arguments-2 (pprint expr))\n",
    "        ((type expr) (genexpr (shift-arguments e) [e expr])))))\n",
<<<<<<< HEAD
    "  ; get lambda expression parts\n",
    "  ; body: (x x), args: (x), values (y), and params: ([x y])\n",
    "  (defn parts [expr]\n",
    "    (setv idx (index expr separator)\n",
    "          ; expression might start with L: (L x , x ...)\n",
    "          ; or without L: (x , x ...)\n",
    "          ldx (if (L? expr) 1 0))\n",
    "    ; if separator index is less than expected\n",
    "    ; lambda expression is possibly malformed, just return the expression\n",
    "    (if (< idx ldx) {\"body\" (if (coll? expr) (first expr) expr) \"args\" [] \"vals\" [] \"params\" []}\n",
    "        (do\n",
    "          (setv body (cut expr (inc idx))\n",
    "                args (list (cut expr ldx idx))\n",
    "                vals (list (rest body)))\n",
    "          ; return body, args, vals, and key-value pairs based on args-vals\n",
    "          {\"body\" (first body) \"args\" args \"vals\" vals \"params\" (list (zip args vals))})))\n",
    "  ; handle macro forms\n",
    "  (defn expand-forms [body]\n",
    "    (if-not (coll? body) body\n",
    "        (if (macro-form? (first body))\n",
    "            (eval body)\n",
    "            ((type body) (genexpr (expand-forms e) [e body])))))\n",
    "  ; helper function to expand form that has custom lambda macros / forms\n",
    "  (defn expand-form [expr]\n",
    "    (if-not (none? expr)\n",
    "      (if (or (symbol? expr) (coll? expr) (iterable? expr))\n",
    "          (pprint (expand-forms (read-str expr)))\n",
    "          expr)))\n",
    "  ;\n",
    "  (defn B? [body bodyx]\n",
    "    (setv p (parts body))\n",
    "    (and (empty? (get p \"vals\")) (= body bodyx)))\n",
    " \n",
    "  (defn beta-reduction [expr]\n",
    "    ;(print)\n",
    "    ;(print 'beta-reduction: (pprint expr))\n",
    "    ;(if (and (coll? expr)) (setv expr (shift-arguments expr)))\n",
    "    (if-not (L? expr) \n",
    "      (if (coll? expr)\n",
    "          ((type expr) (genexpr (beta-reduction x) [x expr]))\n",
    "          expr)\n",
    "      (do \n",
    "    (setv p (parts expr)\n",
=======
    "  ; alpha renaming / compile argument names if name collision occurs\n",
    "  (defn name-collision* [args expr]\n",
    "    (if (coll? expr) \n",
    "        (do (setv p False)\n",
    "            (for [e expr]\n",
    "              (if (name-collision* args e)\n",
    "                (do (setv p True)\n",
    "                    (break)))) p)\n",
    "        (in expr args)))\n",
    "  ; alpha renaming / compile argument names if name collision occurs\n",
    "  (defn name-collision [vals args e]\n",
    "    (setv p False)\n",
    "    (for [e vals]\n",
    "      (if (coll? e)\n",
    "          (if (name-collision* args e)\n",
    "              (do (setv p True)\n",
    "                  (break)))\n",
    "          (if (in e args)\n",
    "              (do (setv p True)\n",
    "                  (break))))) p)\n",
    "  ; get lambda expression parts\n",
    "  ; body: (x x), args: (x), values (y), and params: ([x y])\n",
    "  (defn extract-parts [expr]\n",
    "    (setv idx (index expr separator)\n",
    "          ; expression might start with L: (L x , x ...)\n",
    "          ; or without L: (x , x ...)\n",
    "          ldx (if (L? expr) 1 0))\n",
    "    ; if separator index is less than expected\n",
    "    ; lambda expression is possibly malformed, just return the expression\n",
    "    (if (< idx ldx) {\"body\" (if (coll? expr) (first expr) expr) \"args\" [] \"vals\" [] \"params\" []}\n",
    "        (do\n",
    "          (setv body (cut expr (inc idx))\n",
    "                bodyb (first body)\n",
    "                args (cut expr ldx idx)\n",
    "                ; args 2 for alpha conversion\n",
    "                args2 (tuple (map (fn [x] (if (gensym? (name x)) x (gensym x))) args))\n",
    "                vals (tuple (rest body)))\n",
    "          ; alpha conversion / variable renaming\n",
    "          ; this is a brute force method. name collision should not occur because\n",
    "          ; all variable names are changed and replaced. other way around would be to find out,\n",
    "          ; if there are name collisions, and replace only those variable names.\n",
    "          ; this might however require several loops and argument carrying for each variable and expression...\n",
    "          ;(if (name-collision vals args bodyb)\n",
    "          (for [[a b] (zip args args2)]\n",
    "            (setv bodyb (substitute a b bodyb)))\n",
    "          ; return body, args, vals, and key-value pairs based on args-vals\n",
    "          {\"body\" bodyb \"args\" args2 \"vals\" vals \"params\" (zip args2 vals)})))\n",
    "  ; handle macro forms extra\n",
    "  (defn expand-form* [body]\n",
    "    (if-not (coll? body) body\n",
    "        (if (macro-form? (first body))\n",
    "            (eval body)\n",
    "            ((type body) (genexpr (expand-form* e) [e body])))))\n",
    "  ; helper function to expand form that has custom lambda macros / forms\n",
    "  ; used after everything else for the lambda form evaluation is done\n",
    "  (defn expand-forms [expr]\n",
    "    (if-not (none? expr)\n",
    "      (if (or (symbol? expr) (coll? expr) (iterable? expr))\n",
    "          (pprint (expand-form* (read-str expr)))\n",
    "          expr)))\n",
    "  ; are evaluated lambda forms same and there are no free values\n",
    "  ; inside the form. because, if there are, we can still reduce the form\n",
    "  (defn B? [body bodyx]\n",
    "    (setv p (extract-parts body))\n",
    "    (and (empty? (get p \"vals\")) (= body bodyx)))\n",
    "  ; convert generated machine variable names to normal forms\n",
    "  (defn human-readable [expr]\n",
    "    (if (coll? expr)\n",
    "        (genexpr (human-readable e) [e expr])\n",
    "        (if (gensym? (name expr))\n",
    "            (do\n",
    "               (setv idx (inc (index (name expr) \":\")))\n",
    "               (cut (name expr) idx (inc idx)))\n",
    "            expr)))\n",
    "  ; beta reduction helper\n",
    "  (defn beta-reduction* [expr]\n",
    "    (setv p (extract-parts expr)\n",
>>>>>>> e90b80c39be74d437e8b0ef771eedcd4d94ea2d2
    "          body (get p \"body\")\n",
    "          bodyx body\n",
    "          ; rest of the free arguments that are not in params\n",
    "          free (list (drop (len (get p \"args\")) (get p \"vals\"))))\n",
    "    ; substitute bound arguments\n",
<<<<<<< HEAD
    "    ;(print 'before-substitute-body: (pprint body))\n",
=======
    "    ;(print 'before-substitute-body: (pprint body) (get p \"params\"))\n",
>>>>>>> e90b80c39be74d437e8b0ef771eedcd4d94ea2d2
    "    (for [[a b] (get p \"params\")]\n",
    "      (setv body (substitute a b body)))\n",
    "    ;(print 'after-substitute-body: (pprint body))\n",
    "    ; shift application arguments\n",
    "    (if (coll? body) (setv body (shift-arguments body)))\n",
    "    ;(print 'after-shift-arguments: (pprint body))\n",
    "    ; extend body\n",
    "    (if (and (L? body) (not (empty? free)))\n",
    "        (setv body (extend body free)))\n",
    "    ;(print 'after-extend-body: (pprint body) (not (coll? body)) (= body bodyx))\n",
    "    (if (form? body)\n",
    "        (if (coll? body)\n",
    "            (eval (if (empty? free) body (extend body free)))\n",
<<<<<<< HEAD
    "            (if (empty? free) body \n",
    "                (eval (hy.HyExpression (extend [body] free)))))\n",
    "        (if (or (not (coll? body)) (B? body bodyx))\n",
    "            (if (empty? (get p \"args\")) (beta-reduction body)\n",
    "                (if (empty? (get p \"vals\")) expr\n",
    "                    (empty? free) body\n",
    "                    (extend [body] free)))\n",
    "            (if (L? body)\n",
    "                (beta-reduction body)\n",
    "                ((type body) (genexpr (beta-reduction x) [x (if (empty? free) body (extend [body] free))]))))))))\n",
    "  ; reformulate expression, pass parameters and expand possible macro form\n",
    "  (defn evaluate-lambda-expression [expr]\n",
    "    (setv expr (beta-reduction (hy.HyExpression (extend [lambdachr] expr))))\n",
    "    (if (or (coll? expr) (symbol? expr))\n",
    "        (pprint expr)\n",
    "        expr)))\n",
    "\n",
    "; shorthand to expand \n",
    "(defsharp 𝜆 [expr] `(expand-form (L , ~expr)))\n",
=======
    "            (if (empty? free) (human-readable body) \n",
    "                (eval (hy.HyExpression (extend [body] free)))))\n",
    "        (if (or (not (coll? body)) (B? body bodyx))\n",
    "            (if (empty? (get p \"args\")) (beta-reduction body)\n",
    "                (if (empty? (get p \"vals\")) (human-readable expr)\n",
    "                    (if (empty? free) (human-readable body)\n",
    "                        (human-readable (extend [body] free)))))\n",
    "            (if (L? body)\n",
    "                (beta-reduction body)\n",
    "                ((type body) (genexpr (beta-reduction x) [x (if (empty? free) body (extend [body] free))]))))))\n",
    "  ; main form beta / eta reduction steps\n",
    "  (defn beta-reduction [expr]\n",
    "    ;(print)\n",
    "    ;(print 'beta-reduction: (pprint expr))\n",
    "    ; TODO: should we try to shift argument before everything else is done?\n",
    "    ;(if (and (coll? expr)) (setv expr (shift-arguments expr)))\n",
    "    ; if the form (expr) is not lambda for i.e. starting with L\n",
    "    ; we still want to seek if there are sub lambda expressions\n",
    "    ; (x (x (L x , x y))) should return (x (x y))\n",
    "    (if (L? expr) \n",
    "        (beta-reduction* expr)\n",
    "        (if (coll? expr)\n",
    "            ((type expr) (genexpr (beta-reduction x) [x expr]))\n",
    "            (human-readable expr))))\n",
    "  ; reformulate expression, because by using L macro, L is naturally left out from the expression\n",
    "  ; beta-reduction functions on the other hand relys on the L in the beginning of the expression!\n",
    "  ; then pass parameters and possibly expand macro form later\n",
    "  (defn evaluate-lambda-expression [expr]\n",
    "    (setv expr (beta-reduction (hy.HyExpression (extend [lambdachr] expr))))\n",
    "    (if (or (coll? expr) (symbol? expr))\n",
    "        ; symbols and expression should be pretty \"printed\"\n",
    "        (pprint expr)\n",
    "        ; numbers for example get passed as they are\n",
    "        ; this is not exactly included on lambda calculus but just a way\n",
    "        ; to keep data types existing for hy and later usage\n",
    "        expr)))\n",
    "\n",
    "; shorthand to evaluate lambda form and expand the result\n",
    "; it still has some cases, where expansion is not working as expected,\n",
    "; for example: #Ÿ(SUM (SUM ONE ONE) ZERO) ; -> (x (x (ZERO x y)))\n",
    "(defsharp Ÿ [expr] `(expand-forms (L , ~expr)))\n",
>>>>>>> e90b80c39be74d437e8b0ef771eedcd4d94ea2d2
    "\n",
    "; lambda expression main macro\n",
    "(defmacro L [&rest expr]\n",
    "  ; try except is not working alone on macro body!\n",
    "  (if-not (empty? expr)\n",
    "    (try \n",
    "      (evaluate-lambda-expression expr)\n",
    "      (except [e [RecursionError hy.errors.HyMacroExpansionError]]\n",
    "        (print (str e) \"for lambda expression:\" (pprint expr))))))\n",
    "\n",
    "; church number generator: (NUM 3) ; -> (L x y , (x (x (x y))))\n",
<<<<<<< HEAD
    ";(defmacro NUM [n &optional [x \"x\"] [y \"y\"] &rest args]\n",
    ";  `(L ~x ~y , ~(read_str (N n x y)) ~@args))\n",
    "(defmacro NUM [n &rest args]\n",
    "  `(L x y , ~(read_str (N n 'x 'y)) ~@args))\n",
    ";(defmacro NUM [n &rest args]\n",
    ";  (if (< n 0) (macro-error n (% \"For NUM n needs to be zero or more, was: %s\" n))\n",
    ";      (= n 0) `(L x y , y ~@args)\n",
    ";      (> n 0) (do (setv expr `(x y))\n",
    ";                  (for [i (range (dec n))]\n",
    ";                    (setv expr `(x ~expr)))\n",
    ";                  `(L x y , ~expr ~@args))))"
=======
    "; launch application: (NUM 3 a b) ; -> (a (a (a b)))\n",
    ";(defmacro NUM [n &rest args]\n",
    ";  `(L x y , ~(read_str (N n 'x 'y)) ~@args))\n",
    "; Tuukka Turto (@tuturto), 2017\n",
    "(defmacro NUM [n &rest args]\n",
    "  (if (< n 0) (macro-error n (% \"For NUM n needs to be zero or more, was: %s\" n))\n",
    "      (= n 0) `(L x y , y ~@args)\n",
    "      (> n 0) (do (setv expr `(x y))\n",
    "                  (for [i (range (dec n))]\n",
    "                    (setv expr `(x ~expr)))\n",
    "                  `(L x y , ~expr ~@args))))"
>>>>>>> e90b80c39be74d437e8b0ef771eedcd4d94ea2d2
   ]
  },
  {
   "cell_type": "markdown",
   "metadata": {},
   "source": [
<<<<<<< HEAD
    "### Predefined lambda forms\n",
    "\n",
    "These are the usual lambda forms from textbooks. Macros are created for shorthands. They are used to make lambda terms shorter and more comprehensible."
=======
    "### Predefined Lambda forms\n",
    "\n",
    "These are the usual Lambda forms from textbooks. Macros are created for shorthands. They are used to make Lambda terms shorter and more comprehensible."
>>>>>>> e90b80c39be74d437e8b0ef771eedcd4d94ea2d2
   ]
  },
  {
   "cell_type": "code",
   "execution_count": 3,
   "metadata": {},
   "outputs": [
    {
     "data": {
      "text/plain": [
<<<<<<< HEAD
       "<function <lambda> at 0x0000013E945AA8C8>"
=======
       "<function <lambda> at 0x000002109BB56AE8>"
>>>>>>> e90b80c39be74d437e8b0ef771eedcd4d94ea2d2
      ]
     },
     "execution_count": 3,
     "metadata": {},
     "output_type": "execute_result"
    }
   ],
   "source": [
<<<<<<< HEAD
    "; constant\n",
    "(defmacro CONST  [&rest args] `(L , ~@args))\n",
    "; identity\n",
    "(defmacro IDENT  [&rest args] `(L a , a ~@args))\n",
    "; booleans\n",
    "(defmacro TRUE   [&rest args] `(L a b , a ~@args))\n",
    "(defmacro FALSE  [&rest args] `(L a b , b ~@args))\n",
    "; replace next\n",
    "(defmacro REPLACE [&rest args] `(L a , FALSE ~@args))\n",
=======
    "; constant, doesn't take any arguments, will return given \"static\" value\n",
    "(defmacro CONST  [&rest args] `(L , ~@args))\n",
    "; identity, return passed argument as it is\n",
    "(defmacro IDENT  [&rest args] `(L a , a ~@args))\n",
    "; booleans\n",
    "; true, take two arguments, return the first and omit the second\n",
    "(defmacro TRUE   [&rest args] `(L a b , a ~@args))\n",
    "; false, take two arguments, return the second and omit the first\n",
    "(defmacro FALSE  [&rest args] `(L a b , b ~@args))\n",
    "; replace next argument with false, take one argument, but return a static FALSE value\n",
    "; if two arguments are given, then FALSE will return the latter, in a way this is similar\n",
    "; giving two arguments to FALSE\n",
    ";(defmacro REPLACE [&rest args] `(L a , FALSE ~@args))\n",
    "(defmacro REPLACE [&rest args] `(L a , (L a b , b) ~@args))\n",
>>>>>>> e90b80c39be74d437e8b0ef771eedcd4d94ea2d2
    "; omit next\n",
    "(defmacro OMIT   [&rest args] `(L a , b ~@args))\n",
    "; lists\n",
    "(defmacro NIL    [&rest args] `(FALSE ~@args))\n",
    "(defmacro PAIR   [&rest args] `(L a b s , (s a b) ~@args))\n",
    "(defmacro FIRST  [&rest args] `(TRUE ~@args))\n",
    "(defmacro SECOND [&rest args] `(FALSE ~@args))\n",
    "(defmacro HEAD   [&rest args] `(L s , (s TRUE) ~@args))\n",
    "(defmacro TAIL   [&rest args] `(L s , (s FALSE) ~@args))\n",
    "(defmacro NIL?   [&rest args] `(L s , (s FALSE TRUE) ~@args))\n",
    "; zero things\n",
    "(defmacro ZERO  [&rest args] `(FALSE ~@args))\n",
    ";(defmacro ZERO? [&rest args] `(L f , (f (L x , FALSE) TRUE) ~@args))\n",
<<<<<<< HEAD
    "(defmacro ZERO? [&rest args] `(L f , (f REPLACE TRUE) ~@args))\n",
=======
    ";(defmacro ZERO? [&rest args] `(L f , (f REPLACE TRUE) ~@args))\n",
    "(defmacro ZERO? [&rest args] `(L f , (f (L a , (L a b , b)) (L a b , a)) ~@args))\n",
>>>>>>> e90b80c39be74d437e8b0ef771eedcd4d94ea2d2
    "; logic\n",
    "(defmacro COND  [&rest args] `(L p a b , (p a b) ~@args))\n",
    "(defmacro AND   [&rest args] `(L a b , (a b FALSE) ~@args))\n",
    ";(defmacro AND2  [&rest args] `(L a b , (a b a) ~@args))\n",
    "(defmacro OR    [&rest args] `(L a b , (a TRUE b) ~@args))\n",
    ";(defmacro OR2   [&rest args] `(L a b , (a a b) ~@args))\n",
    "(defmacro NOT   [&rest args] `(L p , (p FALSE TRUE) ~@args))\n",
    ";(defmacro NOT2  [&rest args] `(L p a b , (p b a) ~@args))?\n",
    "(defmacro XOR   [&rest args] `(L a b , (a (NOT b) b) ~@args))\n",
    "; positive \"church\" numerals\n",
    ";(defmacro ONE   [&rest args] `(L x y , (x y) ~@args))\n",
    "(defmacro ONE   [&rest args] `(NUM 1 ~@args))\n",
    ";(defmacro TWO   [&rest args] `(L x y , (x (x y)) ~@args))\n",
    "(defmacro TWO   [&rest args] `(NUM 2 ~@args))\n",
    ";(defmacro THREE [&rest args] `(L x y , (x (x (x y))) ~@args))\n",
    "(defmacro THREE [&rest args] `(NUM 3 ~@args))\n",
    ";(defmacro FOUR  [&rest args] `(L x y , (x (x (x (x y)))) ~@args))\n",
    "(defmacro FOUR  [&rest args] `(NUM 4 ~@args))\n",
    ";(defmacro FIVE  [&rest args] `(L x y , (x (x (x (x (x y))))) ~@args))\n",
    "(defmacro FIVE  [&rest args] `(NUM 5 ~@args))\n",
    ";(defmacro SIX   [&rest args] `(L x y , (x (x (x (x (x (x y)))))) ~@args))\n",
    "(defmacro SIX   [&rest args] `(NUM 6 ~@args))\n",
    ";(defmacro SEVEN [&rest args] `(L x y , (x (x (x (x (x (x (x y))))))) ~@args))\n",
    "(defmacro SEVEN [&rest args] `(NUM 7 ~@args))\n",
    ";(defmacro EIGHT [&rest args] `(L x y , (x (x (x (x (x (x (x (x y)))))))) ~@args))\n",
    "(defmacro EIGHT [&rest args] `(NUM 8 ~@args))\n",
    ";(defmacro NINE  [&rest args] `(L x y , (x (x (x (x (x (x (x (x (x y))))))))) ~@args))\n",
    "(defmacro NINE  [&rest args] `(NUM 9 ~@args))\n",
    ";(defmacro TEN   [&rest args] `(L x y , (x (x (x (x (x (x (x (x (x (x y)))))))))) ~@args))\n",
    "(defmacro TEN   [&rest args] `(NUM 10 ~@args))\n",
    "; arithmetics\n",
    "; add one, increase by one\n",
    "(defmacro ADD   [&rest args] `(L n x y , (n x (x y)) ~@args))\n",
    "; next / successor = INC = ADD\n",
    "(defmacro SUCC  [&rest args] `(L n x y , (x (n x y)) ~@args))\n",
    "; previous / predecessor = DEC\n",
    ";(defmacro PRED  [&rest args] `(L n x y , (n (L g h , (h (g x))) (L x , y) (L u , u)) ~@args))\n",
<<<<<<< HEAD
    "(defmacro PRED  [&rest args] `(L n x y , (n (L g h , (h (g x))) (L x , y) IDENT) ~@args))\n",
=======
    ";(defmacro PRED  [&rest args] `(L n x y , (n (L g h , (h (g x))) (L x , y) IDENT) ~@args))\n",
    "(defmacro PRED  [&rest args] `(L n x y , (n (L g h , (h (g x))) (L x , y) (L a , a)) ~@args))\n",
>>>>>>> e90b80c39be74d437e8b0ef771eedcd4d94ea2d2
    "; substract two numbers from each other\n",
    ";(defmacro SUB   [&rest args] `(L k , (k (L p u , (u (ADD (p TRUE)) (p TRUE))) (L u , u ZERO ZERO)) ~(first args) FALSE ~@(rest args)))\n",
    "(defmacro SUB   [&rest args] `(L m n , (m PRED n) ~@args))\n",
    "; sum two numbers together\n",
    ";(defmacro SUM  [&rest args] `(L m n , (m SUCC n) ~@args))\n",
    "(defmacro SUM   [&rest args] `(L m n x y , (m x (n x y)) ~@args))\n",
    "; multiplication, product of two numbers\n",
    "(defmacro PROD  [&rest args] `(L m n x y , (m (n x) y) ~@args))\n",
    "; exponent x^y\n",
    "(defmacro EXP   [&rest args] `(L m n x y , (n m x y) ~@args))\n",
    "; lesser or equal\n",
    "(defmacro LEQ?  [&rest args] `(L m n , (ZERO? (n PRED m)) ~@args))\n",
    "; equal\n",
    "(defmacro EQ?   [&rest args] `(L m n , (AND (LEQ? m n) (LEQ? n m)) ~@args))\n",
    "; combinators / applications\n",
    "(defmacro SELF  [&rest args] `(L f x , (f f x) ~@args))\n",
<<<<<<< HEAD
=======
    "; TODO!\n",
>>>>>>> e90b80c39be74d437e8b0ef771eedcd4d94ea2d2
    "(defmacro YCOMB [&rest args] `(L f , (L x , (f (f x)) (L x , (f (f x)))) ~@args))\n",
    "; some math functions\n",
    "; ∑\n",
    "(defmacro SUMMATION [&rest args] `(L x , (SELF (L f n , (COND (ZERO? n) ZERO (SUM n (f f (PRED n))))) x) ~@args))\n",
<<<<<<< HEAD
    "; ∏\n",
    "(defmacro FACTORIAL [&rest args] `(L x , (SELF (L f n , (COND (ZERO? n) ONE (PROD (f f (PRED n)) n))) x) ~@args))\n",
    "; F\n",
=======
    "; ∏ TODO: number greater than THREE will mess up the evaluation\n",
    "; Also if number (n) is give first at: (PROD n (f f (PRED n))) it will mess up the thing\n",
    "(defmacro FACTORIAL [&rest args] `(L x , (SELF (L f n , (COND (ZERO? n) ONE (PROD (f f (PRED n)) n))) x) ~@args))\n",
    "; F TODO: implement\n",
>>>>>>> e90b80c39be74d437e8b0ef771eedcd4d94ea2d2
    "(defmacro FIBONACCI [])"
   ]
  },
  {
<<<<<<< HEAD
=======
   "cell_type": "markdown",
   "metadata": {},
   "source": [
    "### Sandbox test area"
   ]
  },
  {
>>>>>>> e90b80c39be74d437e8b0ef771eedcd4d94ea2d2
   "cell_type": "code",
   "execution_count": 4,
   "metadata": {},
   "outputs": [
    {
     "data": {
      "text/plain": [
<<<<<<< HEAD
       "'(x (x (x (x (x (x y))))))'"
=======
       "('(L a b , b)', '(L a b , b)')"
>>>>>>> e90b80c39be74d437e8b0ef771eedcd4d94ea2d2
      ]
     },
     "execution_count": 4,
     "metadata": {},
     "output_type": "execute_result"
    }
   ],
   "source": [
<<<<<<< HEAD
    "(ONE ADD TWO ADD THREE)"
=======
    "; replace form, one argument\n",
    "(, (L a , (L a b , b) l) (REPLACE l))"
>>>>>>> e90b80c39be74d437e8b0ef771eedcd4d94ea2d2
   ]
  },
  {
   "cell_type": "code",
   "execution_count": 5,
   "metadata": {},
   "outputs": [
    {
     "data": {
      "text/plain": [
<<<<<<< HEAD
       "'(x (x (x (x (x (x (ZERO x (ZERO x y))))))))'"
=======
       "('b', 'b')"
>>>>>>> e90b80c39be74d437e8b0ef771eedcd4d94ea2d2
      ]
     },
     "execution_count": 5,
     "metadata": {},
     "output_type": "execute_result"
    }
   ],
   "source": [
<<<<<<< HEAD
    "#𝜆(SUM (SUM (SUM TWO FOUR) ZERO) ZERO)"
=======
    "; replace form, two arguments\n",
    "(, (L a , (L a b , b) l m) (REPLACE l m))"
>>>>>>> e90b80c39be74d437e8b0ef771eedcd4d94ea2d2
   ]
  },
  {
   "cell_type": "code",
   "execution_count": 6,
   "metadata": {},
   "outputs": [
    {
     "data": {
      "text/plain": [
<<<<<<< HEAD
       "'(x (x (x (x (x (x (x (x (x (x (x (x (x (x (x (x (x (x (x (x (x (x (x (x y))))))))))))))))))))))))'"
=======
       "('n', 'n')"
>>>>>>> e90b80c39be74d437e8b0ef771eedcd4d94ea2d2
      ]
     },
     "execution_count": 6,
     "metadata": {},
     "output_type": "execute_result"
    }
   ],
   "source": [
<<<<<<< HEAD
    "(SELF (L f n , (COND (ZERO? n) ONE (PROD (f f (PRED n)) n))) (L x y , (x (x (x (x y)))))) ; 24"
=======
    "; replace form, three arguments\n",
    "(, (L a , (L a b , b) l m n) (REPLACE l m n))"
>>>>>>> e90b80c39be74d437e8b0ef771eedcd4d94ea2d2
   ]
  },
  {
   "cell_type": "code",
   "execution_count": 7,
   "metadata": {},
   "outputs": [
    {
     "data": {
      "text/plain": [
<<<<<<< HEAD
       "'(a (a (L x , (a (a x)))))'"
=======
       "'(x (x (x (x (x (x (x (x (x (x y))))))))))'"
>>>>>>> e90b80c39be74d437e8b0ef771eedcd4d94ea2d2
      ]
     },
     "execution_count": 7,
     "metadata": {},
     "output_type": "execute_result"
    }
   ],
   "source": [
<<<<<<< HEAD
    "(YCOMB a)"
=======
    "; infix serial notation!\n",
    "(ONE ADD TWO ADD THREE ADD FOUR)"
   ]
  },
  {
   "cell_type": "markdown",
   "metadata": {},
   "source": [
    "### Self application"
>>>>>>> e90b80c39be74d437e8b0ef771eedcd4d94ea2d2
   ]
  },
  {
   "cell_type": "code",
   "execution_count": 8,
   "metadata": {},
   "outputs": [
    {
     "data": {
      "text/plain": [
<<<<<<< HEAD
       "'((5 ^ 2) ^ 2)'"
=======
       "'(x (x (x (x (x (x y))))))'"
>>>>>>> e90b80c39be74d437e8b0ef771eedcd4d94ea2d2
      ]
     },
     "execution_count": 8,
     "metadata": {},
     "output_type": "execute_result"
    }
   ],
   "source": [
<<<<<<< HEAD
=======
    "(SELF (L f n , (COND (ZERO? n) ONE (PROD (f f (PRED n)) n))) THREE) ; 1*2*3 = 6"
   ]
  },
  {
   "cell_type": "code",
   "execution_count": 9,
   "metadata": {},
   "outputs": [
    {
     "data": {
      "text/plain": [
       "'(x (x (x (x (x (x y))))))'"
      ]
     },
     "execution_count": 9,
     "metadata": {},
     "output_type": "execute_result"
    }
   ],
   "source": [
    "; SELF\n",
    "(L f n , (f f n)\n",
    "  ; function\n",
    "  (L f n , \n",
    "    ; COND\n",
    "    (L p a b , (p a b) \n",
    "      ; if n is ZERO?\n",
    "      (L f , (f (L a , (L a b , b)) (L a b , a)) n)\n",
    "      ; then ONE\n",
    "      (L x y , (x y))\n",
    "      ; else PROD \n",
    "      (L m n x y , (m (n x) y)\n",
    "        ; function PRED n\n",
    "        (f f (L n x y , (n (L g h , (h (g x))) (L x , y) (L a , a)) n))\n",
    "        ; times n\n",
    "        n)))\n",
    "  ; THREE\n",
    "  (L x y , (x (x (x y))))) ; 1*2*3=6"
   ]
  },
  {
   "cell_type": "code",
   "execution_count": 10,
   "metadata": {},
   "outputs": [
    {
     "data": {
      "text/plain": [
       "'(x (x (x (x (x (x y))))))'"
      ]
     },
     "execution_count": 10,
     "metadata": {},
     "output_type": "execute_result"
    }
   ],
   "source": [
    "(SELF (L f n , (COND (ZERO? n) ZERO (SUM n (f f (PRED n))))) THREE) ; 1*2*3 = 6"
   ]
  },
  {
   "cell_type": "code",
   "execution_count": 11,
   "metadata": {},
   "outputs": [
    {
     "data": {
      "text/plain": [
       "'(x (x (x (x (x (x y))))))'"
      ]
     },
     "execution_count": 11,
     "metadata": {},
     "output_type": "execute_result"
    }
   ],
   "source": [
    "; SELF\n",
    "(L f n , (f f n)\n",
    "  ; function\n",
    "  (L f n , \n",
    "    ; COND\n",
    "    (L p a b , (p a b) \n",
    "      ; if n is ZERO?\n",
    "      (L f , (f (L a , (L a b , b)) (L a b , a)) n)\n",
    "      ; then ZERO\n",
    "      (L x y , y)\n",
    "      ; else SUM \n",
    "      (L m n x y , (m x (n x y))\n",
    "        ; function PRED n\n",
    "        (f f (L n x y , (n (L g h , (h (g x))) (L x , y) (L a , a)) n))\n",
    "        ; times n\n",
    "        n)))\n",
    "  ; THREE\n",
    "  (L x y , (x (x (x y))))) ; 1*2*3=6"
   ]
  },
  {
   "cell_type": "code",
   "execution_count": 12,
   "metadata": {},
   "outputs": [
    {
     "data": {
      "text/plain": [
       "'(a (a (L x , (a (a x)))))'"
      ]
     },
     "execution_count": 12,
     "metadata": {},
     "output_type": "execute_result"
    }
   ],
   "source": [
    "#Ÿ(YCOMB a)"
   ]
  },
  {
   "cell_type": "code",
   "execution_count": 13,
   "metadata": {},
   "outputs": [
    {
     "data": {
      "text/plain": [
       "'(x (x (x (x (x ((x (L a , (L a b , b)) (L a b , a)) ZERO (SUM x ((x (L g h , (h (g (L a , (L a b , b))))) (L x , (L a b , a)) (L a , a)) ZERO (SUM (PRED x) (PRED (PRED THREE) (PRED (PRED x)))))) y))))))'"
      ]
     },
     "execution_count": 13,
     "metadata": {},
     "output_type": "execute_result"
    }
   ],
   "source": [
    "(YCOMB (L f n , (COND (ZERO? n) ZERO (SUM n (f (PRED n))))) THREE) ; 1*2*3 = 6"
   ]
  },
  {
   "cell_type": "code",
   "execution_count": 14,
   "metadata": {},
   "outputs": [
    {
     "data": {
      "text/plain": [
       "'((x (L a , (L a b , b)) (L a b , a)) (L x y , y) ((x (L g h , (h (g (L a , (L a b , b))))) (L u , (L a b , a)) (L u , u)) (L x y , y) ((x (L g h , (h (g (L g h , (h (g (L u , (L u , x) (L g h , (h (g (L n x y , (n (L g h , (h (g x))) (L u , y) (L u , u)) (L n x y , (n (L g h , (h (g x))) (L u , y) (L u , u)) x))))) (L n x y , (n (L g h , (h (g x))) (L u , y) (L u , u)) (L n x y , (n (L g h , (h (g x))) (L u , y) (L u , u)) x))))))))) (L u , (L u , (L n x y , (n (L g h , (h (g x))) (L u , y) (L u , u)) x x y))) (L u , u)) (L u , u)) x (x x y)) (x (x (x (x (x y))))))'"
      ]
     },
     "execution_count": 14,
     "metadata": {},
     "output_type": "execute_result"
    }
   ],
   "source": [
    "(YCOMB\n",
    "  (L f n , \n",
    "    ; COND\n",
    "    (L p a b , (p a b) \n",
    "      ; if ZERO? n\n",
    "      (L f , (f (L a , (L a b , b)) (L a b , a)) n) \n",
    "      ; then ZERO\n",
    "      (L x y , y) \n",
    "      ; else SUM \n",
    "      (L m n x y , (m x (n x y))\n",
    "         ; function PRED n\n",
    "         (f (L n x y , (n (L g h , (h (g x))) (L u , y) (L u , u)) n))\n",
    "         ; times n\n",
    "         n)))\n",
    "  (L  x y , (x (x (x y)))))"
   ]
  },
  {
   "cell_type": "code",
   "execution_count": 15,
   "metadata": {},
   "outputs": [
    {
     "data": {
      "text/plain": [
       "'((x (x (x (x (x (x (L a , (L a b , b)))))))) (L a b , a) ONE (PROD ((x (x (x (x (x (x (L g h , (h (g (L a , (L a b , b))))))))))) (L x , (L a b , a)) (L a , a) ONE (PROD (PRED (PRED THREE) (PRED (PRED (PRED THREE (THREE x))))) (PRED (PRED THREE (THREE x))))) (PRED THREE (THREE x))) y)'"
      ]
     },
     "execution_count": 15,
     "metadata": {},
     "output_type": "execute_result"
    }
   ],
   "source": [
    "(YCOMB (L f n , (COND (ZERO? n) ONE (PROD (f (PRED n)) n))) THREE) ; 1*2*3 = 6"
   ]
  },
  {
   "cell_type": "code",
   "execution_count": 16,
   "metadata": {},
   "outputs": [
    {
     "data": {
      "text/plain": [
       "'((x (x (x (x (x (x (L a , (L a b , b)))))))) (L a b , a) (L x y , (x y)) ((x (x (x (x (x (x (L g h , (h (g (L a , (L a b , b))))))))))) (L u , (L a b , a)) (L u , u) (L x y , (x y)) ((x (x (x (x (x (x (L g h , (h (g (L g h , (h (g (L u , (L u , (L n x y , (n (L g h , (h (g x))) (L u , y) (L u , u)) (L n x y , (n (L g h , (h (g x))) (L u , y) (L u , u)) (L x y , (x (x (x y)))) (L x y , (x (x (x y))) x)) x)) (L g h , (h (g (L n x y , (n (L g h , (h (g x))) (L u , y) (L u , u)) (L n x y , (n (L g h , (h (g x))) (L u , y) (L u , u)) (L n x y , (n (L g h , (h (g x))) (L u , y) (L u , u)) (L x y , (x (x (x y)))) (L x y , (x (x (x y))) x))))))) (L n x y , (n (L g h , (h (g x))) (L u , y) (L u , u)) (L n x y , (n (L g h , (h (g x))) (L u , y) (L u , u)) (L n x y , (n (L g h , (h (g x))) (L u , y) (L u , u)) (L x y , (x (x (x y)))) (L x y , (x (x (x y))) x))))))))))))))))) (L u , (L u , y)) (L u , u) (L u , u)) (x (x (x (x (x (x x)))))) y) y)'"
      ]
     },
     "execution_count": 16,
     "metadata": {},
     "output_type": "execute_result"
    }
   ],
   "source": [
    "(YCOMB\n",
    "  (L f n , \n",
    "    ; COND\n",
    "    (L p a b , (p a b) \n",
    "      ; if ZERO? n\n",
    "      (L f , (f (L a , (L a b , b)) (L a b , a)) n) \n",
    "      ; then ONE\n",
    "      (L x y , (x y)) \n",
    "      ; else PROD \n",
    "      (L m n x y , (m (n x) y) \n",
    "         ; function PRED n\n",
    "         (f (L n x y , (n (L g h , (h (g x))) (L u , y) (L u , u)) n))\n",
    "         ; times n\n",
    "         n)))\n",
    "  (L  x y , (x (x (x y)))))"
   ]
  },
  {
   "cell_type": "code",
   "execution_count": 17,
   "metadata": {},
   "outputs": [
    {
     "data": {
      "text/plain": [
       "'((5 ^ 2) ^ 2)'"
      ]
     },
     "execution_count": 17,
     "metadata": {},
     "output_type": "execute_result"
    }
   ],
   "source": [
    "; https://stackoverflow.com/questions/36511989/lambda-calculus-reduction-evaluating-expr\n",
>>>>>>> e90b80c39be74d437e8b0ef771eedcd4d94ea2d2
    "(L f x , (f (f x)) (L y , (y ^ 2)) 5)"
   ]
  },
  {
   "cell_type": "markdown",
   "metadata": {},
   "source": [
    "## Tests\n",
    "\n",
    "### Function and application constructors"
   ]
  },
  {
   "cell_type": "code",
<<<<<<< HEAD
   "execution_count": 9,
=======
   "execution_count": 18,
>>>>>>> e90b80c39be74d437e8b0ef771eedcd4d94ea2d2
   "metadata": {
    "collapsed": true
   },
   "outputs": [],
   "source": [
    "; not lambda expression\n",
    "(assert (= (, 'x) (, 'x)))\n",
    "; no body lambda expression\n",
    "(assert (= (L ,) None))\n",
    "; constant\n",
    "(assert (= (L , c) 'c))\n",
    "; identity, without argument\n",
    "(assert (= (L x , x) \"(L x , x)\"))\n",
    "; identity, with argument\n",
    "(assert (= (L x , x y) 'y))\n",
    "; select first, without arguments\n",
    "(assert (= (L x y , x) \"(L x y , x)\"))\n",
    "; select second, without arguments\n",
    "(assert (= (L x y , y) \"(L x y , y)\"))\n",
    "; select first, with arguments\n",
    "(assert (= (L x y , x 1 0) 1))\n",
    "; select second, with arguments\n",
    "(assert (= (L x y , y 1 0) 0))\n",
    "; function without arguments\n",
    "(assert (= (L x y z , (x y z)) \"(L x y z , (x y z))\"))\n",
    "; nested functions and arguments\n",
    "(assert (= (L x , (L y , (L z , (z x y) l) k) j) \"(l j k)\"))\n",
    "; nested functions, flatten arguments\n",
    "(assert (= (L x , (L y , (L z , (z x y))) j k l) \"(l j k)\"))\n",
    "; flatten functions and arguments\n",
    "(assert (= (L x y z , (z x y) j k l) \"(l j k)\"))\n",
    "; application without arguments\n",
    "(assert (= (L , ((L x y z , (x y z)))) \"(L x y z , (x y z))\"))\n",
    "; application with arguments\n",
    "(assert (= (L , ((L x y z , (x y z)) a b c)) \"(a b c)\"))\n",
    "; free argument\n",
    "(assert (= (L x , x y z) \"(y z)\"))\n",
    "; nested\n",
    "(assert (= (L , ((L x y z , (x y z) x y z) a b c) 1 2 3) \"((x y z) a b c 1 2 3)\"))"
   ]
  },
  {
   "cell_type": "markdown",
   "metadata": {},
   "source": [
<<<<<<< HEAD
=======
    "### Alpha conversion"
   ]
  },
  {
   "cell_type": "code",
   "execution_count": 19,
   "metadata": {
    "collapsed": true
   },
   "outputs": [],
   "source": [
    "; variable renaming should give right result\n",
    "; instead of first substituting x with y, and then both y's with z, resulting (2 2)\n",
    "; this test should give (y z) because y is bound to x and x only. latter y should not replace it\n",
    "(assert (= (L x y , (x y) y z) \"(y z)\"))\n",
    "; same should apply to deeper values too\n",
    "(assert (= (L x y , (x y) (y (y z)) z) \"((y (y z)) z)\"))"
   ]
  },
  {
   "cell_type": "markdown",
   "metadata": {},
   "source": [
>>>>>>> e90b80c39be74d437e8b0ef771eedcd4d94ea2d2
    "### Basic shorthand forms"
   ]
  },
  {
   "cell_type": "code",
<<<<<<< HEAD
   "execution_count": 10,
=======
   "execution_count": 20,
>>>>>>> e90b80c39be74d437e8b0ef771eedcd4d94ea2d2
   "metadata": {
    "collapsed": true
   },
   "outputs": [],
   "source": [
    "; special macros for main lambda terms / forms\n",
    "; constant\n",
    "(assert (= (CONST x) 'x))\n",
    "; identity, without arguments\n",
    "(assert (= (IDENT) \"(L a , a)\"))\n",
    "; identity, with arguments\n",
    "(assert (= (IDENT 1) 1))\n",
    "; identity, nested\n",
    "(assert (= (IDENT (IDENT 1)) 1))\n",
    "; boolean macros\n",
    "(assert (= (, (TRUE) (TRUE 1 0) \n",
    "              (FALSE) (FALSE 1 0)) \n",
    "           (, \"(L a b , a)\" 1 \n",
    "              \"(L a b , b)\" 0)))"
   ]
  },
  {
   "cell_type": "markdown",
   "metadata": {},
   "source": [
    "### List shorthand forms"
   ]
  },
  {
   "cell_type": "code",
<<<<<<< HEAD
   "execution_count": 11,
=======
   "execution_count": 21,
>>>>>>> e90b80c39be74d437e8b0ef771eedcd4d94ea2d2
   "metadata": {
    "collapsed": true
   },
   "outputs": [],
   "source": [
    "; lists\n",
    "(assert (= (NIL) \"(L a b , b)\"))\n",
    "; pair constructor\n",
    "(assert (= (PAIR TRUE NIL) \"(s TRUE NIL)\"))\n",
    "; selector\n",
    "(assert (= (PAIR TRUE NIL FIRST) 'TRUE))\n",
    "; head and tail\n",
    "(assert (= (, (HEAD (PAIR TRUE NIL)) \n",
    "              (TAIL (PAIR TRUE NIL))) \n",
    "           (, 'TRUE 'NIL)))\n",
    "; is nil, simple\n",
    "(assert (= (, (NIL? NIL) (NIL? TRUE)) (, 'TRUE 'FALSE)))\n",
    "; is nil, head and tail\n",
    "(assert (= (, (NIL? (HEAD (PAIR TRUE NIL))) \n",
    "              (NIL? (TAIL (PAIR TRUE NIL)))) \n",
    "           (, 'FALSE 'TRUE)))\n",
    "; nested pairs and heads and tails\n",
    "(assert (=\n",
    "   (, (HEAD (PAIR TRUE (PAIR TRUE NIL))) \n",
    "      (HEAD (TAIL (PAIR TRUE (PAIR TRUE NIL))))\n",
    "      (TAIL (TAIL (PAIR TRUE (PAIR TRUE NIL)))))\n",
    "   (, 'TRUE 'TRUE 'NIL)))\n",
    "; nil? for nested pairs\n",
    "(assert (=\n",
    "  (, (NIL? (TAIL (TAIL (PAIR TRUE (PAIR TRUE NIL))))) \n",
    "     (NIL? (HEAD (TAIL (PAIR TRUE (PAIR TRUE NIL))))))\n",
    "  (, 'TRUE 'FALSE)))\n",
    "; selectors for pairs\n",
    "(assert (=  (, (PAIR (PAIR TRUE FALSE FIRST) NIL FIRST)\n",
    "               (PAIR (PAIR TRUE FALSE SECOND) NIL FIRST)\n",
    "               (PAIR (PAIR TRUE FALSE FIRST) NIL SECOND)\n",
    "               (PAIR (PAIR TRUE FALSE SECOND) NIL SECOND)\n",
    "               (PAIR TRUE (PAIR TRUE NIL FIRST) FIRST)\n",
    "               (PAIR TRUE (PAIR TRUE NIL SECOND) FIRST)\n",
    "               (PAIR TRUE (PAIR TRUE NIL FIRST) SECOND)\n",
    "               (PAIR TRUE (PAIR TRUE NIL SECOND) SECOND))\n",
    "            (, 'TRUE 'FALSE 'NIL 'NIL\n",
    "               'TRUE 'TRUE 'TRUE 'NIL)))\n",
    "; simple condition\n",
    "(assert (=\n",
    "    (, (COND TRUE TRUE FALSE) \n",
    "       (COND FALSE TRUE FALSE))\n",
    "    (, 'TRUE 'FALSE)))\n",
    "; number nil? conditions\n",
    "(assert (=\n",
    "    (, (COND (NIL? (NUM 0)) TRUE FALSE)\n",
    "       (COND (NIL? (NUM 1)) TRUE FALSE)\n",
    "       (COND (NIL? (NUM 10)) TRUE FALSE))\n",
    "    (, 'TRUE 'FALSE 'FALSE)))\n",
    "; nil tail/head pair condition\n",
    "(assert (=\n",
    "    (, (COND (NIL? (TAIL (PAIR (NUM 1) NIL))) TRUE FALSE)\n",
    "       (COND (NIL? (HEAD (PAIR (NUM 1) NIL))) TRUE FALSE))\n",
    "    (, 'TRUE 'FALSE)))"
   ]
  },
  {
   "cell_type": "markdown",
   "metadata": {},
   "source": [
    "### Church numerals shorthands"
   ]
  },
  {
   "cell_type": "code",
<<<<<<< HEAD
   "execution_count": 12,
=======
   "execution_count": 22,
>>>>>>> e90b80c39be74d437e8b0ef771eedcd4d94ea2d2
   "metadata": {
    "collapsed": true
   },
   "outputs": [],
   "source": [
    "; church numeral general generator, without arguments\n",
    "(assert (= (NUM 3) \"(L x y , (x (x (x y))))\"))\n",
    "; church numeral, general generator, with arguments\n",
    "(assert (= (NUM 3 m n) \"(m (m (m n)))\"))\n",
    "; church numeral, zero\n",
    "(assert (= (ZERO) \"(L a b , b)\"))\n",
    "; church numeral, zero with arguments\n",
    "(assert (= (ZERO a b) 'b))\n",
    ";(assert (= (, (ZERO) (ZERO a b) (ONE) #𝜆(TWO x y) (THREE m n))\n",
    "           ;('(L a b , b)', 'b', '(L x y , (x y))', '(x (x y))', '(m (m (m n)))')\n",
    ";           (, \"(L a b , b)\" \"b\", \"(L x y , (x y))\" \"(x (x y))\" \"(m (m (m n)))\")))"
   ]
  },
  {
   "cell_type": "markdown",
   "metadata": {},
   "source": [
    "### Logic operator shorthands"
   ]
  },
  {
   "cell_type": "code",
<<<<<<< HEAD
   "execution_count": 13,
=======
   "execution_count": 23,
>>>>>>> e90b80c39be74d437e8b0ef771eedcd4d94ea2d2
   "metadata": {
    "collapsed": true
   },
   "outputs": [],
   "source": [
    "; and tests\n",
    "(assert (=\n",
    "  (, (AND TRUE TRUE) (AND TRUE FALSE)\n",
    "     (AND FALSE TRUE) (AND FALSE FALSE))\n",
    "  (, 'TRUE 'FALSE 'FALSE 'FALSE)))\n",
    "; or tests\n",
    "(assert (=\n",
    "  (, (OR TRUE TRUE) (OR TRUE FALSE)\n",
    "     (OR FALSE TRUE) (OR FALSE FALSE))\n",
    "  (, 'TRUE 'TRUE 'TRUE 'FALSE)))\n",
    "; not tests\n",
    "(assert (= (, (NOT TRUE) (NOT FALSE)) (, 'FALSE 'TRUE)))\n",
    "; xor tests\n",
    "(assert (= \n",
    "  (, (XOR TRUE TRUE) (XOR TRUE FALSE)\n",
    "     (XOR FALSE TRUE) (XOR FALSE FALSE))\n",
    "  (, 'FALSE 'TRUE 'TRUE 'FALSE)))\n",
    "; logic condition\n",
    "(assert (= (COND (AND (NOT (XOR FALSE FALSE)) (OR TRUE FALSE)) TRUE FALSE) 'TRUE))\n",
    "; eval read str\n",
    "(assert (= (eval (read-str \"(TRUE)\")) \"(L a b , a)\"))\n",
    "; less or equal\n",
    "(assert (= (, (LEQ? ONE TWO) (LEQ? TWO ONE)  (LEQ? ONE ONE) \n",
    "           (, 'TRUE 'FALSE 'TRUE))))\n",
    "; equal\n",
    "(assert (= (, (EQ? ONE TWO) (EQ? TWO ONE)  (EQ? ONE ONE) \n",
    "           (, 'FALSE 'FALSE 'TRUE))))"
   ]
  },
  {
   "cell_type": "code",
<<<<<<< HEAD
   "execution_count": 14,
=======
   "execution_count": 24,
>>>>>>> e90b80c39be74d437e8b0ef771eedcd4d94ea2d2
   "metadata": {
    "collapsed": true
   },
   "outputs": [],
   "source": [
    "; math operations\n",
    "; next, inc, successive\n",
<<<<<<< HEAD
    "(assert (= #𝜆(SUCC ONE) \"(x (x y))\"))\n",
=======
    "(assert (= #Ÿ(SUCC ONE) \"(x (x y))\"))\n",
>>>>>>> e90b80c39be74d437e8b0ef771eedcd4d94ea2d2
    "; add is same as succ\n",
    "(assert (= (ADD ONE) \"(x (x y))\"))\n",
    "; infix notation\n",
    "(assert (= (ONE ADD ONE ADD ONE) \"(x (x (x y)))\"))\n",
    "; previous, dec, predecessive\n",
    "(assert (= (PRED THREE) \"(x (x y))\"))\n",
    "; previous, dec, predecessor, with arguments\n",
    "(assert (= (PRED THREE a b) \"(a (a b))\"))\n",
    "; nested predecessor\n",
    "(assert (= (PRED (PRED (PRED FOUR))) \"(x y)\"))\n",
    "; previous + next is same\n",
<<<<<<< HEAD
    "(assert (= #𝜆(SUCC (PRED TWO)) \"(x (x y))\"))\n",
    "; previous + next is same for zero\n",
    "(assert (= (PRED (SUCC ZERO)) 'y))\n",
    "; but previous + next is one for zero!\n",
    "(assert (= #𝜆(SUCC (PRED ZERO)) \"(x y)\"))\n",
    "; sum two values\n",
    "(assert (= #𝜆(SUM TWO TWO) \"(x (x (x (x y))))\"))\n",
    "; substract two x from y\n",
    "(assert (= (, (SUB ONE TWO) (SUB ONE ONE) (SUB TWO ONE))\n",
    "           (, \"(x y)\" 'y 'y)))\n",
    "(assert (= (, #𝜆(EXP TWO TWO) #𝜆(EXP TEN ZERO) #𝜆(EXP ZERO ZERO))\n",
    "           (, \"(x (x (x (x y))))\" \"(x y)\" \"(x y)\")))\n",
    "(assert (= (, #𝜆(PROD ZERO ONE a b) #𝜆(PROD ONE ONE a b) #𝜆(PROD TWO TWO a b))\n",
=======
    "(assert (= #Ÿ(SUCC (PRED TWO)) \"(x (x y))\"))\n",
    "; previous + next is same for zero\n",
    "(assert (= (PRED (SUCC ZERO)) 'y))\n",
    "; but previous + next is one for zero!\n",
    "(assert (= #Ÿ(SUCC (PRED ZERO)) \"(x y)\"))\n",
    "; sum two values\n",
    "(assert (= #Ÿ(SUM TWO TWO) \"(x (x (x (x y))))\"))\n",
    "; substract two x from y\n",
    "(assert (= (, (SUB ONE TWO) (SUB ONE ONE) (SUB TWO ONE))\n",
    "           (, \"(x y)\" 'y 'y)))\n",
    "(assert (= (, #Ÿ(EXP TWO TWO) #Ÿ(EXP TEN ZERO) #Ÿ(EXP ZERO ZERO))\n",
    "           (, \"(x (x (x (x y))))\" \"(x y)\" \"(x y)\")))\n",
    "(assert (= (, #Ÿ(PROD ZERO ONE a b) #Ÿ(PROD ONE ONE a b) #Ÿ(PROD TWO TWO a b))\n",
>>>>>>> e90b80c39be74d437e8b0ef771eedcd4d94ea2d2
    "           (, 'b \"(a b)\" \"(a (a (a (a b))))\")))\n",
    "; self application\n",
    "(assert (= (SELF (L x , x) 1) 1))\n",
    "; self application, fixed point\n",
    ";count down to zero\n",
    "(assert (= (SELF (L f n , (COND (ZERO? n) ZERO (f f (PRED n)))) THREE) 'ZERO))\n",
    "; count down to one with lesser or equal comparison\n",
    "(assert (= (SELF (L f n , (COND (LEQ? n ONE) n (f f (PRED n)))) FOUR) \"(x y)\"))\n",
    "; count down to one with equal comparison\n",
    "(assert (= (SELF (L f n , (COND (EQ? n ONE) n (f f (PRED n)))) FOUR) \"(x y)\"))"
   ]
  },
  {
   "cell_type": "markdown",
   "metadata": {},
   "source": [
    "### Math function shorthands"
   ]
  },
  {
   "cell_type": "code",
<<<<<<< HEAD
   "execution_count": 15,
=======
   "execution_count": 25,
>>>>>>> e90b80c39be74d437e8b0ef771eedcd4d94ea2d2
   "metadata": {
    "collapsed": true
   },
   "outputs": [],
   "source": [
<<<<<<< HEAD
    "; summation sequence\n",
    "(assert (= (SUMMATION THREE) \"(x (x (x (x (x (x y))))))\"))\n",
    "; product sequence\n",
=======
    "; summation sequence, with plain number\n",
    "(assert (= (SUMMATION (L x y , (x (x (x y))))) \"(x (x (x (x (x (x y))))))\"))\n",
    "; summation sequence, with number macro form\n",
    "(assert (= (SUMMATION THREE) \"(x (x (x (x (x (x y))))))\"))\n",
    "; product sequence, with plain number\n",
    "(assert (= (FACTORIAL (L x y , (x (x (x y))))) \"(x (x (x (x (x (x y))))))\"))\n",
    "; product sequence, with number macro form\n",
>>>>>>> e90b80c39be74d437e8b0ef771eedcd4d94ea2d2
    "(assert (= (FACTORIAL THREE) \"(x (x (x (x (x (x y))))))\"))"
   ]
  },
  {
   "cell_type": "markdown",
   "metadata": {},
   "source": [
    "### Infinite loop"
   ]
  },
  {
   "cell_type": "code",
<<<<<<< HEAD
   "execution_count": 16,
=======
   "execution_count": 26,
>>>>>>> e90b80c39be74d437e8b0ef771eedcd4d94ea2d2
   "metadata": {},
   "outputs": [
    {
     "name": "stdout",
     "output_type": "stream",
     "text": [
<<<<<<< HEAD
      "maximum recursion depth exceeded in comparison for lambda expression: (x , (x x) (L x , (x x)))\n"
=======
      "maximum recursion depth exceeded while calling a Python object for lambda expression: (x , (x x) (L x , (x x)))\n"
>>>>>>> e90b80c39be74d437e8b0ef771eedcd4d94ea2d2
     ]
    }
   ],
   "source": [
    "; self application recursive loop\n",
    "(setv result (L x , (x x) (L x , (x x))))\n",
    "(assert (none? result))"
   ]
  },
  {
   "cell_type": "markdown",
   "metadata": {},
   "source": [
    "## The [MIT](http://choosealicense.com/licenses/mit/) License\n",
    "\n",
    "Copyright (c) 2017 Marko Manninen"
   ]
  }
 ],
 "metadata": {
  "kernelspec": {
   "display_name": "Calysto Hy",
   "language": "hy",
   "name": "calysto_hy"
  },
  "language_info": {
   "codemirror_mode": {
    "name": "scheme"
   },
   "mimetype": "text/x-hylang",
   "name": "hy",
   "pygments_lexer": "lisp"
  }
 },
 "nbformat": 4,
 "nbformat_minor": 2
}
