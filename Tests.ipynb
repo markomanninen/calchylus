{
 "cells": [
  {
   "cell_type": "code",
   "execution_count": 1,
   "metadata": {},
   "outputs": [
    {
     "name": "stdout",
     "output_type": "stream",
     "text": [
      "Hy version:  0.13.0\n",
      "Python 3.6.2 | packaged by conda-forge | (default, Jul 23 2017, 22:58:45) [MSC v.1900 64 bit (AMD64)]\n"
     ]
    }
   ],
   "source": [
    "(import hy sys)\n",
    "(print \"Hy version: \" hy.__version__)\n",
    "(print \"Python\" sys.version)"
   ]
  },
  {
   "cell_type": "code",
   "execution_count": 2,
   "metadata": {
    "collapsed": true
   },
   "outputs": [],
   "source": [
    "(require (calchylus.lambdas [*]))"
   ]
  },
  {
   "cell_type": "code",
   "execution_count": 3,
   "metadata": {},
   "outputs": [
    {
     "data": {
      "text/plain": [
       "<function <lambda> at 0x00000276EB570BF8>"
      ]
     },
     "execution_count": 3,
     "metadata": {},
     "output_type": "execute_result"
    }
   ],
   "source": [
    "(with-alpha-conversion-nor-macros L , )\n",
    "; not lambda expression\n",
    "(assert (= (, 'x) (, 'x)))\n",
    "; no body lambda expression\n",
    "(assert (= (L ,) None))\n",
    "; constant\n",
    "(assert (= (L , c) 'c))\n",
    "; identity, without argument\n",
    "(assert (= (L x , x) \"(L x , x)\"))\n",
    "; identity, with argument\n",
    "(assert (= (L x , x y) 'y))\n",
    "; select first, without arguments\n",
    "(assert (= (L x y , x) \"(L x y , x)\"))\n",
    "; select second, without arguments\n",
    "(assert (= (L x y , y) \"(L x y , y)\"))\n",
    "; select first, with arguments\n",
    "(assert (= (L x y , x 1 0) 1))\n",
    "; select second, with arguments\n",
    "(assert (= (L x y , y 1 0) 0))\n",
    "; multiary function without arguments\n",
    "(assert (= (L x y z , (x y z)) \"(L x y z , (x y z))\"))\n",
    "; nested functions and arguments\n",
    "(assert (= (L x , (L y , (L z , (z x y) l) k) j) \"(l j k)\"))\n",
    "; nested functions, flatten arguments\n",
    "(assert (= (L x , (L y , (L z , (z x y))) j k l) \"(l j k)\"))\n",
    "; multiary function with arguments\n",
    "(assert (= (L x y z , (z x y) j k l) \"(l j k)\"))\n",
    "; application without arguments\n",
    "(assert (= (L , ((L x y z , (x y z)))) \"(L x y z , (x y z))\"))\n",
    "; application with arguments\n",
    "(assert (= (L , ((L x y z , (x y z)) a b c)) \"(a b c)\"))\n",
    "; any free arguments should be returned on the final result\n",
    "(assert (= (L x , x y z) \"(y z)\"))\n",
    "; nested free arguments\n",
    "(assert (= (L , ((L x y z , (x y z) l m n) a b c) 1 2 3) \"((l m n) a b c 1 2 3)\"))"
   ]
  },
  {
   "cell_type": "code",
   "execution_count": 4,
   "metadata": {},
   "outputs": [
    {
     "data": {
      "text/plain": [
       "<function <lambda> at 0x00000276EB570D08>"
      ]
     },
     "execution_count": 4,
     "metadata": {},
     "output_type": "execute_result"
    }
   ],
   "source": [
    "(with-alpha-conversion-nor-macros 𝜆 ·)\n",
    "; using application shapr macro, starting with lambda expression\n",
    "(assert (= #Ÿ(𝜆 x · x) \"(𝜆 x · x)\"))\n",
    "; using application shapr macro, lambda expressionin the middle\n",
    "(assert (= #Ÿ(x (x (𝜆 x · x y))) \"(x (x y))\"))\n",
    "; return whole abstraction\n",
    "(assert (= (𝜆 x · (𝜆 y · (𝜆 z · (x y z)))) \"(𝜆 x · (𝜆 y · (𝜆 z · (x y z))))\"))\n",
    "; evaluate first abstraction, return rest abstraction levels\n",
    "(assert (= (𝜆 x · (𝜆 y · (𝜆 z · (x y z))) 1) \"(𝜆 y · (𝜆 z · (1 y z)))\"))\n",
    "; evaluate first and second abstraction, return rest abstraction levels\n",
    "(assert (= (𝜆 x · (𝜆 y · (𝜆 z · (x y z))) 1 2) \"(𝜆 z · (1 2 z))\"))\n",
    "; evaluate first, second, and the third abstraction, return fully evaluated result\n",
    "(assert (= (𝜆 x · (𝜆 y · (𝜆 z · (x y z))) 1 2 3) \"(1 2 3)\"))"
   ]
  },
  {
   "cell_type": "code",
   "execution_count": 5,
   "metadata": {},
   "outputs": [
    {
     "data": {
      "text/plain": [
       "<function <lambda> at 0x00000276EB3AB048>"
      ]
     },
     "execution_count": 5,
     "metadata": {},
     "output_type": "execute_result"
    }
   ],
   "source": [
    "(with-alpha-conversion-nor-macros L ,)\n",
    "; without variable renaming next result is given\n",
    "; first substitute x with y, and then both y's with z, resulting (z z)\n",
    "(assert (= (L x y , (x y) y z) \"(z z)\"))\n",
    "; same should apply to deeper values too\n",
    "(assert (= (L x y , (x y) (y (y z)) z) \"((z (z z)) z)\"))\n",
    "\n",
    "(with-alpha-conversion L , )\n",
    "; using variable renaming / alpha conversion to prevent name collision should give right result\n",
    "; instead of first substituting x with y, and then both y's with z\n",
    "; this test should give (y z) because y is bound to x only. latter y should not replace it\n",
    "(assert (= (L x y , (x y) y z) \"(y z)\"))\n",
    "; same should apply to deeper values too. note similarity with LET and LET* macro handler!\n",
    "(assert (= (L x y , (x y) (y (y z)) z) \"((y (y z)) z)\"))"
   ]
  },
  {
   "cell_type": "code",
   "execution_count": 6,
   "metadata": {},
   "outputs": [
    {
     "data": {
      "text/plain": [
       "<function <lambda> at 0x00000276EB56A0D0>"
      ]
     },
     "execution_count": 6,
     "metadata": {},
     "output_type": "execute_result"
    }
   ],
   "source": [
    "(with-macros L , )\n",
    "; special macros for main lambda terms / forms\n",
    "; constant\n",
    "(assert (= (CONST x) None))\n",
    "(assert (= (CONST x 1) \"(L x , 1)\"))\n",
    "(assert (= (CONST x 1 2) 1))\n",
    "; identity, without arguments\n",
    "(assert (= (IDENT) \"(L a , a)\"))\n",
    "; identity, with arguments\n",
    "(assert (= (IDENT 1) 1))\n",
    "; identity, nested\n",
    "(assert (= (IDENT (IDENT 1)) 1))\n",
    "; boolean macros\n",
    "(assert (= (, (TRUE) (TRUE 1 0) \n",
    "              (FALSE) (FALSE 1 0)) \n",
    "           (, \"(L a b , a)\" 1 \n",
    "              \"(L a b , b)\" 0)))"
   ]
  },
  {
   "cell_type": "code",
   "execution_count": 7,
   "metadata": {},
   "outputs": [],
   "source": [
    "; lists\n",
    "(assert (= (NIL) \"(L a b , b)\"))\n",
    "; pair constructor\n",
    "(assert (= (PAIR TRUE NIL) \"(s (L a b , a) (L a b , b))\"))\n",
    "; selector\n",
    "(assert (= (PAIR TRUE NIL TRUE) (TRUE)))\n",
    "; selector\n",
    "(assert (= (PAIR TRUE NIL FALSE) (NIL)))\n",
    "; head and tail\n",
    "(assert (= (, (HEAD (PAIR TRUE NIL)) \n",
    "              (TAIL (PAIR TRUE NIL))) \n",
    "           (, (TRUE) (NIL))))\n",
    "; is nil, simple\n",
    "(assert (= (, (NIL? NIL) (NIL? FALSE) (NIL? TRUE) (NIL? ONE))\n",
    "           (, (TRUE) (TRUE) \"(L a , (L a b , b))\" (FALSE))))\n",
    "; is nil, head and tail\n",
    "(assert (= (, (NIL? (HEAD (PAIR ONE NIL))) \n",
    "              (NIL? (TAIL (PAIR ONE NIL)))) \n",
    "           (, (FALSE) (TRUE))))\n",
    "; nested pairs and heads and tails\n",
    "(assert (=\n",
    "   (, (HEAD (PAIR TRUE (PAIR TRUE NIL))) \n",
    "      (HEAD (TAIL (PAIR TRUE (PAIR TRUE NIL))))\n",
    "      (TAIL (TAIL (PAIR TRUE (PAIR TRUE NIL)))))\n",
    "   (, (TRUE) (TRUE) (NIL))))\n",
    "; nil? for nested pairs\n",
    "(assert (=\n",
    "  (, (NIL? (TAIL (TAIL (PAIR ONE (PAIR ONE NIL))))) \n",
    "     (NIL? (HEAD (TAIL (PAIR ONE (PAIR ONE NIL))))))\n",
    "  (, (TRUE) (FALSE))))\n",
    "; simple condition\n",
    "(assert (=\n",
    "    (, (COND TRUE TRUE FALSE) \n",
    "       (COND FALSE TRUE FALSE))\n",
    "    (, (TRUE) (FALSE))))\n",
    "; number nil? conditions\n",
    "(assert (=\n",
    "    (, (COND (NIL? (NUM 0)) TRUE FALSE)\n",
    "       (COND (NIL? (NUM 1)) TRUE FALSE)\n",
    "       (COND (NIL? (NUM 10)) TRUE FALSE))\n",
    "    (, (TRUE) (FALSE) (FALSE))))\n",
    "; nil tail/head pair condition\n",
    "(assert (=\n",
    "    (, (COND (NIL? (TAIL (PAIR (NUM 1) NIL))) TRUE FALSE)\n",
    "       (COND (NIL? (HEAD (PAIR (NUM 1) NIL))) TRUE FALSE))\n",
    "    (, (TRUE) (FALSE))))\n",
    "; TODO: this requires some thinking, nil to lists should be done with\n",
    "; empty? check?\n",
    "(assert (= (, (NIL? (PAIR ONE TWO)) (NIL? (LIST ONE TWO)) (NIL? (LIST)))\n",
    "           (, (TRUE) (TRUE) (TRUE))))"
   ]
  },
  {
   "cell_type": "code",
   "execution_count": 8,
   "metadata": {
    "collapsed": true
   },
   "outputs": [],
   "source": [
    "; church numeral general generator, without arguments\n",
    "(assert (= (NUM 3) \"(L x y , (x (x (x y))))\"))\n",
    "; church numeral, general generator, with arguments\n",
    "(assert (= (NUM 3 m n) \"(m (m (m n)))\"))\n",
    "; church numeral, zero\n",
    "(assert (= (ZERO) \"(L a b , b)\"))\n",
    "; church numeral, zero with arguments\n",
    "(assert (= (ZERO a b) 'b))\n",
    "(assert (= (, (ZERO) (ZERO x y) (ONE) (TWO x y) (THREE m n))\n",
    "           (, \"(L a b , b)\" \"y\" \"(L x y , (x y))\" \"(x (x y))\" \"(m (m (m n)))\")))\n",
    "; if TRUE is given, then the third option is activated!\n",
    "(assert (= (ZERO? TRUE a b c) 'c))"
   ]
  },
  {
   "cell_type": "code",
   "execution_count": 9,
   "metadata": {},
   "outputs": [],
   "source": [
    "; lists\n",
    "; empty\n",
    "(assert (= (LIST) \n",
    "           \"(s (L a b , b) (L a b , b))\"))\n",
    "(assert (= (LIST NIL) \n",
    "           \"(s (L a b , b) (s (L a b , b) (L a b , b)))\"))\n",
    "; one item\n",
    "(assert (= (LIST ONE) \n",
    "           \"(s (L x y , (x y)) (s (L a b , b) (L a b , b)))\"))\n",
    "; three items\n",
    "(assert (= (LIST ONE TWO) \n",
    "           \"(s (L x y , (x y)) (s (L x y , (x (x y))) (s (L a b , b) (L a b , b))))\"))\n",
    "; first\n",
    "(assert (= (FIRST (LIST ONE TWO THREE)) (ONE)))\n",
    "; second\n",
    "(assert (= (SECOND (LIST ONE TWO THREE)) (TWO)))\n",
    "; last\n",
    "(assert (= (LAST (LIST ONE TWO THREE)) (THREE)))\n",
    "; append to the end of the list\n",
    "(assert (= (LAST (APPEND FOUR (LIST ONE TWO THREE))) (FOUR)))"
   ]
  },
  {
   "cell_type": "code",
   "execution_count": 10,
   "metadata": {
    "collapsed": true
   },
   "outputs": [],
   "source": [
    "; letters\n",
    "(assert (= (LET a 1 b 2 d 3 (a b c d)) \"(1 2 c 3)\"))\n",
    "(assert (= (LET a 1 (a a (L a , a 2))) \"(1 1 2)\"))\n",
    "(assert (= (LET a 1 b a (a b)) \"(1 a)\"))\n",
    "(assert (= (LET a 1 c (a b) (LET b a c)) \"(a 1)\"))\n",
    "(assert (= (LET a 1 c (LET b a c) (a b)) \"(1 b)\"))\n",
    "(assert (= (LET a 1 b (a b) b) \"(a b)\"))\n",
    "(assert (= (LET a 1 (LET b a (a b))) \"(1 1)\"))\n",
    "(assert (= (LET* a 1 b a (a b)) \"(1 1)\"))\n",
    "(assert (= (LET x) \"x\"))\n",
    "(assert (= (LET* x) \"x\"))\n",
    "(assert (= (LET) \"()\"))\n",
    "(assert (= (LET*) \"()\"))"
   ]
  },
  {
   "cell_type": "code",
   "execution_count": 11,
   "metadata": {
    "collapsed": true
   },
   "outputs": [],
   "source": [
    "; do structure\n",
    "(assert (= (DO (LET a 1) (LET b 2) (LET c b) (a b c d))  \"(1 2 2 d)\"))\n",
    "(assert (L , (COND (DO (TRUE) (FALSE) (TRUE) (FALSE)) TRUE FALSE) \"(L a b , b)\"))\n",
    "(assert (L , (COND (DO (TRUE) (TRUE) (TRUE) (TRUE)) TRUE FALSE) \"(L a b , a)\"))"
   ]
  },
  {
   "cell_type": "code",
   "execution_count": 12,
   "metadata": {
    "collapsed": true
   },
   "outputs": [],
   "source": [
    "; and tests\n",
    "(assert (=\n",
    "  (, (AND TRUE TRUE) (AND TRUE FALSE)\n",
    "     (AND FALSE TRUE) (AND FALSE FALSE))\n",
    "  (, (TRUE) (FALSE) (FALSE) (FALSE))))\n",
    "; or tests\n",
    "(assert (=\n",
    "  (, (OR TRUE TRUE) (OR TRUE FALSE)\n",
    "     (OR FALSE TRUE) (OR FALSE FALSE))\n",
    "  (, (TRUE) (TRUE) (TRUE) (FALSE))))\n",
    "; not tests\n",
    "(assert (= (, (NOT TRUE) (NOT FALSE)) (, (FALSE) (TRUE))))\n",
    "; xor tests\n",
    "(assert (= \n",
    "  (, (XOR TRUE TRUE) (XOR TRUE FALSE)\n",
    "     (XOR FALSE TRUE) (XOR FALSE FALSE))\n",
    "  (, (FALSE) (TRUE) (TRUE) (FALSE))))\n",
    "; logic condition\n",
    "(assert (= (COND (AND (NOT (XOR FALSE FALSE)) (OR TRUE FALSE)) TRUE FALSE) (TRUE)))\n",
    "; eval read str\n",
    "(assert (= (eval (read-str \"(TRUE)\")) \"(L a b , a)\"))\n",
    "; lesser or equal\n",
    "(assert (= (, (LEQ? ONE TWO) (LEQ? TWO ONE)  (LEQ? ONE ONE) \n",
    "           (, (TRUE) (FALSE) (TRUE)))))\n",
    "; greater or equal\n",
    "(assert (= (, (GEQ? ONE TWO) (GEQ? TWO ONE)  (GEQ? ONE ONE) \n",
    "           (, (FALSE) (TRUE) (TRUE)))))\n",
    "; equals\n",
    "(assert (= (, (EQ? ONE TWO) (EQ? TWO ONE)  (EQ? ONE ONE) \n",
    "           (, (FALSE) (FALSE) (TRUE)))))\n",
    "; lesser\n",
    "(assert (= (, (LE? ONE TWO) (LE? TWO ONE)  (LE? ONE ONE) \n",
    "           (, (TRUE) (FALSE) (FALSE)))))\n",
    "; greater\n",
    "(assert (= (, (GE? ONE TWO) (GE? TWO ONE)  (GE? ONE ONE) \n",
    "           (, (FALSE) (TRUE) (FALSE)))))"
   ]
  },
  {
   "cell_type": "code",
   "execution_count": 13,
   "metadata": {
    "collapsed": true
   },
   "outputs": [],
   "source": [
    "; math operations\n",
    "; next, inc, successive\n",
    "(assert (= (SUCC ONE) \"(x (x y))\"))\n",
    "; infix notation\n",
    "(assert (= (ONE SUCC ONE SUCC ONE) \"(x (x (x y)))\"))\n",
    "; previous, dec, predecessive\n",
    "(assert (= (PRED THREE) \"(x (x y))\"))\n",
    "; previous, dec, predecessor, with arguments\n",
    "(assert (= (PRED THREE a b) \"(a (a b))\"))\n",
    "; nested predecessor\n",
    "(assert (= (PRED (PRED (PRED FOUR))) \"(x y)\"))\n",
    "; previous + next is same\n",
    "(assert (= (SUCC (PRED TWO)) \"(x (x y))\"))\n",
    "; previous + next is same for zero\n",
    "(assert (= (PRED (SUCC ZERO)) 'y))\n",
    "; but previous + next is one for zero!\n",
    "(assert (= (SUCC (PRED ZERO)) \"(x y)\"))\n",
    "; sum two values\n",
    "(assert (= (SUM TWO TWO) \"(x (x (x (x y))))\"))\n",
    "; substract two x from y\n",
    "(assert (= (, (SUB ONE TWO) (SUB ONE ONE) (SUB TWO ONE))\n",
    "           (, \"(x y)\" 'y 'y)))\n",
    "(assert (= (, (EXP TWO TWO) (EXP TEN ZERO) (EXP ZERO ZERO))\n",
    "           (, \"(x (x (x (x y))))\" \"(x y)\" \"(x y)\")))\n",
    "(assert (= (, (PROD ZERO ONE a b) (PROD ONE ONE a b) (PROD TWO TWO a b))\n",
    "           (, 'b \"(a b)\" \"(a (a (a (a b))))\")))"
   ]
  },
  {
   "cell_type": "code",
   "execution_count": 14,
   "metadata": {
    "collapsed": true
   },
   "outputs": [],
   "source": [
    "; self application\n",
    "(assert (= (SELF (L x , x) 1) 1))\n",
    "; self application, fixed point\n",
    ";count down to zero\n",
    "(assert (= (SELF (L f n , (COND (ZERO? n) ZERO (f f (PRED n)))) THREE) (ZERO)))\n",
    "; count down to one with lesser or equal comparison\n",
    "(assert (= (SELF (L f n , (COND (LEQ? n ONE) n (f f (PRED n)))) FOUR) \"(x y)\"))\n",
    "; count down to one with equal comparison\n",
    "(assert (= (SELF (L f n , (COND (EQ? n ONE) n (f f (PRED n)))) FOUR) \"(x y)\"))"
   ]
  },
  {
   "cell_type": "code",
   "execution_count": 15,
   "metadata": {
    "collapsed": true
   },
   "outputs": [],
   "source": [
    "; summation sequence, with plain number\n",
    "(assert (= (SUMMATION (L x y , (x (x (x y))))) \"(x (x (x (x (x (x y))))))\"))\n",
    "; summation sequence, with number macro form\n",
    "(assert (= (SUMMATION THREE) \"(x (x (x (x (x (x y))))))\"))\n",
    "; product sequence, with plain number\n",
    "(assert (= (FACTORIAL (L x y , (x (x (x y))))) \"(x (x (x (x (x (x y))))))\"))\n",
    "; product sequence, with number macro form\n",
    "(assert (= (FACTORIAL THREE) \"(x (x (x (x (x (x y))))))\"))\n",
    "; fibonacci, with plain number\n",
    "(assert (= (FIBONACCI (L x y , (x (x (x (x (x y))))))) \"(x (x (x (x (x y)))))\"))\n",
    "; fibonacci, with number macro form\n",
    "(assert (= (FIBONACCI FIVE) \"(x (x (x (x (x y)))))\"))"
   ]
  },
  {
   "cell_type": "code",
   "execution_count": 16,
   "metadata": {},
   "outputs": [
    {
     "name": "stdout",
     "output_type": "stream",
     "text": [
      "Recursion error occured for lambda expression:  (x , (x x) (L x , (x x)))\n"
     ]
    }
   ],
   "source": [
    "; self application recursive loop\n",
    "(setv result (L x , (x x) (L x , (x x))))\n",
    "(assert (none? result))"
   ]
  },
  {
   "cell_type": "code",
   "execution_count": 17,
   "metadata": {},
   "outputs": [
    {
     "data": {
      "text/plain": [
       "'(x (x (x (x (x (x (x (x (x (x (x (x (x (x (x (x (x (x (x (x (x (x (x (x (x (x (x (x (x (x (x (x (x (x (x (x y))))))))))))))))))))))))))))))))))))'"
      ]
     },
     "execution_count": 17,
     "metadata": {},
     "output_type": "execute_result"
    }
   ],
   "source": [
    "(SUMMATION (NUM 8))"
   ]
  },
  {
   "cell_type": "code",
   "execution_count": 18,
   "metadata": {},
   "outputs": [
    {
     "data": {
      "text/plain": [
       "'(x (x (x (x (x (x (x (x (x (x (x (x (x y)))))))))))))'"
      ]
     },
     "execution_count": 18,
     "metadata": {},
     "output_type": "execute_result"
    }
   ],
   "source": [
    "(FIBONACCI (NUM 7))"
   ]
  },
  {
   "cell_type": "code",
   "execution_count": 19,
   "metadata": {},
   "outputs": [
    {
     "data": {
      "text/plain": [
       "'(x (x (x (x (x (x (x (x (x (x (x (x (x (x (x (x (x (x (x (x (x (x (x (x (x (x (x (x (x (x (x (x (x (x (x (x (x (x (x (x (x (x (x (x (x (x (x (x (x (x (x (x (x (x (x (x (x (x (x (x (x (x (x (x (x (x (x (x (x (x (x (x (x (x (x (x (x (x (x (x (x (x (x (x (x (x (x (x (x (x (x (x (x (x (x (x (x (x (x (x (x (x (x (x (x (x (x (x (x (x (x (x (x (x (x (x (x (x (x (x y))))))))))))))))))))))))))))))))))))))))))))))))))))))))))))))))))))))))))))))))))))))))))))))))))))))))))))))))))))))))'"
      ]
     },
     "execution_count": 19,
     "metadata": {},
     "output_type": "execute_result"
    }
   ],
   "source": [
    "; requires alpha conversion and macros, or will cause recursion error!\n",
    "(with-alpha-conversion-and-macros L , )\n",
    "(FACTORIAL (NUM 5))"
   ]
  },
  {
   "cell_type": "markdown",
   "metadata": {
    "collapsed": true
   },
   "source": [
    "## The [MIT](http://choosealicense.com/licenses/mit/) License\n",
    "\n",
    "Copyright (c) 2017 Marko Manninen"
   ]
  }
 ],
 "metadata": {
  "kernelspec": {
   "display_name": "Calysto Hy",
   "language": "hy",
   "name": "calysto_hy"
  },
  "language_info": {
   "codemirror_mode": {
    "name": "scheme"
   },
   "mimetype": "text/x-hylang",
   "name": "hy",
   "pygments_lexer": "lisp"
  }
 },
 "nbformat": 4,
 "nbformat_minor": 2
}
