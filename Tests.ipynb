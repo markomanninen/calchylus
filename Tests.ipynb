{
 "cells": [
  {
   "cell_type": "markdown",
   "metadata": {},
   "source": [
    "# Test Cachylus module\n",
    "\n",
    "#### System settings"
   ]
  },
  {
   "cell_type": "code",
   "execution_count": 1,
   "metadata": {},
   "outputs": [
    {
     "name": "stdout",
     "output_type": "stream",
     "text": [
      "Hy version:  0.13.0\n",
      "Python 3.6.2 | packaged by conda-forge | (default, Jul 23 2017, 22:58:45) [MSC v.1900 64 bit (AMD64)]\n"
     ]
    }
   ],
   "source": [
    "(import hy sys)\n",
    "(print \"Hy version: \" hy.__version__)\n",
    "(print \"Python\" sys.version)"
   ]
  },
  {
   "cell_type": "markdown",
   "metadata": {},
   "source": [
    "#### Import library"
   ]
  },
  {
   "cell_type": "code",
   "execution_count": 2,
   "metadata": {
    "collapsed": true
   },
   "outputs": [],
   "source": [
    "(require (calchylus.lambdas [*]))"
   ]
  },
  {
   "cell_type": "markdown",
   "metadata": {},
   "source": [
    "### Initializers"
   ]
  },
  {
   "cell_type": "code",
   "execution_count": 3,
   "metadata": {},
   "outputs": [
    {
     "data": {
      "text/plain": [
       "<function <lambda> at 0x00000152DD81C2F0>"
      ]
     },
     "execution_count": 3,
     "metadata": {},
     "output_type": "execute_result"
    }
   ],
   "source": [
    "(with-alpha-conversion-nor-macros L ,)\n",
    "(assert (= (L x , x 1) 1))\n",
    "\n",
    "(with-alpha-conversion L ,)\n",
    "(assert (= (L x , x 1) 1))\n",
    "\n",
    "(with-macros L ,)\n",
    "(assert (= (IDENT 1) 1))\n",
    "\n",
    "(with-alpha-conversion-and-macros L ,)\n",
    "(assert (= (IDENT (L x , x 1)) 1))"
   ]
  },
  {
   "cell_type": "markdown",
   "metadata": {},
   "source": [
    "### Basic lambda macros"
   ]
  },
  {
   "cell_type": "code",
   "execution_count": 4,
   "metadata": {},
   "outputs": [
    {
     "data": {
      "text/plain": [
       "<function <lambda> at 0x00000152DDA3E950>"
      ]
     },
     "execution_count": 4,
     "metadata": {},
     "output_type": "execute_result"
    }
   ],
   "source": [
    "(with-alpha-conversion-nor-macros L ,)\n",
    "; not lambda expression\n",
    "(assert (= (, 'x) (, 'x)))\n",
    "; no body lambda expression\n",
    "(assert (= (L ,) None))\n",
    "; constant\n",
    "(assert (= (L , c) 'c))\n",
    "; identity, without argument\n",
    "(assert (= (L x , x) \"(L x , x)\"))\n",
    "; identity, with argument\n",
    "(assert (= (L x , x y) 'y))\n",
    "; select first, without arguments\n",
    "(assert (= (L x y , x) \"(L x , (L y , x))\"))\n",
    "; select second, without arguments\n",
    "(assert (= (L x y , y) \"(L x , (L y , y))\"))\n",
    "; select first, with arguments\n",
    "(assert (= (L x y , x 1 0) 1))\n",
    "; select second, with arguments\n",
    "(assert (= (L x y , y 1 0) 0))\n",
    "; multiary function without arguments\n",
    "(assert (= (L x y z , (x y z)) \"(L x , (L y , (L z , (x y z))))\"))\n",
    "; nested functions and arguments\n",
    "(assert (= (L x , (L y , (L z , (z x y) l) k) j) \"(l j k)\"))\n",
    "; nested functions, flatten arguments\n",
    "(assert (= (L x , (L y , (L z , (z x y))) j k l) \"(l j k)\"))\n",
    "; multiary function with arguments\n",
    "(assert (= (L x y z , (z x y) j k l) \"(l j k)\"))\n",
    "; application without arguments\n",
    "(assert (= (L , ((L x y z , (x y z)))) \"(L x , (L y , (L z , (x y z))))\"))\n",
    "; application with arguments\n",
    "(assert (= (L , ((L x y z , (x y z)) a b c)) \"(a b c)\"))\n",
    "; any free arguments should be returned on the final result\n",
    "(assert (= (L x , x y z) \"(y z)\"))\n",
    "; nested free arguments\n",
    "(assert (= (L , ((L x y z , (x y z) l m n) a b c) 1 2 3) \"((l m n) a b c 1 2 3)\"))\n",
    "; head normal form reduction\n",
    "(assert (= (L x , (L y , (L z , z 1))) \"(L x , (L y , 1))\"))\n",
    "; nested constants\n",
    "(assert (= (L , (L , (L , 1))) 1))\n",
    "; higher-order function, abstration\n",
    "(assert (= (L x , x (L y , y)) \"(L y , y)\"))\n",
    "; higher-order function, abstration, serial\n",
    "(assert (= (L x , x (L y , y) (L z , z)) \"(L z , z)\"))\n",
    "; higher-order function, apply function to function\n",
    "(assert (= (L x , (x (L y , y)) (L z , z)) \"(L y , y)\"))\n",
    "; higher-order function, value\n",
    "(assert (= (L x , x (L y , y) 1) 1))"
   ]
  },
  {
   "cell_type": "markdown",
   "metadata": {},
   "source": [
    "#### Different lambda char and separator"
   ]
  },
  {
   "cell_type": "code",
   "execution_count": 5,
   "metadata": {},
   "outputs": [
    {
     "data": {
      "text/plain": [
       "<function <lambda> at 0x00000152DD8818C8>"
      ]
     },
     "execution_count": 5,
     "metadata": {},
     "output_type": "execute_result"
    }
   ],
   "source": [
    "; unicode lambda letter and middle dot\n",
    "(with-alpha-conversion-nor-macros 𝜆 ·)\n",
    "; using application shapr -macro, starting with lambda expression\n",
    "(assert (= #Ÿ(𝜆 x · x) \"(𝜆 x · x)\"))\n",
    "; using application shapr macro, lambda expression in the middle\n",
    "(assert (= #Ÿ(x (x (𝜆 x · x y))) \"(x (x y))\"))\n",
    "; return whole abstraction\n",
    "(assert (= (𝜆 x · (𝜆 y · (𝜆 z · (x y z)))) \"(𝜆 x · (𝜆 y · (𝜆 z · (x y z))))\"))\n",
    "; evaluate first abstraction, return rest abstraction levels\n",
    "(assert (= (𝜆 x · (𝜆 y · (𝜆 z · (x y z))) 1) \"(𝜆 y · (𝜆 z · (1 y z)))\"))\n",
    "; evaluate first and second abstraction, return rest abstraction levels\n",
    "(assert (= (𝜆 x · (𝜆 y · (𝜆 z · (x y z))) 1 2) \"(𝜆 z · (1 2 z))\"))\n",
    "; evaluate first, second, and the third abstraction, return fully evaluated result\n",
    "(assert (= (𝜆 x · (𝜆 y · (𝜆 z · (x y z))) 1 2 3) \"(1 2 3)\"))"
   ]
  },
  {
   "cell_type": "markdown",
   "metadata": {},
   "source": [
    "#### Alpha conversion"
   ]
  },
  {
   "cell_type": "code",
   "execution_count": 6,
   "metadata": {},
   "outputs": [
    {
     "data": {
      "text/plain": [
       "<function <lambda> at 0x00000152DD8819D8>"
      ]
     },
     "execution_count": 6,
     "metadata": {},
     "output_type": "execute_result"
    }
   ],
   "source": [
    "(with-alpha-conversion-nor-macros L ,)\n",
    "; without variable renaming next result is given\n",
    "; first substitute x with y, and then both y's with z, resulting (z z)\n",
    "(assert (= (L x y , (x y) y z) \"(z z)\"))\n",
    "; same should apply to deeper values too\n",
    "(assert (= (L x y , (x y) (y (y z)) z) \"((z (z z)) z)\"))\n",
    "(with-alpha-conversion L , )\n",
    "; using variable renaming / alpha conversion to prevent name collision should give right result\n",
    "; instead of first substituting x with y, and then both y's with z\n",
    "; this test should give (y z) because y is bound to x only. latter y should not replace it\n",
    "(assert (= (L x y , (x y) y z) \"(y z)\"))\n",
    "; same should apply to deeper values too. note similarity with LET and LET* macro handler!\n",
    "(assert (= (L x y , (x y) (y (y z)) z) \"((y (y z)) z)\"))"
   ]
  },
  {
   "cell_type": "markdown",
   "metadata": {},
   "source": [
    "### Special macros for main lambda terms / forms\n",
    "\n",
    "#### Application\n",
    "\n",
    "Comparatible with shapr (``#Ÿ``) -macro."
   ]
  },
  {
   "cell_type": "code",
   "execution_count": 7,
   "metadata": {},
   "outputs": [
    {
     "data": {
      "text/plain": [
       "<function <lambda> at 0x00000152DD81C268>"
      ]
     },
     "execution_count": 7,
     "metadata": {},
     "output_type": "execute_result"
    }
   ],
   "source": [
    "(with-macros L ,)\n",
    "; using application shapr -macro, starting with lambda expression\n",
    "(assert (= (APP (L x , x)) \"(L x , x)\"))\n",
    "; using application shapr macro, lambda expression in the middle\n",
    "(assert (= (APP (x (x (L x , x y)))) \"(x (x y))\"))"
   ]
  },
  {
   "cell_type": "markdown",
   "metadata": {},
   "source": [
    "#### Constants"
   ]
  },
  {
   "cell_type": "code",
   "execution_count": 8,
   "metadata": {},
   "outputs": [
    {
     "data": {
      "text/plain": [
       "<function <lambda> at 0x00000152DD644B70>"
      ]
     },
     "execution_count": 8,
     "metadata": {},
     "output_type": "execute_result"
    }
   ],
   "source": [
    "(with-macros L ,)\n",
    "; constant without body\n",
    "(assert (= (CONST x) None))\n",
    "; constant with body\n",
    "(assert (= (CONST x 1) \"(L x , 1)\"))\n",
    "; constant with body and value\n",
    "(assert (= (CONST x 1 2) 1))"
   ]
  },
  {
   "cell_type": "markdown",
   "metadata": {},
   "source": [
    "#### Identity"
   ]
  },
  {
   "cell_type": "code",
   "execution_count": 9,
   "metadata": {
    "collapsed": true
   },
   "outputs": [],
   "source": [
    "; identity, without arguments\n",
    "(assert (= (IDENT) \"(L a , a)\"))\n",
    "; identity, with arguments\n",
    "(assert (= (IDENT 1) 1))\n",
    "; identity, nested\n",
    "(assert (= (IDENT (IDENT 1)) 1))\n",
    "; boolean macros"
   ]
  },
  {
   "cell_type": "markdown",
   "metadata": {},
   "source": [
    "#### Booleans"
   ]
  },
  {
   "cell_type": "code",
   "execution_count": 10,
   "metadata": {
    "collapsed": true
   },
   "outputs": [],
   "source": [
    "(assert (= (, (TRUE) (TRUE 1 0) \n",
    "              (FALSE) (FALSE 1 0)) \n",
    "           (, \"(L a , (L b , a))\" 1 \n",
    "              \"(L a , (L b , b))\" 0)))"
   ]
  },
  {
   "cell_type": "markdown",
   "metadata": {},
   "source": [
    "#### 2-tuples / pairs"
   ]
  },
  {
   "cell_type": "code",
   "execution_count": 11,
   "metadata": {
    "collapsed": true
   },
   "outputs": [],
   "source": [
    "; nil\n",
    "(assert (= (NIL) \"(L x , (L a , (L b , a)))\"))\n",
    "; empty, list end\n",
    "(assert (= (EMPTY) \"(L s , (s (L x , (L a b , a)) (L x , (L a b , a))))\"))\n",
    "; pair constructor\n",
    "(assert (= (PAIR TRUE NIL) \"(L s , (s (L a b , a) (L x , (L a b , a))))\"))\n",
    "; selector, true\n",
    "(assert (= (PAIR T F TRUE) 'T))\n",
    "; selector, false\n",
    "(assert (= (PAIR T F FALSE) 'F))\n",
    "; head and tail selectors\n",
    "(assert (= (, (HEAD (PAIR TRUE NIL)) \n",
    "              (TAIL (PAIR TRUE NIL))) \n",
    "           (, \"(L a b , a)\" \"(L x , (L a b , a))\")))\n",
    "; nested pairs and heads and tails\n",
    "(assert (=\n",
    "   (, (HEAD (PAIR TRUE (PAIR TRUE NIL))) \n",
    "      (HEAD (TAIL (PAIR TRUE (PAIR TRUE NIL))))\n",
    "      (TAIL (TAIL (PAIR TRUE (PAIR TRUE NIL)))))\n",
    "   (, \"(L a b , a)\" \"(L a b , a)\" \"(L x , (L a b , a))\")))\n",
    "; simple condition\n",
    "(assert (=\n",
    "    (, (COND TRUE TRUE FALSE) \n",
    "       (COND FALSE TRUE FALSE))\n",
    "    (, \"(L a b , a)\" \"(L a b , b)\")))"
   ]
  },
  {
   "cell_type": "markdown",
   "metadata": {},
   "source": [
    "#### Nil checks"
   ]
  },
  {
   "cell_type": "code",
   "execution_count": 12,
   "metadata": {
    "collapsed": true
   },
   "outputs": [],
   "source": [
    "; nil? for nested pairs\n",
    "(assert (=\n",
    "  (, (NIL? (TAIL (TAIL (PAIR ONE (PAIR ONE NIL))))) \n",
    "     (NIL? (HEAD (TAIL (PAIR ONE (PAIR ONE NIL))))))\n",
    "  (, \"(L b , (L a b , a))\" \"(L a b , b)\")))\n",
    "; is nil, simple\n",
    "(assert (= (, (NIL? NIL) (NIL? FALSE) (NIL? TRUE) (NIL? ONE))\n",
    "           (, \"(L b , (L a b , a))\" \"(L a b , a)\" \"(L a , (L a b , b))\" \"(L a b , b)\")))\n",
    "; is nil, head and tail\n",
    "(assert (= (, (NIL? (HEAD (PAIR ONE NIL))) \n",
    "              (NIL? (TAIL (PAIR ONE NIL)))) \n",
    "           (, \"(L a b , b)\" \"(L b , (L a b , a))\")))\n",
    "; number nil? conditions\n",
    "(assert (=\n",
    "    (, (COND (NIL? (NUM 0)) TRUE FALSE)\n",
    "       (COND (NIL? (NUM 1)) TRUE FALSE)\n",
    "       (COND (NIL? (NUM 10)) TRUE FALSE))\n",
    "    (, \"(L a b , a)\" \"(L a b , b)\" \"(L a b , b)\")))\n",
    "; nil tail/head pair condition\n",
    "(assert (=\n",
    "    (, (NIL? (TAIL (PAIR (NUM 1) NIL)))\n",
    "       (NIL? (HEAD (PAIR (NUM 1) NIL))))\n",
    "    (, \"(L b , (L a b , a))\" \"(L a b , b)\")))\n",
    "; TODO: this requires some thinking, nil to lists should be done with\n",
    "; empty? check?\n",
    "(assert (= (, (NIL? (PAIR ONE TWO)) (NIL? (LIST ONE TWO)) (NIL? (LIST)))\n",
    "           (, \"(L a b , a)\" \"(L a b , a)\" \"(L a b , a)\")))"
   ]
  },
  {
   "cell_type": "markdown",
   "metadata": {},
   "source": [
    "#### Church numerals"
   ]
  },
  {
   "cell_type": "code",
   "execution_count": 13,
   "metadata": {
    "collapsed": true
   },
   "outputs": [],
   "source": [
    "; church numeral general generator, without arguments\n",
    "(assert (= (NUM 3) \"(L x , (L y , (x (x (x y)))))\"))\n",
    "; church numeral, general generator, with arguments\n",
    "(assert (= (NUM 3 m n) \"(m (m (m n)))\"))\n",
    "; church numeral, general generator, with arguments\n",
    "(assert (= (, (ONE) (TWO x y) (THREE m n))\n",
    "           (, \"(L x , (L y , (x y)))\" \"(x (x y))\" \"(m (m (m n)))\")))\n",
    "; natural number sharp macro\n",
    "(assert (= #ℕ2) (NUM 2))\n",
    "; natural number sharp macro, with space\n",
    "(assert (= #ℕ 2) TWO)"
   ]
  },
  {
   "cell_type": "markdown",
   "metadata": {},
   "source": [
    "#### Zeros"
   ]
  },
  {
   "cell_type": "code",
   "execution_count": 14,
   "metadata": {
    "collapsed": true
   },
   "outputs": [],
   "source": [
    "; church numeral, zero\n",
    "(assert (= (ZERO) \"(L x , (L y , y))\"))\n",
    "; church numeral, zero with arguments\n",
    "(assert (= (ZERO a b) 'b))\n",
    "; if TRUE is given, then the third option is activated!\n",
    "(assert (= (ZERO? TRUE a b c) 'c))"
   ]
  },
  {
   "cell_type": "markdown",
   "metadata": {},
   "source": [
    "#### Lists"
   ]
  },
  {
   "cell_type": "code",
   "execution_count": 15,
   "metadata": {
    "collapsed": true
   },
   "outputs": [],
   "source": [
    "; empty has two nils as a pair\n",
    "(assert (= (LIST) \n",
    "           \"(L s , (s (L x , (L a b , a)) (L x , (L a b , a))))\"))\n",
    "; nil added to the first item of the list\n",
    "(assert (= (LIST NIL) \n",
    "           \"(L s , (s (L x , (L a b , a)) (L a b s , (s a b) (L x , (L a b , a)) (L x , (L a b , a)))))\"))\n",
    "; one item that is a number one\n",
    "(assert (= (LIST ONE) \n",
    "           \"(L s , (s (L x y , (x y)) (L a b s , (s a b) (L x , (L a b , a)) (L x , (L a b , a)))))\"))\n",
    "; two items\n",
    "(assert (= (LIST ONE TWO) \n",
    "           \"(L s , (s (L x y , (x y)) (L a b s , (s a b) (L x y , (x (x y))) (L a b s , (s a b) (L x , (L a b , a)) (L x , (L a b , a))))))\"))\n",
    "; first of three\n",
    "(assert (= (FIRST (LIST ONE TWO THREE)) \"(L x y , (x y))\"))\n",
    "; second of three\n",
    "(assert (= (SECOND (LIST ONE TWO THREE)) \"(L x y , (x (x y)))\"))\n",
    "; last of three\n",
    "(assert (= (LAST (LIST ONE TWO THREE)) \"(L x y , (x (x (x y))))\"))\n",
    "; append to the end of the list and see that the last is the one that was appended\n",
    "(assert (= (LAST (APPEND FOUR (LIST ONE TWO THREE))) \"(L x y , (x (x (x (x y)))))\"))\n",
    "; prepend to the beginning of the list and see that the first is the one that was prepended\n",
    "(assert (= (FIRST (PREPEND ONE (LIST ONE))) \"(L x y , (x y))\"))\n",
    "; append + prepend + list\n",
    "(assert (= (APPEND THREE (PREPEND ONE (LIST TWO))) (LIST ONE TWO THREE)))\n",
    "; is empty?\n",
    "(assert (= (, (EMPTY? TRUE) (EMPTY? FALSE) \n",
    "              (EMPTY? ONE) (EMPTY? (LIST)) \n",
    "              (EMPTY? (LIST ONE))\n",
    "              (EMPTY? (TAIL (LIST ONE)))\n",
    "              (EMPTY? (HEAD (LIST ONE))))\n",
    "           (, \"(L a b , b)\" \"(L h t , (L a b , b))\" \"(L b , b)\" \"(L a b , a)\" \"(L a b , b)\" \"(L a b , a)\" \"(L b , b)\")))\n",
    "; empty? with three arguments and empty? in cond should give same answer\n",
    "(assert (= (EMPTY? (LIST) T F) (COND (EMPTY? (LIST)) T F)))\n",
    "; length of the list\n",
    "(assert (= (, (LEN (LIST) x y) (LEN (LIST ONE) x y) (LEN (LIST ONE TWO) x y))\n",
    "           (, \"y\" \"(x y)\" \"(x (x y))\")))"
   ]
  },
  {
   "cell_type": "markdown",
   "metadata": {},
   "source": [
    "#### More lists"
   ]
  },
  {
   "cell_type": "code",
   "execution_count": 16,
   "metadata": {
    "collapsed": true
   },
   "outputs": [],
   "source": [
    "(assert (= (HEAD (REVERSE (LIST ONE TWO)) x y)\n",
    "           (TWO x y)))\n",
    "(assert (= (HEAD (MAP SUCC (LIST ONE TWO)) x y)\n",
    "           (TWO x y)))\n",
    "(assert (= (APPLY SUM (LIST ONE TWO) a b) \n",
    "           (THREE a b)))\n",
    "(assert (= (, (HEAD (LIST* TWO ONE TWO) x y) (HEAD (TAIL (LIST* TWO ONE TWO)) x y))\n",
    "           (, (ONE x y) (TWO x y))))\n",
    "(assert (= (FOLD-LEFT SUM ZERO (LIST ONE TWO) x y) \n",
    "           (THREE x y)))\n",
    "(assert (= (FOLD-RIGHT SUM ZERO (LIST ONE TWO) x y) \n",
    "           (THREE x y)))\n",
    "(assert (= (, (HEAD (EXTEND (LIST ONE) (LIST TWO)) x y) (HEAD (TAIL (EXTEND (LIST ONE) (LIST TWO))) x y))\n",
    "           (, (ONE x y) (TWO x y))))"
   ]
  },
  {
   "cell_type": "markdown",
   "metadata": {},
   "source": [
    "#### Let and Let*"
   ]
  },
  {
   "cell_type": "code",
   "execution_count": 17,
   "metadata": {
    "collapsed": true
   },
   "outputs": [],
   "source": [
    "(assert (= (LET a 1 b 2 d 3 (a b c d)) \"(1 2 c 3)\"))\n",
    "(assert (= (LET a 1 (a a (L a , a 2))) \"(1 1 2)\"))\n",
    "(assert (= (LET a 1 b a (a b)) \"(1 a)\"))\n",
    "(assert (= (LET a 1 c (a b) (LET b a c)) \"(a 1)\"))\n",
    "(assert (= (LET* a 1 c (a b) (LET b a c)) \"(1 1)\"))\n",
    "(assert (= (LET a 1 c (LET b a c) (a b)) \"(1 b)\"))\n",
    "(assert (= (LET a 1 b (a b) b) \"(a b)\"))\n",
    "(assert (= (LET a 1 (LET b a (a b))) \"(1 1)\"))\n",
    "(assert (= (LET* a 1 b a (a b)) \"(1 1)\"))\n",
    "(assert (= (LET x) \"x\"))\n",
    "(assert (= (LET* x) \"x\"))\n",
    "(assert (= (LET) None))\n",
    "(assert (= (LET*) None))"
   ]
  },
  {
   "cell_type": "markdown",
   "metadata": {},
   "source": [
    "#### Do structure with lets"
   ]
  },
  {
   "cell_type": "code",
   "execution_count": 18,
   "metadata": {
    "collapsed": true
   },
   "outputs": [],
   "source": [
    "; similar to let*\n",
    "(assert (= (DO (LET a 1) (LET b 2) (LET c (a b)) (a b c d))  \"(1 2 (1 2) d)\"))\n",
    "; all trues\n",
    "(assert (L , (COND (DO (TRUE) (TRUE) (TRUE) (TRUE)) TRUE FALSE) \"(L a b , a)\"))\n",
    "; all but one trues\n",
    "(assert (L , (COND (DO (TRUE) (TRUE) (TRUE) (FALSE)) TRUE FALSE) \"(L a b , b)\"))"
   ]
  },
  {
   "cell_type": "markdown",
   "metadata": {},
   "source": [
    "#### Boolean / connective tests"
   ]
  },
  {
   "cell_type": "code",
   "execution_count": 19,
   "metadata": {
    "collapsed": true
   },
   "outputs": [],
   "source": [
    "; not \n",
    "(assert (= (, (NOT TRUE T F) (NOT FALSE T F)) (, 'F 'T)))\n",
    "; and \n",
    "(assert (=\n",
    "  (, (AND TRUE TRUE T F) (AND TRUE FALSE T F)\n",
    "     (AND FALSE TRUE T F) (AND FALSE FALSE T F))\n",
    "  (, 'T 'F 'F 'F)))\n",
    "; or \n",
    "(assert (=\n",
    "  (, (OR TRUE TRUE T F) (OR TRUE FALSE T F)\n",
    "     (OR FALSE TRUE T F) (OR FALSE FALSE T F))\n",
    "  (, 'T 'T 'T 'F)))\n",
    "; exlusive or \n",
    "(assert (= \n",
    "  (, (XOR TRUE TRUE T F) (XOR TRUE FALSE T F)\n",
    "     (XOR FALSE TRUE T F) (XOR FALSE FALSE T F))\n",
    "  (, 'F 'T 'T 'F)))\n",
    "; implies\n",
    "(assert (= \n",
    "  (, (IMP TRUE TRUE T F) (IMP TRUE FALSE T F)\n",
    "     (IMP FALSE TRUE T F) (IMP FALSE FALSE T F))\n",
    "  (, 'T 'F 'T 'T)))\n",
    "; equivalence\n",
    "(assert (= \n",
    "  (, (EQV TRUE TRUE T F) (EQV TRUE FALSE T F)\n",
    "     (EQV FALSE TRUE T F) (EQV FALSE FALSE T F))\n",
    "  (, 'T 'F 'F 'T)))\n",
    "; logic condition\n",
    "(assert (= (COND (AND (NOT (XOR FALSE FALSE)) (OR TRUE FALSE)) T F) 'T))\n",
    "; eval read str\n",
    "(assert (= (eval (read-str \"(TRUE)\")) \"(L a , (L b , a))\"))"
   ]
  },
  {
   "cell_type": "markdown",
   "metadata": {},
   "source": [
    "#### Numeric equivalence tests"
   ]
  },
  {
   "cell_type": "code",
   "execution_count": 20,
   "metadata": {
    "collapsed": true
   },
   "outputs": [],
   "source": [
    "; lesser or equal\n",
    "(assert (= (, (LEQ? ONE TWO T F) (LEQ? TWO ONE T F)  (LEQ? ONE ONE T F) )\n",
    "           (, 'T 'F 'T)))\n",
    "; greater or equal\n",
    "(assert (= (, (GEQ? ONE TWO T F) (GEQ? TWO ONE T F)  (GEQ? ONE ONE T F) )\n",
    "           (, 'F 'T 'T)))\n",
    "; equals\n",
    "(assert (= (, (EQ? ONE TWO T F) (EQ? TWO ONE T F)  (EQ? ONE ONE T F) )\n",
    "           (, 'F 'F 'T)))\n",
    "; lesser\n",
    "(assert (= (, (LE? ONE TWO T F) (LE? TWO ONE T F)  (LE? ONE ONE T F) )\n",
    "           (, 'T 'F 'F)))\n",
    "; greater\n",
    "(assert (= (, (GE? ONE TWO T F) (GE? TWO ONE T F)  (GE? ONE ONE T F) )\n",
    "           (, 'F 'T 'F)))\n",
    "; is number?\n",
    "(assert (= (, (NUM? TRUE T F) (NUM? ZERO T F) (NUM? ONE T F) (NUM? (LIST) T F) (NUM? (LIST ONE) T F))\n",
    "           (, \"(L b , b)\" 'T \"(L b , F)\" 'T \"(L a b , b)\")))"
   ]
  },
  {
   "cell_type": "markdown",
   "metadata": {},
   "source": [
    "#### Math operations"
   ]
  },
  {
   "cell_type": "code",
   "execution_count": 21,
   "metadata": {
    "collapsed": true
   },
   "outputs": [],
   "source": [
    "; math operations\n",
    "; next, inc, successive\n",
    "(assert (= (SUCC ONE x y) \"(x (x y))\"))\n",
    "; infix notation\n",
    "(assert (= (ONE SUCC ONE SUCC ONE x y) \"(x (x (x y)))\"))\n",
    "; previous, dec, predecessive\n",
    "(assert (= (PRED THREE) \"(L x , (L y , (L x y , (x (x (x y))) (L g h , (h (g x))) (L x , y) (L a , a))))\"))\n",
    "; previous, dec, predecessor, with arguments\n",
    "(assert (= (PRED THREE a b) \"(a (a b))\"))\n",
    "; sequenced predecessor\n",
    "(assert (= (PRED PRED PRED FOUR x y) \"(x y)\"))\n",
    "; nested predecessor\n",
    "(assert (= (PRED (PRED (PRED FOUR)) x y) \"(x y)\"))\n",
    "; previous + next is same\n",
    "(assert (= (SUCC (PRED TWO) x y) \"(x (x y))\"))\n",
    "; previous + next is same for zero\n",
    "(assert (= (PRED (SUCC ZERO) x y) 'y))\n",
    "; but previous + next is one for zero!\n",
    "(assert (= (SUCC (PRED ZERO) x y) \"(x y)\"))\n",
    "; sum two values\n",
    "(assert (= (SUM TWO TWO x y) \"(x (x (x (x y))))\"))\n",
    "; substract two x from y\n",
    "(assert (= (, (SUB ONE TWO x y) (SUB ONE ONE x y) (SUB TWO ONE x y))\n",
    "           (, \"(x y)\" 'y 'y)))\n",
    "(assert (= (, (EXP TWO TWO x y) (EXP TEN ZERO x y) (EXP ZERO ZERO x y))\n",
    "           (, \"(x (x (x (x y))))\" \"(x y)\" \"(x y)\")))\n",
    "(assert (= (, (PROD ZERO ONE a b) (PROD ONE ONE a b) (PROD TWO TWO a b))\n",
    "           (, 'b \"(a b)\" \"(a (a (a (a b))))\")))"
   ]
  },
  {
   "cell_type": "markdown",
   "metadata": {},
   "source": [
    "#### Self application"
   ]
  },
  {
   "cell_type": "code",
   "execution_count": 22,
   "metadata": {
    "collapsed": true
   },
   "outputs": [],
   "source": [
    "; self application\n",
    "(assert (= (SELF (L x , x) 1) 1))\n",
    "; self application, fixed point\n",
    ";count down to zero\n",
    "(assert (= (SELF (L f n , (COND (ZERO? n) ZERO (f f (PRED n)))) THREE) \"(L x y , y)\"))\n",
    "; count down to one with lesser or equal comparison\n",
    "(assert (= (SELF (L f n , (COND (LEQ? n ONE) n (f f (PRED n)))) FOUR x y) \"(x y)\"))\n",
    "; count down to one with equal comparison\n",
    "(assert (= (SELF (L f n , (COND (EQ? n ONE) n (f f (PRED n)))) FOUR x y) \"(x y)\"))"
   ]
  },
  {
   "cell_type": "markdown",
   "metadata": {},
   "source": [
    "#### Sample math functions"
   ]
  },
  {
   "cell_type": "code",
   "execution_count": 23,
   "metadata": {
    "collapsed": true
   },
   "outputs": [],
   "source": [
    "; summation sequence, with plain number\n",
    "(assert (= (SUMMATION (L x y , (x (x (x y)))) x y) \"(x (x (x (x (x (x y))))))\"))\n",
    "; summation sequence, with number macro form\n",
    "(assert (= (SUMMATION THREE x y) \"(x (x (x (x (x (x y))))))\"))\n",
    "; product sequence, with plain number\n",
    "(assert (= (FACTORIAL (L x y , (x (x (x y)))) x y) \"(x (x (x (x (x (x y))))))\"))\n",
    "; product sequence, with number macro form\n",
    "(assert (= (FACTORIAL THREE x y) \"(x (x (x (x (x (x y))))))\"))\n",
    "; fibonacci, with plain number\n",
    "(assert (= (FIBONACCI (L x y , (x (x (x (x (x y)))))) x y) \"(x (x (x (x (x y)))))\"))\n",
    "; fibonacci, with number macro form\n",
    "(assert (= (FIBONACCI FIVE x y) \"(x (x (x (x (x y)))))\"))"
   ]
  },
  {
   "cell_type": "markdown",
   "metadata": {},
   "source": [
    "#### Self application recursive loop"
   ]
  },
  {
   "cell_type": "code",
   "execution_count": 24,
   "metadata": {},
   "outputs": [
    {
     "name": "stdout",
     "output_type": "stream",
     "text": [
      "Recursion error occured for lambda expression:  (x x)\n"
     ]
    }
   ],
   "source": [
    "(setv result (L x , (x x) (L x , (x x))))\n",
    "(assert (none? result))"
   ]
  },
  {
   "cell_type": "code",
   "execution_count": 25,
   "metadata": {},
   "outputs": [
    {
     "data": {
      "text/plain": [
       "'(x (x (x (x (x (x (x (x (x (x (x (x (x (x (x (x (x (x (x (x (x (x (x (x (x (x (x (x (x (x (x (x (x (x (x (x y))))))))))))))))))))))))))))))))))))'"
      ]
     },
     "execution_count": 25,
     "metadata": {},
     "output_type": "execute_result"
    }
   ],
   "source": [
    "(SUMMATION (NUM 8) x y)"
   ]
  },
  {
   "cell_type": "code",
   "execution_count": 26,
   "metadata": {},
   "outputs": [
    {
     "data": {
      "text/plain": [
       "'(x (x (x (x (x (x (x (x (x (x (x (x (x y)))))))))))))'"
      ]
     },
     "execution_count": 26,
     "metadata": {},
     "output_type": "execute_result"
    }
   ],
   "source": [
    "(FIBONACCI (NUM 7) x y)"
   ]
  },
  {
   "cell_type": "code",
   "execution_count": 27,
   "metadata": {},
   "outputs": [
    {
     "data": {
      "text/plain": [
       "'(x (x (x (x (x (x (x (x (x (x (x (x (x (x (x (x (x (x (x (x (x (x (x (x (x (x (x (x (x (x (x (x (x (x (x (x (x (x (x (x (x (x (x (x (x (x (x (x (x (x (x (x (x (x (x (x (x (x (x (x (x (x (x (x (x (x (x (x (x (x (x (x (x (x (x (x (x (x (x (x (x (x (x (x (x (x (x (x (x (x (x (x (x (x (x (x (x (x (x (x (x (x (x (x (x (x (x (x (x (x (x (x (x (x (x (x (x (x (x (x y))))))))))))))))))))))))))))))))))))))))))))))))))))))))))))))))))))))))))))))))))))))))))))))))))))))))))))))))))))))))'"
      ]
     },
     "execution_count": 27,
     "metadata": {},
     "output_type": "execute_result"
    }
   ],
   "source": [
    "; requires alpha conversion and macros, or will cause recursion error!\n",
    "(with-alpha-conversion-and-macros L , )\n",
    "(FACTORIAL (NUM 5) x y)"
   ]
  },
  {
   "cell_type": "markdown",
   "metadata": {
    "collapsed": true
   },
   "source": [
    "## The [MIT](http://choosealicense.com/licenses/mit/) License\n",
    "\n",
    "Copyright (c) 2017 Marko Manninen"
   ]
  }
 ],
 "metadata": {
  "kernelspec": {
   "display_name": "Calysto Hy",
   "language": "hy",
   "name": "calysto_hy"
  },
  "language_info": {
   "codemirror_mode": {
    "name": "scheme"
   },
   "mimetype": "text/x-hylang",
   "name": "hy",
   "pygments_lexer": "lisp"
  }
 },
 "nbformat": 4,
 "nbformat_minor": 2
}
