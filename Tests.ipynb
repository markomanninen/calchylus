{
 "cells": [
  {
   "cell_type": "code",
   "execution_count": 1,
   "metadata": {},
   "outputs": [],
   "source": [
    "(require (calchylus.lambdas [*]))"
   ]
  },
  {
   "cell_type": "code",
   "execution_count": 2,
   "metadata": {},
   "outputs": [
    {
     "data": {
      "text/plain": [
       "<function <lambda> at 0x000001B1F6B78158>"
      ]
     },
     "execution_count": 2,
     "metadata": {},
     "output_type": "execute_result"
    }
   ],
   "source": [
    "(with-macros 𝜆 ·)\n",
    "(assert (= (𝜆 · TRUE) \"(𝜆 a b · a)\"))"
   ]
  },
  {
   "cell_type": "code",
   "execution_count": 3,
   "metadata": {},
   "outputs": [
    {
     "data": {
      "text/plain": [
       "<function <lambda> at 0x000001B1F6B78510>"
      ]
     },
     "execution_count": 3,
     "metadata": {},
     "output_type": "execute_result"
    }
   ],
   "source": [
    "(with-alpha-conversion-nor-macros L , )\n",
    "; not lambda expression\n",
    "(assert (= (, 'x) (, 'x)))\n",
    "; no body lambda expression\n",
    "(assert (= (L ,) None))\n",
    "; constant\n",
    "(assert (= (L , c) 'c))\n",
    "; identity, without argument\n",
    "(assert (= (L x , x) \"(L x , x)\"))\n",
    "; identity, with argument\n",
    "(assert (= (L x , x y) 'y))\n",
    "; select first, without arguments\n",
    "(assert (= (L x y , x) \"(L x y , x)\"))\n",
    "; select second, without arguments\n",
    "(assert (= (L x y , y) \"(L x y , y)\"))\n",
    "; select first, with arguments\n",
    "(assert (= (L x y , x 1 0) 1))\n",
    "; select second, with arguments\n",
    "(assert (= (L x y , y 1 0) 0))\n",
    "; function without arguments\n",
    "(assert (= (L x y z , (x y z)) \"(L x y z , (x y z))\"))\n",
    "; nested functions and arguments\n",
    "(assert (= (L x , (L y , (L z , (z x y) l) k) j) \"(l j k)\"))\n",
    "; nested functions, flatten arguments\n",
    "(assert (= (L x , (L y , (L z , (z x y))) j k l) \"(l j k)\"))\n",
    "; flatten functions and arguments\n",
    "(assert (= (L x y z , (z x y) j k l) \"(l j k)\"))\n",
    "; application without arguments\n",
    "(assert (= (L , ((L x y z , (x y z)))) \"(L x y z , (x y z))\"))\n",
    "; application with arguments\n",
    "(assert (= (L , ((L x y z , (x y z)) a b c)) \"(a b c)\"))\n",
    "; free argument\n",
    "(assert (= (L x , x y z) \"(y z)\"))\n",
    "; nested\n",
    "(assert (= (L , ((L x y z , (x y z) x y z) a b c) 1 2 3) \"((x y z) a b c 1 2 3)\"))"
   ]
  },
  {
   "cell_type": "code",
   "execution_count": 4,
   "metadata": {},
   "outputs": [
    {
     "data": {
      "text/plain": [
       "<function <lambda> at 0x000001B1F6B9F9D8>"
      ]
     },
     "execution_count": 4,
     "metadata": {},
     "output_type": "execute_result"
    }
   ],
   "source": [
    "(with-alpha-conversion L , )\n",
    "; variable renaming should give right result\n",
    "; instead of first substituting x with y, and then both y's with z, resulting (2 2)\n",
    "; this test should give (y z) because y is bound to x and x only. latter y should not replace it\n",
    "(assert (= (L x y , (x y) y z) \"(y z)\"))\n",
    "; same should apply to deeper values too\n",
    "(assert (= (L x y , (x y) (y (y z)) z) \"((y (y z)) z)\"))"
   ]
  },
  {
   "cell_type": "code",
   "execution_count": 5,
   "metadata": {},
   "outputs": [
    {
     "data": {
      "text/plain": [
       "<function <lambda> at 0x000001B1F6EEEA60>"
      ]
     },
     "execution_count": 5,
     "metadata": {},
     "output_type": "execute_result"
    }
   ],
   "source": [
    "(with-macros L , )\n",
    "; special macros for main lambda terms / forms\n",
    "; constant\n",
    "(assert (= (CONST x) 'x))\n",
    "; identity, without arguments\n",
    "(assert (= (IDENT) \"(L a , a)\"))\n",
    "; identity, with arguments\n",
    "(assert (= (IDENT 1) 1))\n",
    "; identity, nested\n",
    "(assert (= (IDENT (IDENT 1)) 1))\n",
    "; boolean macros\n",
    "(assert (= (, (TRUE) (TRUE 1 0) \n",
    "              (FALSE) (FALSE 1 0)) \n",
    "           (, \"(L a b , a)\" 1 \n",
    "              \"(L a b , b)\" 0)))"
   ]
  },
  {
   "cell_type": "code",
   "execution_count": 6,
   "metadata": {
    "collapsed": true
   },
   "outputs": [],
   "source": [
    "; lists\n",
    "(assert (= (NIL) \"(L a b , b)\"))\n",
    "; pair constructor\n",
    "(assert (= (PAIR TRUE NIL) \"(s (L a b , a) (L a b , b))\"))\n",
    "; selector\n",
    "(assert (= (PAIR TRUE NIL FIRST) (TRUE)))\n",
    "; head and tail\n",
    "(assert (= (, (HEAD (PAIR TRUE NIL)) \n",
    "              (TAIL (PAIR TRUE NIL))) \n",
    "           (, (TRUE) (NIL))))\n",
    "; is nil, simple\n",
    "(assert (= (, (NIL? NIL) (NIL? TRUE)) (, (TRUE) (FALSE))))\n",
    "; is nil, head and tail\n",
    "(assert (= (, (NIL? (HEAD (PAIR TRUE NIL))) \n",
    "              (NIL? (TAIL (PAIR TRUE NIL)))) \n",
    "           (, (FALSE) (TRUE))))\n",
    "; nested pairs and heads and tails\n",
    "(assert (=\n",
    "   (, (HEAD (PAIR TRUE (PAIR TRUE NIL))) \n",
    "      (HEAD (TAIL (PAIR TRUE (PAIR TRUE NIL))))\n",
    "      (TAIL (TAIL (PAIR TRUE (PAIR TRUE NIL)))))\n",
    "   (, (TRUE) (TRUE) (NIL))))\n",
    "; nil? for nested pairs\n",
    "(assert (=\n",
    "  (, (NIL? (TAIL (TAIL (PAIR TRUE (PAIR TRUE NIL))))) \n",
    "     (NIL? (HEAD (TAIL (PAIR TRUE (PAIR TRUE NIL))))))\n",
    "  (, (TRUE) (FALSE))))\n",
    "; selectors for pairs\n",
    "(assert (=  (, (PAIR (PAIR TRUE FALSE FIRST) NIL FIRST)\n",
    "               (PAIR (PAIR TRUE FALSE SECOND) NIL FIRST)\n",
    "               (PAIR (PAIR TRUE FALSE FIRST) NIL SECOND)\n",
    "               (PAIR (PAIR TRUE FALSE SECOND) NIL SECOND)\n",
    "               (PAIR TRUE (PAIR TRUE NIL FIRST) FIRST)\n",
    "               (PAIR TRUE (PAIR TRUE NIL SECOND) FIRST)\n",
    "               (PAIR TRUE (PAIR TRUE NIL FIRST) SECOND)\n",
    "               (PAIR TRUE (PAIR TRUE NIL SECOND) SECOND))\n",
    "            (, (TRUE) (FALSE) (NIL) (NIL)\n",
    "               (TRUE) (TRUE) (TRUE) (NIL))))\n",
    "; simple condition\n",
    "(assert (=\n",
    "    (, (COND TRUE TRUE FALSE) \n",
    "       (COND FALSE TRUE FALSE))\n",
    "    (, (TRUE) (FALSE))))\n",
    "; number nil? conditions\n",
    "(assert (=\n",
    "    (, (COND (NIL? (NUM 0)) TRUE FALSE)\n",
    "       (COND (NIL? (NUM 1)) TRUE FALSE)\n",
    "       (COND (NIL? (NUM 10)) TRUE FALSE))\n",
    "    (, (TRUE) (FALSE) (FALSE))))\n",
    "; nil tail/head pair condition\n",
    "(assert (=\n",
    "    (, (COND (NIL? (TAIL (PAIR (NUM 1) NIL))) TRUE FALSE)\n",
    "       (COND (NIL? (HEAD (PAIR (NUM 1) NIL))) TRUE FALSE))\n",
    "    (, (TRUE) (FALSE))))"
   ]
  },
  {
   "cell_type": "code",
   "execution_count": 7,
   "metadata": {},
   "outputs": [],
   "source": [
    "; church numeral general generator, without arguments\n",
    "(assert (= (NUM 3) \"(L x y , (x (x (x y))))\"))\n",
    "; church numeral, general generator, with arguments\n",
    "(assert (= (NUM 3 m n) \"(m (m (m n)))\"))\n",
    "; church numeral, zero\n",
    "(assert (= (ZERO) \"(L a b , b)\"))\n",
    "; church numeral, zero with arguments\n",
    "(assert (= (ZERO a b) 'b))\n",
    "(assert (= (, (ZERO) (ZERO x y) (ONE) (TWO x y) (THREE m n))\n",
    "           (, \"(L a b , b)\" \"y\" \"(L x y , (x y))\" \"(x (x y))\" \"(m (m (m n)))\")))\n",
    "; if TRUE is given, then the third option is activated!\n",
    "(assert (= (ZERO? TRUE a b c) 'c))"
   ]
  },
  {
   "cell_type": "code",
   "execution_count": 8,
   "metadata": {},
   "outputs": [],
   "source": [
    "; letters\n",
    "(assert (= (LET a 1 b 2 d 3 (a b c d)) \"(1 2 c 3)\"))\n",
    "(assert (= (LET a 1 (a a (L a , a 2))) \"(1 1 2)\"))\n",
    "(assert (= (LET a 1 b a (a b)) \"(1 a)\"))\n",
    "(assert (= (LET a 1 c (a b) (LET b a c)) \"(a 1)\"))\n",
    "(assert (= (LET a 1 c (LET b a c) (a b)) \"(1 b)\"))\n",
    "(assert (= (LET a 1 b (a b) b) \"(a b)\"))\n",
    "(assert (= (LET a 1 (LET b a (a b))) \"(1 1)\"))\n",
    "(assert (= (LET* a 1 b a (a b)) \"(1 1)\"))\n",
    "(assert (= (LET x) \"x\"))\n",
    "(assert (= (LET* x) \"x\"))\n",
    "(assert (= (LET) \"()\"))\n",
    "(assert (= (LET*) \"()\"))"
   ]
  },
  {
   "cell_type": "code",
   "execution_count": 9,
   "metadata": {
    "collapsed": true
   },
   "outputs": [],
   "source": [
    "; and tests\n",
    "(assert (=\n",
    "  (, (AND TRUE TRUE) (AND TRUE FALSE)\n",
    "     (AND FALSE TRUE) (AND FALSE FALSE))\n",
    "  (, (TRUE) (FALSE) (FALSE) (FALSE))))\n",
    "; or tests\n",
    "(assert (=\n",
    "  (, (OR TRUE TRUE) (OR TRUE FALSE)\n",
    "     (OR FALSE TRUE) (OR FALSE FALSE))\n",
    "  (, (TRUE) (TRUE) (TRUE) (FALSE))))\n",
    "; not tests\n",
    "(assert (= (, (NOT TRUE) (NOT FALSE)) (, (FALSE) (TRUE))))\n",
    "; xor tests\n",
    "(assert (= \n",
    "  (, (XOR TRUE TRUE) (XOR TRUE FALSE)\n",
    "     (XOR FALSE TRUE) (XOR FALSE FALSE))\n",
    "  (, (FALSE) (TRUE) (TRUE) (FALSE))))\n",
    "; logic condition\n",
    "(assert (= (COND (AND (NOT (XOR FALSE FALSE)) (OR TRUE FALSE)) TRUE FALSE) (TRUE)))\n",
    "; eval read str\n",
    "(assert (= (eval (read-str \"(TRUE)\")) \"(L a b , a)\"))\n",
    "; less or equal\n",
    "(assert (= (, (LEQ? ONE TWO) (LEQ? TWO ONE)  (LEQ? ONE ONE) \n",
    "           (, (TRUE) (FALSE) (TRUE)))))\n",
    "; equal\n",
    "(assert (= (, (EQ? ONE TWO) (EQ? TWO ONE)  (EQ? ONE ONE) \n",
    "           (, (FALSE) (FALSE) (TRUE)))))"
   ]
  },
  {
   "cell_type": "code",
   "execution_count": 10,
   "metadata": {
    "collapsed": true
   },
   "outputs": [],
   "source": [
    "; math operations\n",
    "; next, inc, successive\n",
    "(assert (= (SUCC ONE) \"(x (x y))\"))\n",
    "; add is same as succ\n",
    "(assert (= (ADD ONE) \"(x (x y))\"))\n",
    "; infix notation\n",
    "(assert (= (ONE ADD ONE ADD ONE) \"(x (x (x y)))\"))\n",
    "; previous, dec, predecessive\n",
    "(assert (= (PRED THREE) \"(x (x y))\"))\n",
    "; previous, dec, predecessor, with arguments\n",
    "(assert (= (PRED THREE a b) \"(a (a b))\"))\n",
    "; nested predecessor\n",
    "(assert (= (PRED (PRED (PRED FOUR))) \"(x y)\"))\n",
    "; previous + next is same\n",
    "(assert (= (SUCC (PRED TWO)) \"(x (x y))\"))\n",
    "; previous + next is same for zero\n",
    "(assert (= (PRED (SUCC ZERO)) 'y))\n",
    "; but previous + next is one for zero!\n",
    "(assert (= (SUCC (PRED ZERO)) \"(x y)\"))\n",
    "; sum two values\n",
    "(assert (= (SUM TWO TWO) \"(x (x (x (x y))))\"))\n",
    "; substract two x from y\n",
    "(assert (= (, (SUB ONE TWO) (SUB ONE ONE) (SUB TWO ONE))\n",
    "           (, \"(x y)\" 'y 'y)))\n",
    "(assert (= (, (EXP TWO TWO) (EXP TEN ZERO) (EXP ZERO ZERO))\n",
    "           (, \"(x (x (x (x y))))\" \"(x y)\" \"(x y)\")))\n",
    "(assert (= (, (PROD ZERO ONE a b) (PROD ONE ONE a b) (PROD TWO TWO a b))\n",
    "           (, 'b \"(a b)\" \"(a (a (a (a b))))\")))\n",
    "; self application\n",
    "(assert (= (SELF (L x , x) 1) 1))\n",
    "; self application, fixed point\n",
    ";count down to zero\n",
    "(assert (= (SELF (L f n , (COND (ZERO? n) ZERO (f f (PRED n)))) THREE) (ZERO)))\n",
    "; count down to one with lesser or equal comparison\n",
    "(assert (= (SELF (L f n , (COND (LEQ? n ONE) n (f f (PRED n)))) FOUR) \"(x y)\"))\n",
    "; count down to one with equal comparison\n",
    "(assert (= (SELF (L f n , (COND (EQ? n ONE) n (f f (PRED n)))) FOUR) \"(x y)\"))"
   ]
  },
  {
   "cell_type": "code",
   "execution_count": 11,
   "metadata": {
    "collapsed": true
   },
   "outputs": [],
   "source": [
    "; summation sequence, with plain number\n",
    "(assert (= (SUMMATION (L x y , (x (x (x y))))) \"(x (x (x (x (x (x y))))))\"))\n",
    "; summation sequence, with number macro form\n",
    "(assert (= (SUMMATION THREE) \"(x (x (x (x (x (x y))))))\"))\n",
    "; product sequence, with plain number\n",
    "(assert (= (FACTORIAL (L x y , (x (x (x y))))) \"(x (x (x (x (x (x y))))))\"))\n",
    "; product sequence, with number macro form\n",
    "(assert (= (FACTORIAL THREE) \"(x (x (x (x (x (x y))))))\"))\n",
    "; fibonacci, with plain number\n",
    "(assert (= (FIBONACCI (L x y , (x (x (x (x (x y))))))) \"(x (x (x (x (x (x (x (x (x (x (x (x (x y)))))))))))))\"))\n",
    "; fibonacci, with number macro form\n",
    "(assert (= (FIBONACCI FIVE) \"(x (x (x (x (x (x (x (x (x (x (x (x (x y)))))))))))))\"))"
   ]
  },
  {
   "cell_type": "code",
   "execution_count": 12,
   "metadata": {},
   "outputs": [
    {
     "name": "stdout",
     "output_type": "stream",
     "text": [
      "Recursion error occured for lambda expression:  (x , (x x) (L x , (x x)))\n"
     ]
    }
   ],
   "source": [
    "; self application recursive loop\n",
    "(setv result (L x , (x x) (L x , (x x))))\n",
    "(assert (none? result))"
   ]
  },
  {
   "cell_type": "code",
   "execution_count": 13,
   "metadata": {},
   "outputs": [
    {
     "data": {
      "text/plain": [
       "'(x (x (x (x (x (x (x (x (x (x (x (x (x (x (x (x (x (x (x (x (x (x (x (x (x (x (x (x (x (x (x (x (x (x (x (x y))))))))))))))))))))))))))))))))))))'"
      ]
     },
     "execution_count": 13,
     "metadata": {},
     "output_type": "execute_result"
    }
   ],
   "source": [
    "(SUMMATION (NUM 8))"
   ]
  },
  {
   "cell_type": "code",
   "execution_count": 14,
   "metadata": {},
   "outputs": [
    {
     "data": {
      "text/plain": [
       "'(x (x (x (x (x (x (x (x (x (x (x (x (x (x (x (x (x (x (x (x (x (x (x (x (x (x (x (x (x (x (x (x (x (x (x (x (x (x (x (x (x (x (x (x (x (x (x (x (x (x (x (x (x (x (x (x (x (x (x (x (x (x (x (x (x (x (x (x (x (x (x (x (x (x (x (x (x (x (x (x (x (x (x (x (x (x (x (x (x y)))))))))))))))))))))))))))))))))))))))))))))))))))))))))))))))))))))))))))))))))))))))))'"
      ]
     },
     "execution_count": 14,
     "metadata": {},
     "output_type": "execute_result"
    }
   ],
   "source": [
    "(FIBONACCI (NUM 9))"
   ]
  },
  {
   "cell_type": "code",
   "execution_count": 15,
   "metadata": {},
   "outputs": [
    {
     "data": {
      "text/plain": [
       "'(x (x (x (x (x (x (x (x (x (x (x (x (x (x (x (x (x (x (x (x (x (x (x (x (x (x (x (x (x (x (x (x (x (x (x (x (x (x (x (x (x (x (x (x (x (x (x (x (x (x (x (x (x (x (x (x (x (x (x (x (x (x (x (x (x (x (x (x (x (x (x (x (x (x (x (x (x (x (x (x (x (x (x (x (x (x (x (x (x (x (x (x (x (x (x (x (x (x (x (x (x (x (x (x (x (x (x (x (x (x (x (x (x (x (x (x (x (x (x (x y))))))))))))))))))))))))))))))))))))))))))))))))))))))))))))))))))))))))))))))))))))))))))))))))))))))))))))))))))))))))'"
      ]
     },
     "execution_count": 15,
     "metadata": {},
     "output_type": "execute_result"
    }
   ],
   "source": [
    "; requires alpha conversion and macros, or will cause recursion error!\n",
    "(with-alpha-conversion-and-macros L , )\n",
    "(FACTORIAL (NUM 5))"
   ]
  },
  {
   "cell_type": "code",
   "execution_count": null,
   "metadata": {
    "collapsed": true
   },
   "outputs": [],
   "source": []
  }
 ],
 "metadata": {
  "kernelspec": {
   "display_name": "Calysto Hy",
   "language": "hy",
   "name": "calysto_hy"
  },
  "language_info": {
   "codemirror_mode": {
    "name": "scheme"
   },
   "mimetype": "text/x-hylang",
   "name": "hy",
   "pygments_lexer": "lisp"
  }
 },
 "nbformat": 4,
 "nbformat_minor": 2
}
