{
 "cells": [
  {
   "cell_type": "code",
   "execution_count": 241,
   "metadata": {},
   "outputs": [
    {
     "data": {
      "text/plain": [
       "<function <lambda> at 0x000002190AA6DB70>"
      ]
     },
     "execution_count": 241,
     "metadata": {},
     "output_type": "execute_result"
    }
   ],
   "source": [
    "(eval-and-compile\n",
    " \n",
    "  (setv comma '·)\n",
    " \n",
    "  (defn drop-until [x l] \n",
    "    (do\n",
    "      (try \n",
    "        (setv y (.index l x))\n",
    "        (except [ValueError] (setv y -1)))\n",
    "      (cut l (inc y))))\n",
    "\n",
    "  (defn take-until [x l] \n",
    "    (do\n",
    "      (try \n",
    "        (setv y (.index l x))\n",
    "        (except [ValueError] (setv y (len l))))\n",
    "      (cut l 0 y)))\n",
    "\n",
    "  (defn hcdot [expr] \n",
    "    (list \n",
    "      (map (fn [x] (if (= x hy.HyCons) comma x)) expr)))\n",
    " \n",
    "  (defn args [expr]\n",
    "    (if (= (first expr) comma) [] (take-until comma expr))))\n",
    "\n",
    "(defmacro 𝜆 [&rest expr]\n",
    "  `(fn [~@(args expr)] ~(first (drop-until comma expr))))\n",
    "\n",
    "(defsharp L [expr]\n",
    "  (do\n",
    "    (print (first expr))\n",
    "    (setv expr (hcdot expr))\n",
    "    (print\n",
    "      expr\n",
    "      (drop-until comma `~expr) \n",
    "      (take-until comma `~expr))\n",
    "    `(fn ~(first expr) ~(second expr))))\n",
    "\n",
    "; Ÿ Application\n",
    "(defmacro Ÿ [func &rest args] (print `(apply ~func ~args)))\n",
    "; 𝜆 lambda function / expression / abstraction\n",
    "(defmacro λ [&rest expr] (print expr))"
   ]
  },
  {
   "cell_type": "markdown",
   "metadata": {},
   "source": [
    "#### Identity function\n",
    "\n",
    "Function returns same value that is passed as an argument:"
   ]
  },
  {
   "cell_type": "code",
   "execution_count": 242,
   "metadata": {},
   "outputs": [
    {
     "data": {
      "text/plain": [
       "1"
      ]
     },
     "execution_count": 242,
     "metadata": {},
     "output_type": "execute_result"
    }
   ],
   "source": [
    "; ((𝜆 x \\. x) 1) -> 1\n",
    "((𝜆 x · x) 1)"
   ]
  },
  {
   "cell_type": "code",
   "execution_count": 243,
   "metadata": {},
   "outputs": [
    {
     "data": {
      "text/plain": [
       "4"
      ]
     },
     "execution_count": 243,
     "metadata": {},
     "output_type": "execute_result"
    }
   ],
   "source": [
    "((𝜆 x · (* x 2)) 2)"
   ]
  },
  {
   "cell_type": "code",
   "execution_count": 244,
   "metadata": {},
   "outputs": [
    {
     "data": {
      "text/plain": [
       "4"
      ]
     },
     "execution_count": 244,
     "metadata": {},
     "output_type": "execute_result"
    }
   ],
   "source": [
    "((𝜆 x · (* x ((𝜆 x · x) 2))) 2)"
   ]
  },
  {
   "cell_type": "code",
   "execution_count": 245,
   "metadata": {},
   "outputs": [
    {
     "data": {
      "text/plain": [
       "('fn' ['x'] ('*' 'x' 'y'))"
      ]
     },
     "execution_count": 245,
     "metadata": {},
     "output_type": "execute_result"
    }
   ],
   "source": [
    "(macroexpand '(𝜆 x · (* x y)))"
   ]
  },
  {
   "cell_type": "code",
   "execution_count": 246,
   "metadata": {},
   "outputs": [
    {
     "data": {
      "text/plain": [
       "('fn' ['x'] ('𝜆' 'y' '·' ('*' 'y' 'x')))"
      ]
     },
     "execution_count": 246,
     "metadata": {},
     "output_type": "execute_result"
    }
   ],
   "source": [
    "(macroexpand '(𝜆 x · (𝜆 y · (* y x))))"
   ]
  },
  {
   "cell_type": "code",
   "execution_count": 247,
   "metadata": {},
   "outputs": [
    {
     "data": {
      "text/plain": [
       "4"
      ]
     },
     "execution_count": 247,
     "metadata": {},
     "output_type": "execute_result"
    }
   ],
   "source": [
    "(((𝜆 x · (𝜆 y · (* y x))) 2) 2)"
   ]
  },
  {
   "cell_type": "markdown",
   "metadata": {},
   "source": [
    "#### Constants\n",
    "\n",
    "Whatever is the argument, return 1:"
   ]
  },
  {
   "cell_type": "code",
   "execution_count": 248,
   "metadata": {},
   "outputs": [
    {
     "data": {
      "text/plain": [
       "2"
      ]
     },
     "execution_count": 248,
     "metadata": {},
     "output_type": "execute_result"
    }
   ],
   "source": [
    "((𝜆 x · 2) 1)"
   ]
  },
  {
   "cell_type": "code",
   "execution_count": 249,
   "metadata": {},
   "outputs": [
    {
     "data": {
      "text/plain": [
       "(1, 2, 3)"
      ]
     },
     "execution_count": 249,
     "metadata": {},
     "output_type": "execute_result"
    }
   ],
   "source": [
    "(, ((𝜆 x · x) 1) ((𝜆 x · x) 2) ((𝜆 x · x) 3))"
   ]
  },
  {
   "cell_type": "markdown",
   "metadata": {},
   "source": [
    "#### Infinite recursion\n",
    "\n",
    "Produce infinite loop:"
   ]
  },
  {
   "cell_type": "code",
   "execution_count": 250,
   "metadata": {},
   "outputs": [
    {
     "name": "stdout",
     "output_type": "stream",
     "text": [
      "Eternal loop achieved!\n"
     ]
    }
   ],
   "source": [
    "(try\n",
    " ; we will catch recursion error from this line, otherwise output would be messier\n",
    " ((𝜆 x · (x x)) (𝜆 x · (x x)))\n",
    " (except (e RecursionError)\n",
    "   (print \"Eternal loop achieved!\")))"
   ]
  },
  {
   "cell_type": "markdown",
   "metadata": {},
   "source": [
    "#### No arguments?!\n",
    "\n",
    "In original Lambda Calculus functions must have one and only one argument. Lambda macro in Calchylus is not that restricted. We can omit argument for simplicity:"
   ]
  },
  {
   "cell_type": "code",
   "execution_count": 252,
   "metadata": {},
   "outputs": [
    {
     "data": {
      "text/plain": [
       "2"
      ]
     },
     "execution_count": 252,
     "metadata": {},
     "output_type": "execute_result"
    }
   ],
   "source": [
    "((𝜆 · 2))"
   ]
  },
  {
   "cell_type": "markdown",
   "metadata": {},
   "source": [
    "#### Many arguments\n",
    "\n",
    "Also multiple arguments can be passed to the lambda function althought the original specification allows one and only one argument to be passed to the Lambda function.\n",
    "\n",
    "Support for both zero and multiple arguments simpifies the Lambda expression notation."
   ]
  },
  {
   "cell_type": "code",
   "execution_count": 253,
   "metadata": {},
   "outputs": [
    {
     "data": {
      "text/plain": [
       "3"
      ]
     },
     "execution_count": 253,
     "metadata": {},
     "output_type": "execute_result"
    }
   ],
   "source": [
    "((𝜆 x y · (+ x y)) 1 2)"
   ]
  },
  {
   "cell_type": "code",
   "execution_count": 55,
   "metadata": {},
   "outputs": [
    {
     "name": "stdout",
     "output_type": "stream",
     "text": [
      "('x' ',' 'x')\n",
      "['x', ',', 'x'] ['x', ',', 'x'] ['x', ',', 'x']\n"
     ]
    }
   ],
   "source": [
    ";(λ x '. x)\n",
    "\n",
    ";(Ÿ (fn [x] x) 'a)\n",
    "\n",
    "#L (x , x)"
   ]
  },
  {
   "cell_type": "code",
   "execution_count": 56,
   "metadata": {
    "collapsed": true
   },
   "outputs": [],
   "source": [
    "; Abstraction: 𝜆x.x -> creates a definition of (fn [x] x) which is the identity function, returns same value as passed\n",
    "; Application: (𝜆x.x 1) -> calls for identity function with a value 1, so the output / value of this application is 1\n",
    "; 𝜆x.y -> constant, what ever value x is, y is returned"
   ]
  },
  {
   "cell_type": "code",
   "execution_count": null,
   "metadata": {
    "collapsed": true
   },
   "outputs": [],
   "source": []
  },
  {
   "cell_type": "code",
   "execution_count": null,
   "metadata": {
    "collapsed": true
   },
   "outputs": [],
   "source": []
  }
 ],
 "metadata": {
  "kernelspec": {
   "display_name": "Calysto Hy",
   "language": "hy",
   "name": "calysto_hy"
  },
  "language_info": {
   "codemirror_mode": {
    "name": "scheme"
   },
   "mimetype": "text/x-hylang",
   "name": "hy",
   "pygments_lexer": "lisp"
  }
 },
 "nbformat": 4,
 "nbformat_minor": 2
}
