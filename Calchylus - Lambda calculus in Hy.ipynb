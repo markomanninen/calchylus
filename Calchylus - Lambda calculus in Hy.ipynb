{
 "cells": [
  {
   "cell_type": "markdown",
   "metadata": {},
   "source": [
    "# Calchylus - Lambda calculus in Hy\n",
    "<br/>\n",
    "<img src=\"lambda.png\" height=150 width=150 />\n",
    "<br/>\n",
    "\n",
    "Calchylus is a combination of [Hy](http://docs.hylang.org) macro and Lambda term dictionary. It was written to help to write and evaluate Lambda expressions.\n",
    "\n",
    "<blockquote>[Lambda calculus](https://en.wikipedia.org/wiki/Lambda_calculus) is a formal system in mathematical logic for expressing computation based on function abstraction and application using variable binding and substitution. -<i> wikipedia.org</i></blockquote>\n",
    "\n",
    "The short `𝜆` macro presented below, makes it possible to define and evaluate Lambda expressions the most conventional way. There is really not much to implement because Hy is already a LISP language. LISP, on the other hand, can be defined as *an untyped Lambda calculus extended with constants*. So actually we just need to introduce `𝜆` macro,  simplify the usual LISP notation, and act only with functions.\n",
    "\n",
    "### Repository\n",
    "\n",
    "[Calchylus](http://nbviewer.jupyter.org/github/markomanninen/calchylus/blob/master/Calchylus%20-%20Lambda%20calculus%20in%20Hy.ipynb) Jupyter notebook and GitHub [repository](https://github.com/markomanninen/calchylus) was initialized by [Marko Manninen](https://github.com/markomanninen), 08/2017.\n",
    "\n",
    "##  Lambda (`𝜆`) macro"
   ]
  },
  {
   "cell_type": "code",
   "execution_count": 1,
   "metadata": {},
   "outputs": [
    {
     "data": {
      "text/plain": [
       "<function _hy_anon_fn_2 at 0x000001991350E598>"
      ]
     },
     "execution_count": 1,
     "metadata": {},
     "output_type": "execute_result"
    }
   ],
   "source": [
    "; index-find function needs to be available at compile time for the lambda expression macro\n",
    "(eval-and-compile\n",
    "  ; set comma constant for separator\n",
    "  ; at the moment Hy doesn't support dot on macro expressions because dot is mixed with internal HyCons functionality\n",
    "  ; causing this error: https://github.com/hylang/hy/blob/e8ffd412028232cc2cc4fe4bfb10f21ce8ab2565/hy/compiler.py#L2478\n",
    "  (setv comma '·)\n",
    "  ; find index of the element from the list. if the element is not found, return -1\n",
    "  (defn index-find [elm lst]\n",
    "    (try (.index lst elm) (except [ValueError] -1))))\n",
    "; lambda expression macro\n",
    "(defmacro 𝜆 [&rest expr]\n",
    "  (setv idx (index-find comma expr))\n",
    "  `(fn ~(cut expr 0 (if (pos? idx) idx 0)) ~@(cut expr (inc idx))))"
   ]
  },
  {
   "cell_type": "markdown",
   "metadata": {},
   "source": [
    "### Basics\n",
    "\n",
    "#### Syntax\n",
    "\n",
    "Parentheses `(` `)` to elaborate function scope, group terms, prevent disambiguity, and wrap application. Lambda symbol `𝜆` to mark the beginning of the function. Dot separator `·` to distinct function arguments and function body from each other. \n",
    "\n",
    "#### Terms\n",
    "\n",
    "1. Lambda variables. Any symbol following Hy definitions are accepted. For example single character variable names like `x` and `y`, multi character names `args`, also with capitals `FUNC`, are allowed.\n",
    "\n",
    "2. Lambda abstraction. For example `(𝜆 x · x)` creates a definition of the function `(fn [x] x)`, or $x \\mapsto\n",
    "x$ in mathematic notation.\n",
    "3. Lambda application. For example `((𝜆 x · x) 1)` calls for anonymous function with input value `1`."
   ]
  },
  {
   "cell_type": "markdown",
   "metadata": {},
   "source": [
    "#### Lambda abstraction\n",
    "\n",
    "Lambda abstraction is a function definition similar to this:\n",
    "\n",
    "$$\\Large(𝜆 \\space x · x)$$\n",
    "\n",
    "We can examine the generated Hy code of the functions with `macroexpand`:"
   ]
  },
  {
   "cell_type": "code",
   "execution_count": 2,
   "metadata": {},
   "outputs": [
    {
     "data": {
      "text/plain": [
       "('fn' ['x'] 'x')"
      ]
     },
     "execution_count": 2,
     "metadata": {},
     "output_type": "execute_result"
    }
   ],
   "source": [
    "(macroexpand '(𝜆 x · x))"
   ]
  },
  {
   "cell_type": "markdown",
   "metadata": {},
   "source": [
    "#### Lambda application\n",
    "\n",
    "Lambda application is the procedure to evaluate declared functions with a given input. Applications are similar to this:\n",
    "\n",
    "$$\\Large((𝜆 \\space x · x)\\space y) \\implies y$$\n",
    "\n",
    "where the first `x` is a name of the argument of the function. The second `x` is the return value of the function. `y` is the input value passed to the function. Later in the document we will use $\\implies$ character to denote, if lambda term reduces to simpler terms or if application evaluates to a certain value.\n",
    "\n",
    "Let us next utilize above application and pass an argument to so called identity function."
   ]
  },
  {
   "cell_type": "markdown",
   "metadata": {},
   "source": [
    "#### Identity function\n",
    "\n",
    "The identity function returns same value that is passed to the function as an argument. Next we run the simple application of the identity function with the input value `1`:"
   ]
  },
  {
   "cell_type": "code",
   "execution_count": 3,
   "metadata": {},
   "outputs": [
    {
     "data": {
      "text/plain": [
       "1"
      ]
     },
     "execution_count": 3,
     "metadata": {},
     "output_type": "execute_result"
    }
   ],
   "source": [
    "((𝜆 x · x) 1) ; ((𝜆 x · x) 1) ≡ 1"
   ]
  },
  {
   "cell_type": "markdown",
   "metadata": {},
   "source": [
    "Output is as expected, not very exciting one.\n",
    "\n",
    "#### Function as an argument\n",
    "\n",
    "Argument passed to the function can also be yet another function. Say, we want to pass the identity function to the identity function instead of the static value, then the appication would look this:\n",
    "\n",
    "$$\\Large((𝜆 \\space x · x) \\space (𝜆 \\space x · x)) \\implies (𝜆 \\space x · x)$$\n",
    "\n",
    "The outcome of such application is a function, thus it alone cannot evaluate to any value. Rather we need to treat it as a function part of the application and provide input for it:"
   ]
  },
  {
   "cell_type": "code",
   "execution_count": 4,
   "metadata": {},
   "outputs": [
    {
     "data": {
      "text/plain": [
       "1"
      ]
     },
     "execution_count": 4,
     "metadata": {},
     "output_type": "execute_result"
    }
   ],
   "source": [
    "(((𝜆 x · x) (𝜆 x · x)) 1)"
   ]
  },
  {
   "cell_type": "markdown",
   "metadata": {},
   "source": [
    "Again output is expected to be `1` because first we pass identity function `a` to the identity function `b` and then we pass the value `1` to the identity function `b`.\n",
    "\n",
    "#### Self application\n",
    "\n",
    "One more step toward deeper nested structures is to call function inside a function:\n",
    "\n",
    "$$\\Large((𝜆 \\space x \\space · ((𝜆 \\space x \\space · x) \\space x)) \\space 1) \\implies 1$$"
   ]
  },
  {
   "cell_type": "code",
   "execution_count": 5,
   "metadata": {},
   "outputs": [
    {
     "data": {
      "text/plain": [
       "1"
      ]
     },
     "execution_count": 5,
     "metadata": {},
     "output_type": "execute_result"
    }
   ],
   "source": [
    "((𝜆 x · ((𝜆 x · x) x)) 1)"
   ]
  },
  {
   "cell_type": "markdown",
   "metadata": {},
   "source": [
    "We can see how the result is same in all three examples.\n",
    "\n",
    "Note also how variable names are same on nested functions. This works because of safe scoping in Hy, but one might understand functionality more clear if different variable names were used like this:\n",
    "\n",
    "$$\\Large(𝜆 \\space x \\space · ((𝜆 \\space y \\space · y) \\space x))$$\n",
    "\n",
    "#### Currying\n",
    "\n",
    "Restriction of the traditional Lambda calculus is that it allows one and only one argument per function. Programmers on most of the modern languages are used to multiary functions. There is a way to imitate multiple argument passing with a nested structure called *currying* in Lambda calculus.\n",
    "\n",
    "$$\\Large(𝜆 \\space x \\space · (𝜆 \\space y \\space · (𝜆 \\space z \\space · x \\space y \\space z)))$$\n",
    "\n",
    "Let us make a simple multiplication with two variables for instance:"
   ]
  },
  {
   "cell_type": "code",
   "execution_count": 6,
   "metadata": {},
   "outputs": [
    {
     "data": {
      "text/plain": [
       "8"
      ]
     },
     "execution_count": 6,
     "metadata": {},
     "output_type": "execute_result"
    }
   ],
   "source": [
    "((((𝜆 x · (𝜆 y · (𝜆 z · (* x y z)))) 2) 2) 2)"
   ]
  },
  {
   "cell_type": "markdown",
   "metadata": {},
   "source": [
    "#### Many arguments\n",
    "\n",
    "Also multiple arguments can be passed to the lambda function althought the original specification allows one and only one argument to be passed to the Lambda function.\n",
    "\n",
    "Support for both zero and multiple arguments simpifies the Lambda expression notation."
   ]
  },
  {
   "cell_type": "code",
   "execution_count": 7,
   "metadata": {},
   "outputs": [
    {
     "data": {
      "text/plain": [
       "8"
      ]
     },
     "execution_count": 7,
     "metadata": {},
     "output_type": "execute_result"
    }
   ],
   "source": [
    "((𝜆 x y z · (* x y z)) 2 2 2)"
   ]
  },
  {
   "cell_type": "markdown",
   "metadata": {},
   "source": [
    "#### Constants\n",
    "\n",
    "Whatever is the argument, return 1:"
   ]
  },
  {
   "cell_type": "code",
   "execution_count": 8,
   "metadata": {},
   "outputs": [
    {
     "data": {
      "text/plain": [
       "2"
      ]
     },
     "execution_count": 8,
     "metadata": {},
     "output_type": "execute_result"
    }
   ],
   "source": [
    "((𝜆 x · 2) 1)"
   ]
  },
  {
   "cell_type": "markdown",
   "metadata": {},
   "source": [
    "#### No arguments?!\n",
    "\n",
    "In original Lambda Calculus functions must have one and only one argument. Lambda macro in Calchylus is not that restricted. We can omit argument for simplicity:"
   ]
  },
  {
   "cell_type": "code",
   "execution_count": 9,
   "metadata": {},
   "outputs": [
    {
     "data": {
      "text/plain": [
       "2"
      ]
     },
     "execution_count": 9,
     "metadata": {},
     "output_type": "execute_result"
    }
   ],
   "source": [
    "((𝜆 · 2))"
   ]
  },
  {
   "cell_type": "markdown",
   "metadata": {},
   "source": [
    "#### Apply function\n",
    "\n",
    "Further abstracting functional properties of the lambda expressions, we can implement function caller (apply func args) with the next statement:"
   ]
  },
  {
   "cell_type": "code",
   "execution_count": 10,
   "metadata": {},
   "outputs": [
    {
     "data": {
      "text/plain": [
       "2"
      ]
     },
     "execution_count": 10,
     "metadata": {},
     "output_type": "execute_result"
    }
   ],
   "source": [
    "(((𝜆 func · (𝜆 arg · (func arg))) (𝜆 x · x)) 2)"
   ]
  },
  {
   "cell_type": "code",
   "execution_count": 11,
   "metadata": {},
   "outputs": [
    {
     "data": {
      "text/plain": [
       "(1, 2, 3)"
      ]
     },
     "execution_count": 11,
     "metadata": {},
     "output_type": "execute_result"
    }
   ],
   "source": [
    "(, ((𝜆 x · x) 1) ((𝜆 x · x) 2) ((𝜆 x · x) 3))"
   ]
  },
  {
   "cell_type": "markdown",
   "metadata": {},
   "source": [
    "#### Make pair\n",
    "\n",
    "$$\\Large(𝜆 \\space x · (𝜆 \\space y · (𝜆 \\space f · ((f \\space x) \\space y))))$$"
   ]
  },
  {
   "cell_type": "markdown",
   "metadata": {},
   "source": [
    "Select first:"
   ]
  },
  {
   "cell_type": "code",
   "execution_count": 12,
   "metadata": {},
   "outputs": [
    {
     "data": {
      "text/plain": [
       "1"
      ]
     },
     "execution_count": 12,
     "metadata": {},
     "output_type": "execute_result"
    }
   ],
   "source": [
    "((((𝜆 x · (𝜆 y · (𝜆 f · ((f x) y)))) 1) 2) (𝜆 x · (𝜆 y · x)))"
   ]
  },
  {
   "cell_type": "markdown",
   "metadata": {},
   "source": [
    "Select second:"
   ]
  },
  {
   "cell_type": "code",
   "execution_count": 13,
   "metadata": {},
   "outputs": [
    {
     "data": {
      "text/plain": [
       "2"
      ]
     },
     "execution_count": 13,
     "metadata": {},
     "output_type": "execute_result"
    }
   ],
   "source": [
    "((((𝜆 x · (𝜆 y · (𝜆 f · ((f x) y)))) 1) 2) (𝜆 x · (𝜆 y · y)))"
   ]
  },
  {
   "cell_type": "markdown",
   "metadata": {},
   "source": [
    "#### Twiddle\n",
    "\n",
    "Swap function argument pair."
   ]
  },
  {
   "cell_type": "code",
   "execution_count": 14,
   "metadata": {},
   "outputs": [
    {
     "data": {
      "text/plain": [
       "1"
      ]
     },
     "execution_count": 14,
     "metadata": {},
     "output_type": "execute_result"
    }
   ],
   "source": [
    "; ask for the second but because arguments are swapped, the first one is returned\n",
    "((((𝜆 x · (𝜆 y · (𝜆 f · ((f y) x)))) 1) 2) (𝜆 x · (𝜆 y · y)))"
   ]
  },
  {
   "cell_type": "markdown",
   "metadata": {},
   "source": [
    "#### Infinite recursion\n",
    "\n",
    "Produce infinite loop:"
   ]
  },
  {
   "cell_type": "code",
   "execution_count": 15,
   "metadata": {},
   "outputs": [
    {
     "name": "stdout",
     "output_type": "stream",
     "text": [
      "Eternal loop achieved!\n"
     ]
    }
   ],
   "source": [
    "(try\n",
    " ; we will catch recursion error from this line, otherwise output would be messier\n",
    " ((𝜆 x · (x x)) (𝜆 x · (x x)))\n",
    " (except (e RecursionError)\n",
    "   (print \"Eternal loop achieved!\")))"
   ]
  },
  {
   "cell_type": "markdown",
   "metadata": {},
   "source": [
    "#### Free and bound variables\n",
    "\n",
    "Lambda abstractions can hold any free variables, but at the application evaluation, none of the functions should have free variables or it will cause variable definition error. For example, this is ok since we are declaring the function, not executing it:"
   ]
  },
  {
   "cell_type": "code",
   "execution_count": 16,
   "metadata": {},
   "outputs": [
    {
     "data": {
      "text/plain": [
       "<function <lambda> at 0x00000199133F7048>"
      ]
     },
     "execution_count": 16,
     "metadata": {},
     "output_type": "execute_result"
    }
   ],
   "source": [
    "(𝜆 x · (+ x y))"
   ]
  },
  {
   "cell_type": "markdown",
   "metadata": {},
   "source": [
    "But unbound variable y will become a problem on evaluation of the application:"
   ]
  },
  {
   "cell_type": "code",
   "execution_count": 17,
   "metadata": {},
   "outputs": [
    {
     "name": "stdout",
     "output_type": "stream",
     "text": [
      "name 'y' is not defined\n"
     ]
    }
   ],
   "source": [
    "(try \n",
    "  ((𝜆 x · (+ x y)) 1)\n",
    "  (except (e NameError)\n",
    "    (print e)))"
   ]
  },
  {
   "cell_type": "markdown",
   "metadata": {},
   "source": [
    "### Logical operations"
   ]
  },
  {
   "cell_type": "markdown",
   "metadata": {},
   "source": [
    "#### Boolean TRUE\n",
    "\n",
    "Boolean true operator is defined by functional means with a pair selector that returns the first item of the given arguments:\n",
    "\n",
    "$$\\Large(((𝜆 \\space x · (𝜆 \\space y · x)) \\space a) \\space b) \\implies a$$"
   ]
  },
  {
   "cell_type": "code",
   "execution_count": 18,
   "metadata": {},
   "outputs": [
    {
     "data": {
      "text/plain": [
       "1"
      ]
     },
     "execution_count": 18,
     "metadata": {},
     "output_type": "execute_result"
    }
   ],
   "source": [
    "; select the first\n",
    "(((𝜆 x · (𝜆 y · x)) 1) 2)"
   ]
  },
  {
   "cell_type": "markdown",
   "metadata": {},
   "source": [
    "#### Boolean FALSE\n",
    "\n",
    "Boolean false operator is defined with a pair selector that returns the second item of the given arguments:\n",
    "\n",
    "$$\\Large(((𝜆 \\space x · (𝜆 \\space y · y)) \\space a) \\space b) \\implies b$$"
   ]
  },
  {
   "cell_type": "code",
   "execution_count": 19,
   "metadata": {},
   "outputs": [
    {
     "data": {
      "text/plain": [
       "2"
      ]
     },
     "execution_count": 19,
     "metadata": {},
     "output_type": "execute_result"
    }
   ],
   "source": [
    "; select the second\n",
    "(((𝜆 x · (𝜆 y · y)) 1) 2)"
   ]
  },
  {
   "cell_type": "markdown",
   "metadata": {},
   "source": [
    "#### Conditions\n",
    "\n",
    "IF-THEN-ELSE condition can be formed with boolean true / false selectors. As we defined earlier, true selector returns the first given argument, and false selector returns the second argument. Thus in Lambda calculus we can produce IF-THEN-ELSE functionality by passing either true or false selector to the function and let it select between the first options and the second option.\n",
    "\n",
    "Let proposition `P` be the boolean selector, `a` the first option, and `b` the second option. Formal definition of the IF-THEN-ELSE Lambda term would be:\n",
    "\n",
    "$$\\Large(𝜆 \\space P · (𝜆 \\space a · (𝜆 \\space b · ((P \\space a) \\space b))))$$\n",
    "\n",
    "In the next example `P` is $(𝜆 \\space x · (𝜆 \\space y · x))$ (i.e. true), `a` is literal T, and `b` is literal F:"
   ]
  },
  {
   "cell_type": "code",
   "execution_count": 20,
   "metadata": {},
   "outputs": [
    {
     "data": {
      "text/plain": [
       "'T'"
      ]
     },
     "execution_count": 20,
     "metadata": {},
     "output_type": "execute_result"
    }
   ],
   "source": [
    "((((𝜆 P · (𝜆 a · (𝜆 b · ((P a) b)))) (𝜆 x · (𝜆 y · x))) 'T) 'F)"
   ]
  },
  {
   "cell_type": "markdown",
   "metadata": {},
   "source": [
    "Or with a shorter notation, this time `P` is $(𝜆 \\space x · (𝜆 \\space y · y))$ (i.e. false):"
   ]
  },
  {
   "cell_type": "code",
   "execution_count": 21,
   "metadata": {},
   "outputs": [
    {
     "data": {
      "text/plain": [
       "'F'"
      ]
     },
     "execution_count": 21,
     "metadata": {},
     "output_type": "execute_result"
    }
   ],
   "source": [
    "((𝜆 P a b · (P a b)) (𝜆 x y · y) 'T 'F)"
   ]
  },
  {
   "cell_type": "markdown",
   "metadata": {},
   "source": [
    "### Connectives"
   ]
  },
  {
   "cell_type": "markdown",
   "metadata": {},
   "source": [
    "#### NOT\n",
    "\n",
    "$$\\Large(𝜆 x · ((x (𝜆 x · (𝜆 y · y))) (𝜆 x · (𝜆 y · x))))$$"
   ]
  },
  {
   "cell_type": "code",
   "execution_count": 22,
   "metadata": {},
   "outputs": [
    {
     "data": {
      "text/plain": [
       "'F'"
      ]
     },
     "execution_count": 22,
     "metadata": {},
     "output_type": "execute_result"
    }
   ],
   "source": [
    "((((𝜆 x · ((x (𝜆 x · (𝜆 y · y))) (𝜆 x · (𝜆 y · x)))) (𝜆 x · (𝜆 y · x))) 'T) 'F)"
   ]
  },
  {
   "cell_type": "code",
   "execution_count": 23,
   "metadata": {},
   "outputs": [
    {
     "data": {
      "text/plain": [
       "'T'"
      ]
     },
     "execution_count": 23,
     "metadata": {},
     "output_type": "execute_result"
    }
   ],
   "source": [
    "(((𝜆 x · (x (𝜆 x y · y) (𝜆 x y · x))) (𝜆 x y · y)) 'T 'F)"
   ]
  },
  {
   "cell_type": "markdown",
   "metadata": {},
   "source": [
    "#### AND\n",
    "\n",
    "$$\\Large(𝜆 a · (𝜆 b · ((a b) (𝜆 x · (𝜆 y · y)))))$$"
   ]
  },
  {
   "cell_type": "code",
   "execution_count": 24,
   "metadata": {},
   "outputs": [
    {
     "data": {
      "text/plain": [
       "'T'"
      ]
     },
     "execution_count": 24,
     "metadata": {},
     "output_type": "execute_result"
    }
   ],
   "source": [
    "; IF a is TRUE AND b is TRUE, THEN x, ELSE y\n",
    "; a is TRUE, b is TRUE, x is T, y is F -> T\n",
    "(((((𝜆 a · (𝜆 b · ((a b) (𝜆 x · (𝜆 y · y))))) (𝜆 x · (𝜆 y · x))) (𝜆 x · (𝜆 y · x))) 'T) 'F)"
   ]
  },
  {
   "cell_type": "code",
   "execution_count": 25,
   "metadata": {},
   "outputs": [
    {
     "data": {
      "text/plain": [
       "'F'"
      ]
     },
     "execution_count": 25,
     "metadata": {},
     "output_type": "execute_result"
    }
   ],
   "source": [
    "(((𝜆 a b · (a b (𝜆 x y · y))) (𝜆 x y · x) (𝜆 x y · y)) 'T 'F)"
   ]
  },
  {
   "cell_type": "markdown",
   "metadata": {},
   "source": [
    "#### OR\n",
    "\n",
    "$$\\Large(𝜆 a · (𝜆 b · ((a (𝜆 x · (𝜆 y · x))) b)))$$"
   ]
  },
  {
   "cell_type": "code",
   "execution_count": 26,
   "metadata": {},
   "outputs": [
    {
     "data": {
      "text/plain": [
       "'T'"
      ]
     },
     "execution_count": 26,
     "metadata": {},
     "output_type": "execute_result"
    }
   ],
   "source": [
    "; IF a is TRUE OR b is TRUE, THEN x, ELSE y\n",
    "; a is TRUE, b is FALSE, x is T, y is F -> T\n",
    "(((((𝜆 a · (𝜆 b · ((a (𝜆 x · (𝜆 y · x))) b))) (𝜆 x · (𝜆 y · x))) (𝜆 x · (𝜆 y · y))) 'T) 'F)"
   ]
  },
  {
   "cell_type": "code",
   "execution_count": 27,
   "metadata": {},
   "outputs": [
    {
     "data": {
      "text/plain": [
       "'F'"
      ]
     },
     "execution_count": 27,
     "metadata": {},
     "output_type": "execute_result"
    }
   ],
   "source": [
    "(((𝜆 a b · (a (𝜆 x y · x) b)) (𝜆 x y · y) (𝜆 x y · y)) 'T 'F)"
   ]
  },
  {
   "cell_type": "markdown",
   "metadata": {},
   "source": [
    "### Y combinator\n",
    "\n",
    "#### Triangular number\n",
    "\n",
    "Summation..."
   ]
  },
  {
   "cell_type": "code",
   "execution_count": 28,
   "metadata": {},
   "outputs": [
    {
     "data": {
      "text/plain": [
       "55"
      ]
     },
     "execution_count": 28,
     "metadata": {},
     "output_type": "execute_result"
    }
   ],
   "source": [
    "; loop until given limit and sum up all values -> (summa 10)\n",
    "; x = function, y = steps, z = result\n",
    "((𝜆 x y · (x x y 0))\n",
    "  (𝜆 x y z · (if (> y 0) (x x (- y 1) (+ y z)) z))\n",
    "  10)"
   ]
  },
  {
   "cell_type": "markdown",
   "metadata": {},
   "source": [
    "#### Product"
   ]
  },
  {
   "cell_type": "code",
   "execution_count": 29,
   "metadata": {},
   "outputs": [
    {
     "data": {
      "text/plain": [
       "5040"
      ]
     },
     "execution_count": 29,
     "metadata": {},
     "output_type": "execute_result"
    }
   ],
   "source": [
    "; loop until given limit and sum up all values -> (product 7)\n",
    "; x = function, y = steps, z = result\n",
    "((𝜆 x y · (x x y 1)) (𝜆 x y z · (if (> y 0) (x x (- y 1) (* y z)) z)) 7)"
   ]
  },
  {
   "cell_type": "markdown",
   "metadata": {},
   "source": [
    "### Lists"
   ]
  },
  {
   "cell_type": "markdown",
   "metadata": {},
   "source": [
    "## The [MIT](http://choosealicense.com/licenses/mit/) License\n",
    "\n",
    "Copyright (c) 2017 Marko Manninen"
   ]
  }
 ],
 "metadata": {
  "kernelspec": {
   "display_name": "Calysto Hy",
   "language": "hy",
   "name": "calysto_hy"
  },
  "language_info": {
   "codemirror_mode": {
    "name": "scheme"
   },
   "mimetype": "text/x-hylang",
   "name": "hy",
   "pygments_lexer": "lisp"
  }
 },
 "nbformat": 4,
 "nbformat_minor": 2
}
