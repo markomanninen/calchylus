{
 "cells": [
  {
   "cell_type": "markdown",
   "metadata": {},
   "source": [
    "# Calchylus - Lambda calculus in Hy\n",
    "<br/>\n",
    "<img src=\"lambda.png\" height=150 width=150 />\n",
    "<br/>\n",
    "[Lambda calculus](https://en.wikipedia.org/wiki/Lambda_calculus) is a formal system in mathematical logic for expressing computation based on function abstraction and application using variable binding and substitution.\n",
    "\n",
    "Calchylus is a [Hy](http://docs.hylang.org) macro to write and evaluate Lambda expressions.\n",
    "\n",
    "### Lambda macro"
   ]
  },
  {
   "cell_type": "code",
   "execution_count": 1,
   "metadata": {},
   "outputs": [
    {
     "data": {
      "text/plain": [
       "<function _hy_anon_fn_5 at 0x000001EC67503AE8>"
      ]
     },
     "execution_count": 1,
     "metadata": {},
     "output_type": "execute_result"
    }
   ],
   "source": [
    "; for lambda macro these functions needs to be available at compile time\n",
    "(eval-and-compile\n",
    " \n",
    "  (setv comma '·)\n",
    " \n",
    "  (defn drop-until [x l] \n",
    "    (do\n",
    "      (try \n",
    "        (setv y (.index l x))\n",
    "        (except [ValueError] (setv y -1)))\n",
    "      (cut l (inc y))))\n",
    "\n",
    "  (defn take-until [x l] \n",
    "    (do\n",
    "      (try \n",
    "        (setv y (.index l x))\n",
    "        (except [ValueError] (setv y (len l))))\n",
    "      (cut l 0 y)))\n",
    "\n",
    "  (defn hcdot [expr] \n",
    "    (list \n",
    "      (map (fn [x] (if (= x hy.HyCons) comma x)) expr)))\n",
    " \n",
    "  (defn args [expr]\n",
    "    (if (= (first expr) comma) [] (take-until comma expr))))\n",
    "\n",
    "(defmacro 𝜆 [&rest expr]\n",
    "  `(fn [~@(args expr)] ~(first (drop-until comma expr))))\n",
    "\n",
    "; shorthand syntax: (#λ(x y · (+ x y)) 1 2)\n",
    "(defsharp λ [expr] (print expr)\n",
    "  `(fn [~@(args expr)] ~(first (drop-until comma expr))))\n",
    "\n",
    "; Ÿ Application"
   ]
  },
  {
   "cell_type": "markdown",
   "metadata": {},
   "source": [
    "#### Syntax\n",
    "\n",
    "[`𝜆` `·` `(` `)`]\n",
    "\n",
    "#### Terms\n",
    "\n",
    "1. Lambda variables, any literal following Hy symbol definitions are accepted, for example: `x` ,`y`, `args`, `FUNCTION` but also any unicode name like `⨐` is ok\n",
    "\n",
    "2. Lambda abstraction, for example `(𝜆 x · x)` creates a definition of function `(fn [x] x)`\n",
    "\n",
    "3. Lambda application , for example `((𝜆 x · x) 1)` calls for identity function with the input value 1, so the output / value of this application is 1"
   ]
  },
  {
   "cell_type": "markdown",
   "metadata": {},
   "source": [
    "#### Lambda abstraction\n",
    "$$\\Large(𝜆 \\space x · x)$$"
   ]
  },
  {
   "cell_type": "code",
   "execution_count": 2,
   "metadata": {},
   "outputs": [
    {
     "data": {
      "text/plain": [
       "('fn' ['x'] 'x')"
      ]
     },
     "execution_count": 2,
     "metadata": {},
     "output_type": "execute_result"
    }
   ],
   "source": [
    "(macroexpand '(𝜆 x · x))"
   ]
  },
  {
   "cell_type": "markdown",
   "metadata": {},
   "source": [
    "#### Lambda application\n",
    "\n",
    "$$\\Large((𝜆 \\space x · x)\\space y)$$"
   ]
  },
  {
   "cell_type": "markdown",
   "metadata": {},
   "source": [
    "#### Identity function\n",
    "\n",
    "Function returns same value that is passed as an argument. Let's run the simple application of the identity function:"
   ]
  },
  {
   "cell_type": "code",
   "execution_count": 3,
   "metadata": {},
   "outputs": [
    {
     "data": {
      "text/plain": [
       "1"
      ]
     },
     "execution_count": 3,
     "metadata": {},
     "output_type": "execute_result"
    }
   ],
   "source": [
    "((𝜆 x · x) 1)"
   ]
  },
  {
   "cell_type": "markdown",
   "metadata": {},
   "source": [
    "#### Function as an argument\n",
    "\n",
    "Argument passed to the function can also be yet another function. Say, we want to pass the identity function to the identity function instead of static value, then appication would look this:\n",
    "\n",
    "$$\\Large((𝜆 \\space x · x) \\space (𝜆 \\space x · x))$$\n",
    "\n",
    "The outcome of such application is a function, thus it alone cannot evaluate to any value. Rather we need to treat it as a function part of the application and provide input for it:"
   ]
  },
  {
   "cell_type": "code",
   "execution_count": 4,
   "metadata": {},
   "outputs": [
    {
     "data": {
      "text/plain": [
       "1"
      ]
     },
     "execution_count": 4,
     "metadata": {},
     "output_type": "execute_result"
    }
   ],
   "source": [
    "(((𝜆 x · x) (𝜆 x · x)) 1)"
   ]
  },
  {
   "cell_type": "markdown",
   "metadata": {},
   "source": [
    "#### Self application\n",
    "\n",
    "One more step toward deeper nested structures is to use argument as a function and input at the same time:"
   ]
  },
  {
   "cell_type": "code",
   "execution_count": 5,
   "metadata": {},
   "outputs": [
    {
     "data": {
      "text/plain": [
       "1"
      ]
     },
     "execution_count": 5,
     "metadata": {},
     "output_type": "execute_result"
    }
   ],
   "source": [
    "(((𝜆 x · (x x)) (𝜆 x · x)) 1)"
   ]
  },
  {
   "cell_type": "markdown",
   "metadata": {},
   "source": [
    "#### Currying\n",
    "\n",
    "Restriction of the traditional Lambda Calculus is that it allows one and only one argument per function. However, there is a way to imitate multiple argument passing with a nested structure called *currying*."
   ]
  },
  {
   "cell_type": "code",
   "execution_count": 6,
   "metadata": {},
   "outputs": [
    {
     "data": {
      "text/plain": [
       "4"
      ]
     },
     "execution_count": 6,
     "metadata": {},
     "output_type": "execute_result"
    }
   ],
   "source": [
    ";((λfirst.λsecond.first x) y)\n",
    "(((𝜆 x · (𝜆 y · (* y x))) 2) 2)"
   ]
  },
  {
   "cell_type": "markdown",
   "metadata": {},
   "source": [
    "#### Apply function\n",
    "\n",
    "Further abstracting functional properties of the lambda expressions, we can implement function caller (apply func args) with the next statement:"
   ]
  },
  {
   "cell_type": "code",
   "execution_count": 7,
   "metadata": {},
   "outputs": [
    {
     "data": {
      "text/plain": [
       "2"
      ]
     },
     "execution_count": 7,
     "metadata": {},
     "output_type": "execute_result"
    }
   ],
   "source": [
    "(((𝜆 func · (𝜆 arg · (func arg))) (𝜆 x · x)) 2)"
   ]
  },
  {
   "cell_type": "markdown",
   "metadata": {},
   "source": [
    "#### Constants\n",
    "\n",
    "Whatever is the argument, return 1:"
   ]
  },
  {
   "cell_type": "code",
   "execution_count": 8,
   "metadata": {},
   "outputs": [
    {
     "data": {
      "text/plain": [
       "2"
      ]
     },
     "execution_count": 8,
     "metadata": {},
     "output_type": "execute_result"
    }
   ],
   "source": [
    "((𝜆 x · 2) 1)"
   ]
  },
  {
   "cell_type": "code",
   "execution_count": 9,
   "metadata": {},
   "outputs": [
    {
     "data": {
      "text/plain": [
       "(1, 2, 3)"
      ]
     },
     "execution_count": 9,
     "metadata": {},
     "output_type": "execute_result"
    }
   ],
   "source": [
    "(, ((𝜆 x · x) 1) ((𝜆 x · x) 2) ((𝜆 x · x) 3))"
   ]
  },
  {
   "cell_type": "markdown",
   "metadata": {},
   "source": [
    "#### Make pair\n",
    "\n",
    "$$\\Large(𝜆 \\space x · (𝜆 \\space y · (𝜆 \\space f · ((f \\space x) \\space y))))$$"
   ]
  },
  {
   "cell_type": "markdown",
   "metadata": {},
   "source": [
    "Select first:"
   ]
  },
  {
   "cell_type": "code",
   "execution_count": 10,
   "metadata": {},
   "outputs": [
    {
     "data": {
      "text/plain": [
       "1"
      ]
     },
     "execution_count": 10,
     "metadata": {},
     "output_type": "execute_result"
    }
   ],
   "source": [
    "((((𝜆 x · (𝜆 y · (𝜆 f · ((f x) y)))) 1) 2) (𝜆 x · (𝜆 y · x)))"
   ]
  },
  {
   "cell_type": "markdown",
   "metadata": {},
   "source": [
    "Select second:"
   ]
  },
  {
   "cell_type": "code",
   "execution_count": 11,
   "metadata": {},
   "outputs": [
    {
     "data": {
      "text/plain": [
       "2"
      ]
     },
     "execution_count": 11,
     "metadata": {},
     "output_type": "execute_result"
    }
   ],
   "source": [
    "((((𝜆 x · (𝜆 y · (𝜆 f · ((f x) y)))) 1) 2) (𝜆 x · (𝜆 y · y)))"
   ]
  },
  {
   "cell_type": "markdown",
   "metadata": {},
   "source": [
    "#### Twiddle\n",
    "\n",
    "Swap function argument pair."
   ]
  },
  {
   "cell_type": "code",
   "execution_count": 12,
   "metadata": {},
   "outputs": [
    {
     "data": {
      "text/plain": [
       "1"
      ]
     },
     "execution_count": 12,
     "metadata": {},
     "output_type": "execute_result"
    }
   ],
   "source": [
    "; ask for the second but because arguments are swapped, the first one is returned\n",
    "((((𝜆 x · (𝜆 y · (𝜆 f · ((f y) x)))) 1) 2) (𝜆 x · (𝜆 y · y)))"
   ]
  },
  {
   "cell_type": "markdown",
   "metadata": {},
   "source": [
    "#### Infinite recursion\n",
    "\n",
    "Produce infinite loop:"
   ]
  },
  {
   "cell_type": "code",
   "execution_count": 13,
   "metadata": {},
   "outputs": [
    {
     "name": "stdout",
     "output_type": "stream",
     "text": [
      "Eternal loop achieved!\n"
     ]
    }
   ],
   "source": [
    "(try\n",
    " ; we will catch recursion error from this line, otherwise output would be messier\n",
    " ((𝜆 x · (x x)) (𝜆 x · (x x)))\n",
    " (except (e RecursionError)\n",
    "   (print \"Eternal loop achieved!\")))"
   ]
  },
  {
   "cell_type": "markdown",
   "metadata": {},
   "source": [
    "#### Free and bound variables\n",
    "\n",
    "Lambda abstractions can hold any free variables, but at the application evaluation, none of the functions should have free variables or it will cause variable definition error. For example, this is ok since we are declaring the function, not executing it:"
   ]
  },
  {
   "cell_type": "code",
   "execution_count": 14,
   "metadata": {},
   "outputs": [
    {
     "data": {
      "text/plain": [
       "<function <lambda> at 0x000001EC675E3730>"
      ]
     },
     "execution_count": 14,
     "metadata": {},
     "output_type": "execute_result"
    }
   ],
   "source": [
    "(𝜆 x · (+ x y))"
   ]
  },
  {
   "cell_type": "markdown",
   "metadata": {},
   "source": [
    "But onbound variable y will become a problem on evaluation of the application:"
   ]
  },
  {
   "cell_type": "code",
   "execution_count": 15,
   "metadata": {},
   "outputs": [
    {
     "name": "stdout",
     "output_type": "stream",
     "text": [
      "'y' is not defined\n"
     ]
    }
   ],
   "source": [
    "(try \n",
    "  ((𝜆 x · (+ x y)) 1)\n",
    "  (except (e NameError)\n",
    "    (print \"'y' is not defined\")))"
   ]
  },
  {
   "cell_type": "markdown",
   "metadata": {},
   "source": [
    "#### No arguments?!\n",
    "\n",
    "In original Lambda Calculus functions must have one and only one argument. Lambda macro in Calchylus is not that restricted. We can omit argument for simplicity:"
   ]
  },
  {
   "cell_type": "code",
   "execution_count": 16,
   "metadata": {},
   "outputs": [
    {
     "data": {
      "text/plain": [
       "2"
      ]
     },
     "execution_count": 16,
     "metadata": {},
     "output_type": "execute_result"
    }
   ],
   "source": [
    "((𝜆 · 2))"
   ]
  },
  {
   "cell_type": "markdown",
   "metadata": {},
   "source": [
    "#### Many arguments\n",
    "\n",
    "Also multiple arguments can be passed to the lambda function althought the original specification allows one and only one argument to be passed to the Lambda function.\n",
    "\n",
    "Support for both zero and multiple arguments simpifies the Lambda expression notation."
   ]
  },
  {
   "cell_type": "code",
   "execution_count": 17,
   "metadata": {},
   "outputs": [
    {
     "data": {
      "text/plain": [
       "3"
      ]
     },
     "execution_count": 17,
     "metadata": {},
     "output_type": "execute_result"
    }
   ],
   "source": [
    "((𝜆 x y · (+ x y)) 1 2)"
   ]
  },
  {
   "cell_type": "markdown",
   "metadata": {},
   "source": [
    "#### Booleans"
   ]
  },
  {
   "cell_type": "code",
   "execution_count": 18,
   "metadata": {},
   "outputs": [
    {
     "data": {
      "text/plain": [
       "1"
      ]
     },
     "execution_count": 18,
     "metadata": {},
     "output_type": "execute_result"
    }
   ],
   "source": [
    "; TRUE = select first\n",
    "(((𝜆 x · (𝜆 y · x)) 1) 2)"
   ]
  },
  {
   "cell_type": "code",
   "execution_count": 19,
   "metadata": {},
   "outputs": [
    {
     "data": {
      "text/plain": [
       "2"
      ]
     },
     "execution_count": 19,
     "metadata": {},
     "output_type": "execute_result"
    }
   ],
   "source": [
    "; FALSE = select second\n",
    "(((𝜆 x · (𝜆 y · y)) 1) 2)"
   ]
  },
  {
   "cell_type": "markdown",
   "metadata": {},
   "source": [
    "#### Logic"
   ]
  },
  {
   "cell_type": "code",
   "execution_count": 20,
   "metadata": {},
   "outputs": [
    {
     "data": {
      "text/plain": [
       "<function <lambda> at 0x000001EC675E3730>"
      ]
     },
     "execution_count": 20,
     "metadata": {},
     "output_type": "execute_result"
    }
   ],
   "source": [
    "; AND\n",
    "(𝜆 x · (𝜆 y · ((x y) F)))"
   ]
  },
  {
   "cell_type": "code",
   "execution_count": 21,
   "metadata": {},
   "outputs": [
    {
     "data": {
      "text/plain": [
       "<function <lambda> at 0x000001EC675E36A8>"
      ]
     },
     "execution_count": 21,
     "metadata": {},
     "output_type": "execute_result"
    }
   ],
   "source": [
    "; OR\n",
    "(𝜆 x · (𝜆 y · ((x T) y)))"
   ]
  },
  {
   "cell_type": "code",
   "execution_count": 22,
   "metadata": {},
   "outputs": [
    {
     "data": {
      "text/plain": [
       "<function <lambda> at 0x000001EC675E3950>"
      ]
     },
     "execution_count": 22,
     "metadata": {},
     "output_type": "execute_result"
    }
   ],
   "source": [
    "; NOT\n",
    "(𝜆 x · ((x F) T))"
   ]
  },
  {
   "cell_type": "markdown",
   "metadata": {},
   "source": [
    "#### Triangular number\n",
    "\n",
    "Summation..."
   ]
  },
  {
   "cell_type": "code",
   "execution_count": 23,
   "metadata": {
    "collapsed": true
   },
   "outputs": [],
   "source": [
    "; loop until given limit and sum up all values -> (summa 10) -> 55"
   ]
  },
  {
   "cell_type": "markdown",
   "metadata": {},
   "source": [
    "#### Product"
   ]
  },
  {
   "cell_type": "code",
   "execution_count": 24,
   "metadata": {
    "collapsed": true
   },
   "outputs": [],
   "source": [
    "; loop until given limit and sum up all values -> (product 7) -> 5040"
   ]
  },
  {
   "cell_type": "markdown",
   "metadata": {},
   "source": [
    "## The [MIT](http://choosealicense.com/licenses/mit/) License\n",
    "\n",
    "Copyright (c) 2017 Marko Manninen"
   ]
  }
 ],
 "metadata": {
  "kernelspec": {
   "display_name": "Calysto Hy",
   "language": "hy",
   "name": "calysto_hy"
  },
  "language_info": {
   "codemirror_mode": {
    "name": "scheme"
   },
   "mimetype": "text/x-hylang",
   "name": "hy",
   "pygments_lexer": "lisp"
  }
 },
 "nbformat": 4,
 "nbformat_minor": 2
}
