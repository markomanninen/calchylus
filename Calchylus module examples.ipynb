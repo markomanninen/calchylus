{
 "cells": [
  {
   "cell_type": "markdown",
   "metadata": {},
   "source": [
    "# Calchylus module examples\n",
    "\n",
    "This is a Jupyter Notebook document introducing features, usage, and behaviour of `calchylus` module.\n",
    "\n",
    "[Calchylus](https://github.com/calchylus) module is a Lambda calculus evaluator written with [Hy](http://docs.hylang.org) by Marko Manninen, 2017.\n",
    "\n",
    "For full documentation see: http://calchylus.readthedocs.io\n",
    "\n",
    "### System configuration\n",
    "\n",
    "First, let us see, what is the environment I'm running these examples:"
   ]
  },
  {
   "cell_type": "code",
   "execution_count": 1,
   "metadata": {},
   "outputs": [
    {
     "name": "stdout",
     "output_type": "stream",
     "text": [
      "Hy version: 0.13.0\n",
      "Python 3.6.2 | packaged by conda-forge | (default, Jul 23 2017, 22:58:45) [MSC v.1900 64 bit (AMD64)]\n"
     ]
    }
   ],
   "source": [
    "(import hy sys)\n",
    "(print (% \"Hy version: %s\" hy.__version__))\n",
    "(print (% \"Python %s\" sys.version))"
   ]
  },
  {
   "cell_type": "markdown",
   "metadata": {},
   "source": [
    "### Download Calchylus\n",
    "\n",
    "The next step is to download and install `calchylus` module from PyPi:\n",
    "\n",
    "`pip install calchylus`\n",
    "\n",
    "When that is done, we can run Hy and check `calchylus` module version:"
   ]
  },
  {
   "cell_type": "code",
   "execution_count": 2,
   "metadata": {},
   "outputs": [
    {
     "name": "stdout",
     "output_type": "stream",
     "text": [
      "Hy version: v0.1.13\n"
     ]
    }
   ],
   "source": [
    "(import calchylus)\n",
    "(print (% \"Hy version: %s\" calchylus.__version__))"
   ]
  },
  {
   "cell_type": "markdown",
   "metadata": {},
   "source": [
    "### Import main evaluator\n",
    "\n",
    "Finally, import `calchylus` module and initialize `calchylus` system by one of the [with-](http://calchylus.readthedocs.io/en/latest/inits.html) macros:"
   ]
  },
  {
   "cell_type": "code",
   "execution_count": 3,
   "metadata": {},
   "outputs": [
    {
     "data": {
      "text/plain": [
       "<function <lambda> at 0x00000279ABA186A8>"
      ]
     },
     "execution_count": 3,
     "metadata": {},
     "output_type": "execute_result"
    }
   ],
   "source": [
    "(require (calchylus.lambdas [*]))\n",
    "(with-alpha-conversion-and-macros 𝜆 \\.)"
   ]
  },
  {
   "cell_type": "markdown",
   "metadata": {},
   "source": [
    "#### Pretty print\n",
    "\n",
    "For printing mathematical symbols nicely in the Jupyter Notebook document, I have defined some helper functions to the module. Note that these are not necessary for the Lambda calculus evaluation itself: \n",
    "\n",
    "- `#§` pretty print Lambda expression as it is\n",
    "- `#¤` pretty print Lambda expression and beta-reduced form of the expression\n",
    "- `latex-output` print quoted expressions (useful, when working with Lambda expression as a Hy variable)"
   ]
  },
  {
   "cell_type": "markdown",
   "metadata": {},
   "source": [
    "### Three components\n",
    "\n",
    "Lambda expressions are formed by three components: *variables*, *function abstractions*, and *function applications*.\n",
    "\n",
    "**Variable** is any symbol or Lambda expression that will acts as a parameter for the function. In pure untyped Lambda calculus,  symbols do not have any special meaning or type by they own. Meaning is extracted from the functional application. Untyped systems have some advantages related to universality but that usually comes with a performance penalty.\n",
    "\n",
    "<blockquote>Calchylus is far from being beneficial for heavy arithmetic processing. Rather, it is meant for inspecting theoretical foundations of arithmetics, programming languages, and logic.</blockquote>\n",
    "\n",
    "**Function abstraction** consists of:\n",
    "\n",
    "1. a function identifier, usually denoted by a Greek lambda letter `𝜆` or `λ`\n",
    "2. an argument and a body delimitted by a symbol that is usually a dot `.` or a middle dot `·`\n",
    "3. parentheses for grouping an abstraction (and possibly body components) `()` or sometimes `[]`\n",
    "  \n",
    "<blockquote>Due to the fact, that a dot belongs to the reserved symbols in Hy language, a dot will be escaped in the following examples like this: `\\.`</blockquote>\n",
    "\n",
    "Traditionally, Lambda function must have one and only one argument. At first, this seems very restricting, but in reality with a technique called *currying* multiary functions can be constructed. In other words, any number of arguments can be transformed to the single argument style expressions, and vice versa.\n",
    "\n",
    "The body of the function will be the first expression after the delimitter. Body expression can be a parenthezised set of symbols or just a single symbol, where parentheses or a space before and after the symbol indicates the start and the end of the body.\n",
    "\n",
    "**Function application** is a function abstraction together with an applicable variable / parameter. In many programming languages this is same as defining an anonymous function and applying it to the given argument(s).\n",
    "\n",
    "\n",
    "### Identity function\n",
    "\n",
    "Let us start the lengthy introduction to the Lambda functions and define the *function abstraction* first. The following function is one of the simplest ones. It is called the *identity function* and has one argument `x` and a simple body `x`:"
   ]
  },
  {
   "cell_type": "code",
   "execution_count": 4,
   "metadata": {},
   "outputs": [
    {
     "data": {
      "text/plain": [
       "'(𝜆 x . x)'"
      ]
     },
     "execution_count": 4,
     "metadata": {},
     "output_type": "execute_result"
    }
   ],
   "source": [
    "(𝜆 x \\. x)"
   ]
  },
  {
   "cell_type": "markdown",
   "metadata": {},
   "source": [
    "In `calchylus` we need to have parentheses around the expression due to LISP like language specification of Hy. In common Lambda notation the outermost parentheses are often removed and the *identity function* is denoted similar to this:"
   ]
  },
  {
   "cell_type": "code",
   "execution_count": 5,
   "metadata": {},
   "outputs": [
    {
     "data": {
      "text/html": [
       "<br/>$$\\\\\\large 𝜆\\ x\\ .\\ x\\\\$$"
      ],
      "text/plain": [
       "<IPython.core.display.HTML object>"
      ]
     },
     "execution_count": 5,
     "metadata": {},
     "output_type": "execute_result"
    }
   ],
   "source": [
    "#§(𝜆 x \\. x)"
   ]
  },
  {
   "cell_type": "markdown",
   "metadata": {},
   "source": [
    "In native Hy, the *identity function* is constructed by an anonymous function accordingly:"
   ]
  },
  {
   "cell_type": "code",
   "execution_count": 6,
   "metadata": {},
   "outputs": [
    {
     "data": {
      "text/plain": [
       "<function <lambda> at 0x00000279AA6B21E0>"
      ]
     },
     "execution_count": 6,
     "metadata": {},
     "output_type": "execute_result"
    }
   ],
   "source": [
    "(fn [x] x)"
   ]
  },
  {
   "cell_type": "markdown",
   "metadata": {},
   "source": [
    "We realize easily, that the difference between the anonymous function in Hy and the function abstraction in Lambda calculus is rather semantical so far. Lambda function indicator is `fn` (was actually the word `lambda` in the earlier versions of Hy). Arguments are inside brackets, because a function definition in Hy supports more complex argument initialization compared to the pure Lambda calculus. The rest of the expression is the body of the function.\n",
    "\n",
    "The *function abstraction*, or you could call it a function definition, is waiting for one argument. And then, if an argument is given, the *identity function* simply \"returns\" the very same argument value intact.\n",
    "\n",
    "In the *function application*, the *identity function* is applied to the given argument. You could say that the *function abstraction* is functioning only in the function application.\n",
    "\n",
    "#### Passing parameters\n",
    "\n",
    "There are actually two possible ways to pass parameters to the function in `calchylus` module.\n",
    "\n",
    "1. by wrapping a function with parentheses and leaving the parameter outside of the wrapper\n",
    "2. introducing a parameter inside a function as the last element after the body\n",
    "\n",
    "Let us see, how the *function application* looks like in the first case:"
   ]
  },
  {
   "cell_type": "code",
   "execution_count": 7,
   "metadata": {},
   "outputs": [
    {
     "data": {
      "text/html": [
       "<br/>$$\\\\\\large (𝜆\\ x\\ .\\ x)\\ y\\\\$$"
      ],
      "text/plain": [
       "<IPython.core.display.HTML object>"
      ]
     },
     "execution_count": 7,
     "metadata": {},
     "output_type": "execute_result"
    }
   ],
   "source": [
    "#§((𝜆 x \\. x) y)"
   ]
  },
  {
   "cell_type": "markdown",
   "metadata": {},
   "source": [
    "In case 2., the expression looks like this:"
   ]
  },
  {
   "cell_type": "code",
   "execution_count": 8,
   "metadata": {},
   "outputs": [
    {
     "data": {
      "text/html": [
       "<br/>$$\\\\\\large 𝜆\\ x\\ .\\ x\\ y\\\\$$"
      ],
      "text/plain": [
       "<IPython.core.display.HTML object>"
      ]
     },
     "execution_count": 8,
     "metadata": {},
     "output_type": "execute_result"
    }
   ],
   "source": [
    "#§(𝜆 x \\. x y)"
   ]
  },
  {
   "cell_type": "markdown",
   "metadata": {},
   "source": [
    "Again, we can see a close resemblance to the native anonymous function in Hy. One could transform the above Lambda expression to the Hy code like this:\n",
    "\n",
    "`((fn [x] x) 'y)`\n",
    "\n",
    "Furthermore, there is a close resemblance with a Lambda calculus notation and a mathematical notation for the function definition.\n",
    "\n",
    "#### Mathematical notation\n",
    "\n",
    "For a demonstration, let us change the function identifier and the delimitter with `calchylus` module initializer macro and try the *function abstraction* again:"
   ]
  },
  {
   "cell_type": "code",
   "execution_count": 9,
   "metadata": {},
   "outputs": [
    {
     "data": {
      "text/html": [
       "<br/>$$\\\\\\large ƒ:\\ x\\ ↦\\ x\\\\$$"
      ],
      "text/plain": [
       "<IPython.core.display.HTML object>"
      ]
     },
     "execution_count": 9,
     "metadata": {},
     "output_type": "execute_result"
    }
   ],
   "source": [
    "(with-alpha-conversion-and-macros ƒ: ↦)\n",
    "#§(ƒ: x ↦ x)"
   ]
  },
  {
   "cell_type": "markdown",
   "metadata": {},
   "source": [
    "We are pretty close to the formal mathematical [representation](https://en.wikipedia.org/wiki/Function_\\\\(mathematics\\\\)#Notation) of the function. We could even use a special escape character as a function identifier to leave out the from the visual presentation of the Lambda expression in the Jupyter Notebook environment:"
   ]
  },
  {
   "cell_type": "code",
   "execution_count": 10,
   "metadata": {},
   "outputs": [
    {
     "data": {
      "text/html": [
       "<br/>$$\\\\\\large x\\ ↦\\ x\\\\$$"
      ],
      "text/plain": [
       "<IPython.core.display.HTML object>"
      ]
     },
     "execution_count": 10,
     "metadata": {},
     "output_type": "execute_result"
    }
   ],
   "source": [
    "(with-alpha-conversion-and-macros \\ ↦)\n",
    "#§(\\ x ↦ x)"
   ]
  },
  {
   "cell_type": "markdown",
   "metadata": {},
   "source": [
    "### Evaluation\n",
    "\n",
    "Calchylus module is not just for presenting Lambda calculus notation in different forms, but also for evaluation (beta-reduction) of the Lambda expressions. Evaluation process has some principles that are good to know:\n",
    "\n",
    "1. evaluation process starts, when a parameter is given to the *function abstraction*\n",
    "2. evaluation starts from the left-most parameter that is passed to the left-most function in the same level\n",
    "3. evaluation continues passing free parameters from the left to the functions according to the principle 2.\n",
    "4. when the normal form of the expression is achieved, meaning it cannot be further reduced, then reduction is once more started for sub expressions of the normal form, until head normal form is achieved\n",
    "\n",
    "Consequence of this is that:\n",
    "\n",
    "5. parameters are substituted to the body before they are evaluated\n",
    "\n",
    "These principles all together are called *call-by-value* strategy or [applicative order](https://en.wikipedia.org/wiki/Evaluation_strategy#Applicative_order) which is an important concept. It leads to the lazy evaluation contra to the most of the programming languages that eagerly evaluates parameters first before sending them to the function.\n",
    "\n",
    "The last principle we have already seen in action is:\n",
    "\n",
    "6. if evaluation reduces to the *function abstration* that can't be reduced anymore, then the *function abstraction* is returned as a final form\n",
    "\n",
    "Otherwise we have a result where all arguments and parameters of the expression has been substituted.\n",
    "\n",
    "Let us first see, how the *identity function* is applied to the parameter in a native Hy way:"
   ]
  },
  {
   "cell_type": "code",
   "execution_count": 11,
   "metadata": {},
   "outputs": [
    {
     "data": {
      "text/plain": [
       "'y'"
      ]
     },
     "execution_count": 11,
     "metadata": {},
     "output_type": "execute_result"
    }
   ],
   "source": [
    "((fn [x] x) 'y)"
   ]
  },
  {
   "cell_type": "markdown",
   "metadata": {},
   "source": [
    "<blockquote>Note that there already is the identity function that you could also use in Hy: `(identity 'y)`</blockquote>\n",
    "\n",
    "Now, compare that to the corresponding Lambda expression in the following example:"
   ]
  },
  {
   "cell_type": "code",
   "execution_count": 12,
   "metadata": {},
   "outputs": [
    {
     "data": {
      "text/html": [
       "<br/>$$\\\\\\large λ\\ x\\ .\\ x\\ y\\\\\\large=_{\\beta} \\\\\\large y\\\\$$"
      ],
      "text/plain": [
       "<IPython.core.display.HTML object>"
      ]
     },
     "execution_count": 12,
     "metadata": {},
     "output_type": "execute_result"
    }
   ],
   "source": [
    "(with-alpha-conversion-and-macros λ \\.)\n",
    "#¤(λ x \\. x y)"
   ]
  },
  {
   "cell_type": "markdown",
   "metadata": {},
   "source": [
    "This time both the original expression and the evaluated result are printed and their beta-reduced equality is indicated with $=_{β}$ symbol.\n",
    "\n",
    "#### Shorthands\n",
    "\n",
    "`calchylus` module provides a plenty of shorthands for common Lambda forms. `IDENT` is for the *identity function* and can be used in this manner:"
   ]
  },
  {
   "cell_type": "code",
   "execution_count": 13,
   "metadata": {},
   "outputs": [
    {
     "data": {
      "text/html": [
       "<br/>$$\\\\\\large λ\\ a\\ .\\ a\\ y\\\\\\large=_{\\beta} \\\\\\large y\\\\$$"
      ],
      "text/plain": [
       "<IPython.core.display.HTML object>"
      ]
     },
     "execution_count": 13,
     "metadata": {},
     "output_type": "execute_result"
    }
   ],
   "source": [
    "#¤(IDENT y)"
   ]
  },
  {
   "cell_type": "markdown",
   "metadata": {},
   "source": [
    "We see that the argument name is `a` in this example, but the result is same (`y`) with the previous example. In Lambda calculus `λ x . x` and `λ a . a` are regarded as equal forms. The name of the argument can be anything because it is consistently used and substituted in the process of evaluation.\n",
    "\n",
    "So far we have kept everything as simple as possible. The *identity function* is good for introducing basics elements of the Lambda calculus. Althought the *identity function* looks too simple for any real usage other than demonstration, or conceptual talk, it is good to remember that the predecessor function (`PRED`) fully utilizes it.\n",
    "\n",
    "Before going deeper to the arithmetics, let's introduce one exciting property of the Lambda calculus, namely, higher-order functions.\n",
    "\n",
    "\n",
    "### Higher-order functions\n",
    "\n",
    "When we really start to play with functions, there comes a moment, where you probably happened to pass a function to the function, or at least you wondered what happens, if you do so.\n",
    "\n",
    "So, what happens when you apply the *identity function* to the *identity function*? In `calchylus`, we can investigate it with the next piece of code:"
   ]
  },
  {
   "cell_type": "code",
   "execution_count": 14,
   "metadata": {},
   "outputs": [
    {
     "data": {
      "text/html": [
       "<br/>$$\\\\\\large λ\\ a\\ .\\ a\\ (λ\\ a\\ .\\ a)\\\\\\large=_{\\beta} \\\\\\large λ\\ a\\ .\\ a\\\\$$"
      ],
      "text/plain": [
       "<IPython.core.display.HTML object>"
      ]
     },
     "execution_count": 14,
     "metadata": {},
     "output_type": "execute_result"
    }
   ],
   "source": [
    "#¤(IDENT IDENT)"
   ]
  },
  {
   "cell_type": "markdown",
   "metadata": {},
   "source": [
    "If the *identity function* is given to the *identity function*, it returns (or beta-reduces to) the *identity function*. Returned function is an abstraction in this case and can't be reduced further. On the other hand, this means that we could pass a parameter to the result, which is exactly what we do next:"
   ]
  },
  {
   "cell_type": "code",
   "execution_count": 15,
   "metadata": {},
   "outputs": [
    {
     "data": {
      "text/html": [
       "<br/>$$\\\\\\large (λ\\ a\\ .\\ a\\ (λ\\ a\\ .\\ a))\\ y\\\\\\large=_{\\beta} \\\\\\large y\\\\$$"
      ],
      "text/plain": [
       "<IPython.core.display.HTML object>"
      ]
     },
     "execution_count": 15,
     "metadata": {},
     "output_type": "execute_result"
    }
   ],
   "source": [
    "#¤((IDENT IDENT) y)"
   ]
  },
  {
   "cell_type": "markdown",
   "metadata": {},
   "source": [
    "With this simple maneuver we have moved to the realms of the higher-order functions. It means ability to send functions inside functions (apply functions to functions), or define nested functions, sometimes called [functors](https://en.wikipedia.org/wiki/Functor).\n",
    "\n",
    "Let us do one more thing with the *identity function* before moving on to the concepts of constants, scopes, and variable shadowing.\n",
    "\n",
    "In the next example, rather than passing a function to the function, we construct the body of the function to be the *identity function* per se:"
   ]
  },
  {
   "cell_type": "code",
   "execution_count": 16,
   "metadata": {},
   "outputs": [
    {
     "data": {
      "text/html": [
       "<br/>$$\\\\\\large (λ\\ b\\ .\\ (λ\\ a\\ .\\ a)\\ b)\\ y\\\\\\large=_{\\beta} \\\\\\large y\\\\$$"
      ],
      "text/plain": [
       "<IPython.core.display.HTML object>"
      ]
     },
     "execution_count": 16,
     "metadata": {},
     "output_type": "execute_result"
    }
   ],
   "source": [
    "#¤((λ b \\. IDENT b) y)"
   ]
  },
  {
   "cell_type": "markdown",
   "metadata": {},
   "source": [
    "Again the result is `y`, maybe after a little bit twisting first.\n",
    "\n",
    "This is a good place to take a breath before diving deeper to the variable substitution topic.\n",
    "\n",
    "### Constant function\n",
    "\n",
    "Variable is an object, which value is changing. Constant is a value, that should keep static and permanent. In Lambda calculus it is possible to imitate constants by function notation. We simply take one parameter for the function argument, but don't use it at all. Instead a static body is returned. Say the function has an argument `foo` and the body `bar` in the following way:"
   ]
  },
  {
   "cell_type": "code",
   "execution_count": 17,
   "metadata": {},
   "outputs": [
    {
     "data": {
      "text/plain": [
       "'(λ foo . bar)'"
      ]
     },
     "execution_count": 17,
     "metadata": {},
     "output_type": "execute_result"
    }
   ],
   "source": [
    "(λ foo \\. bar)"
   ]
  },
  {
   "cell_type": "markdown",
   "metadata": {},
   "source": [
    "If any parameter, like `baz`, is passed to the function, it should stubbornly return the body `bar`:"
   ]
  },
  {
   "cell_type": "code",
   "execution_count": 18,
   "metadata": {},
   "outputs": [
    {
     "data": {
      "text/plain": [
       "'bar'"
      ]
     },
     "execution_count": 18,
     "metadata": {},
     "output_type": "execute_result"
    }
   ],
   "source": [
    "(λ foo \\. bar baz)"
   ]
  },
  {
   "cell_type": "markdown",
   "metadata": {},
   "source": [
    "In `calchylus` module we have a `CONST` macro to create constants. In practice we need to specify the argument name and the body separately because we can't have both using same symbol:"
   ]
  },
  {
   "cell_type": "code",
   "execution_count": 19,
   "metadata": {},
   "outputs": [
    {
     "data": {
      "text/plain": [
       "'(λ foo . bar)'"
      ]
     },
     "execution_count": 19,
     "metadata": {},
     "output_type": "execute_result"
    }
   ],
   "source": [
    "(CONST foo bar)"
   ]
  },
  {
   "cell_type": "markdown",
   "metadata": {},
   "source": [
    "If the argument anme and the body is same symbol, then result is an identity function! Let's try once more the evaluated version of the constant with parameter `baz`:"
   ]
  },
  {
   "cell_type": "code",
   "execution_count": 20,
   "metadata": {},
   "outputs": [
    {
     "data": {
      "text/html": [
       "<br/>$$\\\\\\large λ\\ foo\\ .\\ bar\\ baz\\\\\\large=_{\\beta} \\\\\\large bar\\\\$$"
      ],
      "text/plain": [
       "<IPython.core.display.HTML object>"
      ]
     },
     "execution_count": 20,
     "metadata": {},
     "output_type": "execute_result"
    }
   ],
   "source": [
    "#¤(CONST foo bar baz)"
   ]
  },
  {
   "cell_type": "markdown",
   "metadata": {},
   "source": [
    "#### `LET` and `LET*`\n",
    "\n",
    "We have talked about variables, arguments, parameters, and constants. These terms are sometimes used interchangeably depending on what language level they are referring. `calchylus` module implementation, for example, has to protect argument names with automated variable name generation.\n",
    "\n",
    "But if we talk in the level of `calchylus` module interface rather than implementation, with the variable term we refer to the `LET` and `LET*` constructors. Once again, these are macro shorthands or abbreviations for constructing certain Lambda expressions, namely variables. This time I want to show, althougt awfully late, the famous \"Hello World\" example:"
   ]
  },
  {
   "cell_type": "code",
   "execution_count": 21,
   "metadata": {},
   "outputs": [
    {
     "data": {
      "text/html": [
       "<br/>$$\\\\\\large λ\\ x\\ .\\ (Hello,\\ x\\ !)\\ World\\\\\\large=_{\\beta} \\\\\\large Hello,\\ World\\ !\\\\$$"
      ],
      "text/plain": [
       "<IPython.core.display.HTML object>"
      ]
     },
     "execution_count": 21,
     "metadata": {},
     "output_type": "execute_result"
    }
   ],
   "source": [
    "#¤(LET x \"World\" (Hello, x !))"
   ]
  },
  {
   "cell_type": "markdown",
   "metadata": {},
   "source": [
    "Here `(Hello, x !)` is the function body. `x` is the argument name and `World` is the parameter. As a combination, because `x` is meant for a changing value, we have defined a variable `x`.\n",
    "\n",
    "#### Multiple arguments\n",
    "\n",
    "...\n",
    "\n",
    "#### Scopes\n",
    "\n",
    "It has become obvious now that the main operation in Lambda calculus is a substitution of argument names in the function body with the parameters given to the function application. Our examples has been easy so far. Natural question is, how substitution works when there are many nested functions, possibly with same argument names?\n",
    "\n",
    "Well, every function also works as a scope to the arguments inside the function. So, every argument that is inside the body will get substituted until there is another function with same argument name. In that case, a function works as a protector and prevents for further substitution.\n",
    "\n",
    "Let us see two exampless for this.\n",
    "\n",
    "1. substitution over nested Lambda terms"
   ]
  },
  {
   "cell_type": "code",
   "execution_count": 22,
   "metadata": {},
   "outputs": [
    {
     "data": {
      "text/html": [
       "<br/>$$\\\\\\large λ\\ x\\ .\\ (λ\\ y\\ .\\ x)\\ z\\\\\\large=_{\\beta} \\\\\\large λ\\ y\\ .\\ z\\\\$$"
      ],
      "text/plain": [
       "<IPython.core.display.HTML object>"
      ]
     },
     "execution_count": 22,
     "metadata": {},
     "output_type": "execute_result"
    }
   ],
   "source": [
    "#¤(λ x \\. (λ y \\. x) z)"
   ]
  },
  {
   "cell_type": "markdown",
   "metadata": {},
   "source": [
    "Note how `x` in the inner Lambda expression `(λ y . x)` got substituted by `z`.\n",
    "\n",
    "2. substitution protected by argument shadowing"
   ]
  },
  {
   "cell_type": "code",
   "execution_count": 23,
   "metadata": {},
   "outputs": [
    {
     "data": {
      "text/html": [
       "<br/>$$\\\\\\large λ\\ x\\ .\\ (λ\\ x\\ .\\ x)\\ z\\\\\\large=_{\\beta} \\\\\\large λ\\ x\\ .\\ x\\\\$$"
      ],
      "text/plain": [
       "<IPython.core.display.HTML object>"
      ]
     },
     "execution_count": 23,
     "metadata": {},
     "output_type": "execute_result"
    }
   ],
   "source": [
    "#¤(λ x \\. (λ x \\. x) z)"
   ]
  },
  {
   "cell_type": "markdown",
   "metadata": {},
   "source": [
    "Defining argument `x` again in the inner Lambda term `(λ x . x)` we have prevented substitution of `x` to take place anymore.\n",
    "\n",
    "#### Collision detection\n",
    "\n",
    "Let us then think of the possibility that the first parameter value `y` is same as the name of the argument of the inner function in the following manner:"
   ]
  },
  {
   "cell_type": "code",
   "execution_count": 24,
   "metadata": {},
   "outputs": [
    {
     "data": {
      "text/html": [
       "<br/>$$\\\\\\large λ\\ x\\ .\\ (λ\\ y\\ .\\ (x\\ y))\\ y\\\\\\large=_{\\beta} \\\\\\large λ\\ y\\ .\\ (y\\ y)\\\\$$"
      ],
      "text/plain": [
       "<IPython.core.display.HTML object>"
      ]
     },
     "execution_count": 24,
     "metadata": {},
     "output_type": "execute_result"
    }
   ],
   "source": [
    "#¤(λ x \\. (λ y \\. (x y)) y)"
   ]
  },
  {
   "cell_type": "markdown",
   "metadata": {},
   "source": [
    "So far so good. Or is it really? What happens or should happen, if you pass a second parameter to the function abstraction we have left?\n",
    "\n",
    "We can easily investigate it with `calchylus` module:"
   ]
  },
  {
   "cell_type": "code",
   "execution_count": 25,
   "metadata": {},
   "outputs": [
    {
     "data": {
      "text/html": [
       "<br/>$$\\\\\\large λ\\ x\\ .\\ (λ\\ y\\ .\\ (x\\ y))\\ y\\ z\\\\\\large=_{\\beta} \\\\\\large y\\ z\\\\$$"
      ],
      "text/plain": [
       "<IPython.core.display.HTML object>"
      ]
     },
     "execution_count": 25,
     "metadata": {},
     "output_type": "execute_result"
    }
   ],
   "source": [
    "#¤(λ x \\. (λ y \\. (x y)) y z)"
   ]
  },
  {
   "cell_type": "markdown",
   "metadata": {},
   "source": [
    "Are you surprised, that the result is `y z`?\n",
    "\n",
    "#### Name resolution \n",
    "\n",
    "The standard convention in Lambda calculus is that argument names should be stable when they have been bound to the variables. When the first argument `x` has been substituted to the sub terms in the body with `y`, value of `y` should not change anymore.\n",
    "\n",
    "Stableness is achieved by a process called [alpha conversion](https://en.wikipedia.org/wiki/Lambda_calculus#.CE.B1-conversion) which is happening behind the curtain in `calchylus` module. Argument names are changed momentarily to generated unique names so that they cannot overlap.\n",
    "\n",
    "In `calchylus` module, however, we can switch on and off the alpha conversion phase and investigate, what happens if names get collided:"
   ]
  },
  {
   "cell_type": "code",
   "execution_count": 26,
   "metadata": {},
   "outputs": [
    {
     "data": {
      "text/html": [
       "<br/>$$\\\\\\large λ\\ x\\ .\\ (λ\\ y\\ .\\ (x\\ y))\\ y\\ z\\\\\\large=_{\\beta} \\\\\\large z\\ z\\\\$$"
      ],
      "text/plain": [
       "<IPython.core.display.HTML object>"
      ]
     },
     "execution_count": 26,
     "metadata": {},
     "output_type": "execute_result"
    }
   ],
   "source": [
    "(with-alpha-conversion-nor-macros λ \\.)\n",
    "#¤(λ x \\. (λ y \\. (x y)) y z)"
   ]
  },
  {
   "cell_type": "markdown",
   "metadata": {},
   "source": [
    "This is set purely for inspection and not recommended as a real evaluation strategy. It can be shown that only with unique selection of names, real arithmetics can be achieved in Lambda calculus. Other way around the problem would be to introduce compile or run time exception system and tell the programmer, that there is a collision of variable names. That could indeed effect positively to the evaluation time of the program on the other hand, because in the final program, there would be no need for the alpha conversion!\n",
    "\n",
    "For curious minds, this is what happens inside the module on the alpha conversion process:"
   ]
  },
  {
   "cell_type": "code",
   "execution_count": 27,
   "metadata": {},
   "outputs": [
    {
     "data": {
      "text/plain": [
       "['λ', :x_1257, '\\\\.', ['λ', :y_1258, '\\\\.', (:x_1257 :y_1258)], 'y', 'z']"
      ]
     },
     "execution_count": 27,
     "metadata": {},
     "output_type": "execute_result"
    }
   ],
   "source": [
    "(alpha-conversion '(λ x \\. (λ y \\. (x y)) y z))"
   ]
  },
  {
   "cell_type": "markdown",
   "metadata": {},
   "source": [
    "This is set purely for inspection and not recommended as a real evaluation strategy. It can be shown that only with unique selection of names, real arithmetics can be achieved in Lambda calculus. Other way around the problem would be to introduce compile or run time exception system and tell the programmer, that there is a collision of variable names. That could indeed effect positively to the evaluation time of the program on the other hand, because in the final program, there would be no need for the alpha conversion!\n",
    "\n",
    "#### More variables\n",
    "\n",
    "Earlier we created a variable with `LET` macro. I didn't note yet that it is possible to construct several variables at once with that macro. Variable names and values must come in pairs and the last argument of the macro should be the body, where arguments are used.\n",
    "\n",
    "Using this feature, I want to present other possible way of twisting variables. Here the first variable `a` is re-used in the second variable `b`:"
   ]
  },
  {
   "cell_type": "code",
   "execution_count": 28,
   "metadata": {},
   "outputs": [
    {
     "data": {
      "text/html": [
       "<br/>$$\\\\\\large λ\\ a\\ b\\ .\\ (a\\ b)\\ c\\ a\\\\\\large=_{\\beta} \\\\\\large c\\ a\\\\$$"
      ],
      "text/plain": [
       "<IPython.core.display.HTML object>"
      ]
     },
     "execution_count": 28,
     "metadata": {},
     "output_type": "execute_result"
    }
   ],
   "source": [
    "(with-alpha-conversion-and-macros λ \\.)\n",
    "#¤(LET a c b a (a b))"
   ]
  },
  {
   "cell_type": "markdown",
   "metadata": {},
   "source": [
    "It seems that we are not quite getting it. `LET` macro made the Lambda expression `(λ a b . (a b) c a)` but someone might have expected that the value of variable `b` is same as the value of variable `a`. But we only got the name of the symbol `a` for `b`. It occures that it is not possible to use the value of arguments in the other following arguments.\n",
    "\n",
    "But it is with other variable constructor, namely `LET*` macro. It works same way than `LET` but allows to use values of arguments in the other arguments, rather than only in the body of the function."
   ]
  },
  {
   "cell_type": "code",
   "execution_count": 29,
   "metadata": {},
   "outputs": [
    {
     "data": {
      "text/html": [
       "<br/>$$\\\\\\large λ\\ a\\ .\\ (λ\\ b\\ .\\ (a\\ b)\\ a)\\ c\\\\\\large=_{\\beta} \\\\\\large c\\ c\\\\$$"
      ],
      "text/plain": [
       "<IPython.core.display.HTML object>"
      ]
     },
     "execution_count": 29,
     "metadata": {},
     "output_type": "execute_result"
    }
   ],
   "source": [
    "#¤(LET* a c b a (a b))"
   ]
  },
  {
   "cell_type": "markdown",
   "metadata": {},
   "source": [
    "Notice, that the Lambda form is also a bit different in structure. We have actually shown that it is possible to present variable setters purely functional way. This may become as a small surprise for many programmer. We have created something that looks like causing all hatred side effects but is rather nullipotent in its true nature.\n",
    "\n",
    "#### DO imperative\n",
    "\n",
    "We can even do better and tremble the foundations and concepts of two different paradigms, the functional and imperative ones.\n",
    "\n",
    "In `calchylus` there is a `DO` shorthand to alter the very same functionality that we already saw in `LET` and `LET*`. `DO` practically lets you to define variables with `LET`'s and leave the final function body \"outside\" the `LET` macros.\n",
    "\n",
    "By the next example we shall take one step closer to the next big area, where Lambda calculus is still studied and where Lambda calculus was primarily and originally intended to be used, as a universal mathematical language:"
   ]
  },
  {
   "cell_type": "code",
   "execution_count": 30,
   "metadata": {},
   "outputs": [
    {
     "data": {
      "text/html": [
       "<br/>$$\\\\\\large λ\\ a\\ .\\ (λ\\ b\\ .\\ (a^ b\\ +\\ b^ a)\\ 3)\\ 2\\\\\\large=_{\\beta} \\\\\\large 2^ 3\\ +\\ 3^ 2\\\\$$"
      ],
      "text/plain": [
       "<IPython.core.display.HTML object>"
      ]
     },
     "execution_count": 30,
     "metadata": {},
     "output_type": "execute_result"
    }
   ],
   "source": [
    "#¤\n",
    "(DO\n",
    "  (LET a 2)\n",
    "  (LET b 3)\n",
    "  (a ^ b + b ^ a))"
   ]
  },
  {
   "cell_type": "markdown",
   "metadata": {},
   "source": [
    "If Lambda calculus is so great, why I am not showing the final result of the equation? The reason is, that symbols given, even they look like numbers (`2`, `3`) and the addition (`+`), have no real meaning in Lambda calculus. They are just symbols to be substituted to the places where arguments are in the body.\n",
    "\n",
    "In Lambda calculus we have to and try to construct everything from the three basic principles and substitution convention. So how should we present numbers, or the more basic boolean values then?\n",
    "\n",
    "### Boolean values\n",
    "\n",
    "Curry Howard barber tale...\n"
   ]
  },
  {
   "cell_type": "code",
   "execution_count": 31,
   "metadata": {
    "collapsed": true
   },
   "outputs": [],
   "source": [
    ";(with-alpha-conversion-and-macros ƒ ↦)\n",
    ";(setv c '(LET* x 2 y 2 a b b c (a ^ x b ^ y)))\n",
    ";(macro-print c :result True)"
   ]
  },
  {
   "cell_type": "code",
   "execution_count": 32,
   "metadata": {},
   "outputs": [
    {
     "data": {
      "text/plain": [
       "'(λ a . (λ b . a))'"
      ]
     },
     "execution_count": 32,
     "metadata": {},
     "output_type": "execute_result"
    }
   ],
   "source": [
    "(TRUE)"
   ]
  },
  {
   "cell_type": "code",
   "execution_count": null,
   "metadata": {
    "collapsed": true
   },
   "outputs": [],
   "source": []
  },
  {
   "cell_type": "code",
   "execution_count": 33,
   "metadata": {
    "collapsed": true
   },
   "outputs": [],
   "source": [
    ";(with-alpha-conversion-and-macros L ,)\n",
    ";(APP (L a , (L b , e a) 1))\n",
    ";(print (APP (((L a , (L b , e)) 1) 2)))"
   ]
  },
  {
   "cell_type": "code",
   "execution_count": null,
   "metadata": {
    "collapsed": true
   },
   "outputs": [],
   "source": []
  },
  {
   "cell_type": "code",
   "execution_count": 34,
   "metadata": {
    "collapsed": true
   },
   "outputs": [],
   "source": [
    "; to be used like: #ℕ17 / #ℕ 17 -> (NUM 17) -> (L x , (L y , (x (x ..... (x y)))))\n",
    ";(defsharp ℕ [n] `(NUM ~n))\n",
    ";#ℕ 17"
   ]
  },
  {
   "cell_type": "code",
   "execution_count": 35,
   "metadata": {},
   "outputs": [
    {
     "data": {
      "text/plain": [
       "'(1 1 1)'"
      ]
     },
     "execution_count": 35,
     "metadata": {},
     "output_type": "execute_result"
    }
   ],
   "source": [
    "(with-macros L ,)\n",
    "(L a , (L b , (L c , (a b c) b) a) 1)"
   ]
  },
  {
   "cell_type": "code",
   "execution_count": 36,
   "metadata": {},
   "outputs": [
    {
     "data": {
      "text/plain": [
       "'(1 1 1)'"
      ]
     },
     "execution_count": 36,
     "metadata": {},
     "output_type": "execute_result"
    }
   ],
   "source": [
    "(with-alpha-conversion-and-macros L ,)\n",
    "(LET* a 1 b a c b (a b c))"
   ]
  },
  {
   "cell_type": "code",
   "execution_count": 37,
   "metadata": {},
   "outputs": [
    {
     "data": {
      "text/plain": [
       "'(x y)'"
      ]
     },
     "execution_count": 37,
     "metadata": {},
     "output_type": "execute_result"
    }
   ],
   "source": [
    "(APP (x ((L x , x) y)))"
   ]
  },
  {
   "cell_type": "code",
   "execution_count": 38,
   "metadata": {},
   "outputs": [
    {
     "data": {
      "text/plain": [
       "'(1 2 3)'"
      ]
     },
     "execution_count": 38,
     "metadata": {},
     "output_type": "execute_result"
    }
   ],
   "source": [
    "(L x , (L y , (L z , (x y z))) 1 2 3)"
   ]
  },
  {
   "cell_type": "code",
   "execution_count": 39,
   "metadata": {},
   "outputs": [
    {
     "data": {
      "text/plain": [
       "'(1 2 3 4)'"
      ]
     },
     "execution_count": 39,
     "metadata": {},
     "output_type": "execute_result"
    }
   ],
   "source": [
    "(L x y , (L z a , (x y z a)) 1 2 3 4)"
   ]
  },
  {
   "cell_type": "code",
   "execution_count": 40,
   "metadata": {
    "collapsed": true
   },
   "outputs": [],
   "source": [
    ";(macro-print '(SUMMATION THREE) 'small)"
   ]
  },
  {
   "cell_type": "markdown",
   "metadata": {},
   "source": [
    "### DOs"
   ]
  },
  {
   "cell_type": "code",
   "execution_count": 41,
   "metadata": {
    "collapsed": true
   },
   "outputs": [],
   "source": [
    ";(macro-print '(DO (LET a (𝜆 a b · a)) (LET b (𝜆 a b · b)) (a b)))"
   ]
  },
  {
   "cell_type": "code",
   "execution_count": 42,
   "metadata": {},
   "outputs": [
    {
     "data": {
      "text/plain": [
       "'(𝜆 a b · a (𝜆 a b · b))'"
      ]
     },
     "execution_count": 42,
     "metadata": {},
     "output_type": "execute_result"
    }
   ],
   "source": [
    "(APP (𝜆 a b · a (𝜆 a b · b)))"
   ]
  },
  {
   "cell_type": "code",
   "execution_count": 43,
   "metadata": {},
   "outputs": [
    {
     "data": {
      "text/plain": [
       "'(𝜆 b · (𝜆 a b · b))'"
      ]
     },
     "execution_count": 43,
     "metadata": {},
     "output_type": "execute_result"
    }
   ],
   "source": [
    "(with-alpha-conversion-and-macros 𝜆 ·)\n",
    "(DO (LET a (𝜆 a b · a)) (LET b (𝜆 a b · b)) (a b))"
   ]
  },
  {
   "cell_type": "code",
   "execution_count": 44,
   "metadata": {},
   "outputs": [
    {
     "data": {
      "text/plain": [
       "'(𝜆 b · (𝜆 a b · b))'"
      ]
     },
     "execution_count": 44,
     "metadata": {},
     "output_type": "execute_result"
    }
   ],
   "source": [
    "(𝜆 a p · (p a) (𝜆 a b · a) (𝜆 a · (𝜆 b p · (p b) (𝜆 a b · b) (𝜆 b · (a b)))))"
   ]
  },
  {
   "cell_type": "code",
   "execution_count": 45,
   "metadata": {
    "collapsed": true
   },
   "outputs": [],
   "source": [
    ";(macro-print '(DO (LET a TRUE) (LET b FALSE) (a b)))"
   ]
  },
  {
   "cell_type": "code",
   "execution_count": 46,
   "metadata": {},
   "outputs": [
    {
     "data": {
      "text/plain": [
       "'(𝜆 b · (𝜆 a b · b))'"
      ]
     },
     "execution_count": 46,
     "metadata": {},
     "output_type": "execute_result"
    }
   ],
   "source": [
    "(DO (LET a TRUE) (LET b FALSE) (a b))"
   ]
  },
  {
   "cell_type": "code",
   "execution_count": 47,
   "metadata": {},
   "outputs": [
    {
     "data": {
      "text/plain": [
       "'(𝜆 s · (s (𝜆 a b · a) (𝜆 a b · b)))'"
      ]
     },
     "execution_count": 47,
     "metadata": {},
     "output_type": "execute_result"
    }
   ],
   "source": [
    "(DO (LET a TRUE b FALSE) (PAIR a b))"
   ]
  },
  {
   "cell_type": "markdown",
   "metadata": {},
   "source": [
    "Lambda calculus language evaluator is written for easy to use, but configurable Hy macros. Two main macros are:\n",
    "\n",
    "- lambda macro, which character identifier can be defined on the fly\n",
    "- application sharp macro, that is `Ÿ`\n",
    "\n",
    "#### Lambda macros\n",
    "\n",
    "System is initialized by one of the four start up macros:\n",
    "\n",
    "- `with-macros`\n",
    "- `with-alpha-conversion`\n",
    "- `with-alpha-conversion-nor-macros`\n",
    "- `with-alpha-conversion-and-macros`\n",
    "\n",
    "`with-alpha-conversion-and-macros` is recommended way of using the module, because it will provide automatic alpha conversion for variable names and import useful shorthands for several dozens of well known custom lambda forms.\n",
    "\n",
    "There are two parameters you can use on initialization:\n",
    "\n",
    "1. lambda character identifier\n",
    "2. argument and body separator character\n",
    "\n",
    "Usually we see the notation `𝜆x.x` for lambda expressions where `𝜆` is the character identifier for the lambda function and `.` is the separator between lambda function arguments and the body. In the case of `𝜆x.x` the first `x` before the dot is the argument name and the second `x` after the dot, is the body of the lambda function.\n",
    "\n",
    "Lambda application in the simplest case could be: `(𝜆x.x 1)` where `1` is the value of the argument `x`. Evaluation, or better called beta-reduction is the process of substituting all instances of `x` in the body with the `1` in this case.\n",
    "\n",
    "#### Initialize\n",
    "\n",
    "So what we want to do next, is the initialization of the module with wanted lambda character and separation marker, let them be: `𝜆` and `·` in our case:"
   ]
  },
  {
   "cell_type": "code",
   "execution_count": 48,
   "metadata": {},
   "outputs": [
    {
     "data": {
      "text/plain": [
       "<function <lambda> at 0x00000279AB825048>"
      ]
     },
     "execution_count": 48,
     "metadata": {},
     "output_type": "execute_result"
    }
   ],
   "source": [
    "(with-alpha-conversion-nor-macros 𝜆 ·)"
   ]
  },
  {
   "cell_type": "markdown",
   "metadata": {},
   "source": [
    "Because we are using simple examples in the following parts, we used `with-alpha-conversion-nor-macros` initializer, that doesn't provide alpha conversion nor custom macros.\n",
    "\n",
    "#### Construct abstration\n",
    "\n",
    "Now we are ready to construct the first lambda expression in Hy. We will call this the abstration or definition of the function:"
   ]
  },
  {
   "cell_type": "code",
   "execution_count": 49,
   "metadata": {},
   "outputs": [
    {
     "data": {
      "text/plain": [
       "'(𝜆 x · x)'"
      ]
     },
     "execution_count": 49,
     "metadata": {},
     "output_type": "execute_result"
    }
   ],
   "source": [
    "(𝜆 x · x)"
   ]
  },
  {
   "cell_type": "markdown",
   "metadata": {},
   "source": [
    "Evaluation of the lambda form gave us back the same expression because we didn't provide any parameters to the lambda function. This is an anonymous function in common programming languages that waits for the caller. If parameter is provided, for example:"
   ]
  },
  {
   "cell_type": "code",
   "execution_count": 50,
   "metadata": {},
   "outputs": [
    {
     "data": {
      "text/plain": [
       "1"
      ]
     },
     "execution_count": 50,
     "metadata": {},
     "output_type": "execute_result"
    }
   ],
   "source": [
    "(𝜆 x · x 1)"
   ]
  },
  {
   "cell_type": "markdown",
   "metadata": {},
   "source": [
    "then result would be as simple returning the same value. This is one of the most basic and the simplest forms, which is called identity function. It returns back what is provided as an argument. Note that the number 1 should not be regarded as a number however. It is just a character that has no actual meaning is the lambda calculus. This perhaps the first strange part you will face with lambda calculus. Different distinct forms and expressions have a meaning per se, not symbols that are used in the forms. For example: `(𝜆 x · x)` is same as `(𝜆 y · y)` because they will provide similar effect when argument is passed to the function. Take a look at this and compare to the previous code:"
   ]
  },
  {
   "cell_type": "code",
   "execution_count": 51,
   "metadata": {},
   "outputs": [
    {
     "data": {
      "text/plain": [
       "1"
      ]
     },
     "execution_count": 51,
     "metadata": {},
     "output_type": "execute_result"
    }
   ],
   "source": [
    "(𝜆 y · y 1)"
   ]
  },
  {
   "cell_type": "markdown",
   "metadata": {},
   "source": [
    "Outcome is same. But is you would make it: `(𝜆 y · x 1)` then result would be different:"
   ]
  },
  {
   "cell_type": "code",
   "execution_count": 52,
   "metadata": {},
   "outputs": [
    {
     "data": {
      "text/plain": [
       "'x'"
      ]
     },
     "execution_count": 52,
     "metadata": {},
     "output_type": "execute_result"
    }
   ],
   "source": [
    "(𝜆 y · x 1)"
   ]
  },
  {
   "cell_type": "markdown",
   "metadata": {},
   "source": [
    "In this case argument `y` has a value `1`, but y is not used on the function body. Rather `x` is the body and because there is no substitution to the `x`, returned value is just the original `x`. We would call this a constant form because it will take one argument, but does nothing with it and rather gives a static value back.\n",
    "\n",
    "#### Arguments\n",
    "\n",
    "Normally we can provide only one argument in lambda function. If several arguments are needed, then they can be nested:"
   ]
  },
  {
   "cell_type": "code",
   "execution_count": 53,
   "metadata": {},
   "outputs": [
    {
     "data": {
      "text/plain": [
       "'(𝜆 x · (𝜆 y · (x y)))'"
      ]
     },
     "execution_count": 53,
     "metadata": {},
     "output_type": "execute_result"
    }
   ],
   "source": [
    "(𝜆 x · (𝜆 y · (x y)))"
   ]
  },
  {
   "cell_type": "markdown",
   "metadata": {},
   "source": [
    "Arguments are passed, or lambda technically speaking curryed to the nested levels of the expression. In a formal definition od lambda calculus, only one and one only argument can be passed to the function. In practice it is more compact to write same thing as multiary function:"
   ]
  },
  {
   "cell_type": "code",
   "execution_count": 54,
   "metadata": {},
   "outputs": [
    {
     "data": {
      "text/plain": [
       "'(𝜆 x · (𝜆 y · (x y)))'"
      ]
     },
     "execution_count": 54,
     "metadata": {},
     "output_type": "execute_result"
    }
   ],
   "source": [
    "(𝜆 x y · (x y))"
   ]
  },
  {
   "cell_type": "markdown",
   "metadata": {},
   "source": [
    "Small comparison below demonstrated they both produce same output:"
   ]
  },
  {
   "cell_type": "code",
   "execution_count": 55,
   "metadata": {},
   "outputs": [
    {
     "data": {
      "text/plain": [
       "('(1 2)', '(1 2)', True)"
      ]
     },
     "execution_count": 55,
     "metadata": {},
     "output_type": "execute_result"
    }
   ],
   "source": [
    "(, (𝜆 x · (𝜆 y · (x y)) 1 2)\n",
    "   (𝜆 x y · (x y) 1 2)\n",
    "   (= (𝜆 x · (𝜆 y · (x y)) 1 2)\n",
    "      (𝜆 x y · (x y) 1 2)))"
   ]
  },
  {
   "cell_type": "markdown",
   "metadata": {},
   "source": [
    "Originally even not as a part of the lambda calculus, it is possible to declare functions without arguments in calchylus module:"
   ]
  },
  {
   "cell_type": "code",
   "execution_count": 56,
   "metadata": {},
   "outputs": [
    {
     "data": {
      "text/plain": [
       "'x'"
      ]
     },
     "execution_count": 56,
     "metadata": {},
     "output_type": "execute_result"
    }
   ],
   "source": [
    "(𝜆 · x)"
   ]
  },
  {
   "cell_type": "code",
   "execution_count": 57,
   "metadata": {
    "collapsed": true
   },
   "outputs": [],
   "source": [
    ";(macro-print '(APP x))"
   ]
  },
  {
   "cell_type": "markdown",
   "metadata": {},
   "source": [
    "This will lead us to the discussion about the basic forms and provided macros in calchylus.\n",
    "\n",
    "### Predefined Lambda forms\n",
    "\n",
    "These are the usual Lambda forms from textbooks provided as Hy macros. Macros are created for shorthands. They are used to make Lambda terms shorter and more comprehensible:\n",
    "\n",
    "`CONST` `IDENT` `LET` `LET*` `TRUE` `FALSE` `REPLACE`<br>\n",
    "`PAIR` `HEAD` `TAIL` `FIRST` `SECOND` `NIL` `NIL?`<br>\n",
    "`ZERO` `ZERO?` `NUM`<br>\n",
    "`ONE` `TWO` `THREE` `FOUR` `FIVE` `SIX` `SEVEN` `EIGHT` `NINE` `TEN`<br>\n",
    "`COND` `AND` `OR` `NOT` `XOR`<br>\n",
    "`EQ?` `LEQ?`<br>\n",
    "`ADD` `PRED` `SUCC` `EXP` `SUM` `PROD` `SUB`<br>\n",
    "`SELF` `YCOMB`<br>\n",
    "`SUMMATION` `FACTORIAL` `FIBONACCI`"
   ]
  },
  {
   "cell_type": "markdown",
   "metadata": {},
   "source": [
    "#### Constant\n",
    "\n",
    "*Definition:*\n",
    "\n",
    "<blockquote>\n",
    "``(defmacro CONST [&rest args] `(L , ~@args))``\n",
    "</blockquote>\n",
    "\n",
    "Constant form doesn't take any arguments, but it will return given body as a \"static\" value. In `calchylus` unnamed constant is a lambda form without any arguments, that is for example: `(𝜆 · x)`. It will be evaluated directly because there are no bound variables in it. Macro for this form is `CONST` and it will take the body of the lambda expression as an argument:"
   ]
  },
  {
   "cell_type": "markdown",
   "metadata": {},
   "source": [
    "Also, if lambda abstraction is declared as a constant body, it will be returned as it is:"
   ]
  },
  {
   "cell_type": "code",
   "execution_count": 58,
   "metadata": {},
   "outputs": [
    {
     "data": {
      "text/plain": [
       "2"
      ]
     },
     "execution_count": 58,
     "metadata": {},
     "output_type": "execute_result"
    }
   ],
   "source": [
    "(CONST t (𝜆 x · x) 1 2)"
   ]
  },
  {
   "cell_type": "markdown",
   "metadata": {},
   "source": [
    "However, if function application is given, then function will be evaluated and result of it returned as a value of the constant:"
   ]
  },
  {
   "cell_type": "code",
   "execution_count": 59,
   "metadata": {},
   "outputs": [
    {
     "data": {
      "text/plain": [
       "'(𝜆 t · (𝜆 x · x))'"
      ]
     },
     "execution_count": 59,
     "metadata": {},
     "output_type": "execute_result"
    }
   ],
   "source": [
    "(CONST t (𝜆 x · x))"
   ]
  },
  {
   "cell_type": "code",
   "execution_count": 60,
   "metadata": {},
   "outputs": [
    {
     "data": {
      "text/plain": [
       "'(𝜆 t · 1)'"
      ]
     },
     "execution_count": 60,
     "metadata": {},
     "output_type": "execute_result"
    }
   ],
   "source": [
    "(CONST t (𝜆 x · x 1))"
   ]
  },
  {
   "cell_type": "markdown",
   "metadata": {},
   "source": [
    "If more arguments are passed to the lambda function, than it is requires, also free arguments will be returned on the final output. In this case `y` is a free argument and returned as a left over. This happens not only in constants but on other function forms too:"
   ]
  },
  {
   "cell_type": "code",
   "execution_count": 61,
   "metadata": {},
   "outputs": [
    {
     "data": {
      "text/plain": [
       "'(x y)'"
      ]
     },
     "execution_count": 61,
     "metadata": {},
     "output_type": "execute_result"
    }
   ],
   "source": [
    "(𝜆 · x y)"
   ]
  },
  {
   "cell_type": "markdown",
   "metadata": {},
   "source": [
    "#### Identity\n",
    "\n",
    "*Definition:*\n",
    "\n",
    "<blockquote>\n",
    "``(defmacro IDENT [&rest args] `(L a , a ~@args))``\n",
    "</blockquote>\n",
    "\n",
    "The next basic form is the identity function. This function will return the given argument as it is. The formal definition of the identity function is: `(L x , x)`. The custom macro provided by calchhylus module is `IDENT` and it is used following way:"
   ]
  },
  {
   "cell_type": "code",
   "execution_count": 62,
   "metadata": {},
   "outputs": [
    {
     "data": {
      "text/plain": [
       "'x'"
      ]
     },
     "execution_count": 62,
     "metadata": {},
     "output_type": "execute_result"
    }
   ],
   "source": [
    "(IDENT x)"
   ]
  },
  {
   "cell_type": "markdown",
   "metadata": {},
   "source": [
    "Given extra argument, will return both the mandatory argument and latter ones in a parentheses:"
   ]
  },
  {
   "cell_type": "code",
   "execution_count": 63,
   "metadata": {},
   "outputs": [
    {
     "data": {
      "text/plain": [
       "'(x y z)'"
      ]
     },
     "execution_count": 63,
     "metadata": {},
     "output_type": "execute_result"
    }
   ],
   "source": [
    "(IDENT x y z)"
   ]
  },
  {
   "cell_type": "markdown",
   "metadata": {},
   "source": [
    "If no arguments are provided, then abstraction is returned:"
   ]
  },
  {
   "cell_type": "code",
   "execution_count": 64,
   "metadata": {},
   "outputs": [
    {
     "data": {
      "text/plain": [
       "'(𝜆 a · a)'"
      ]
     },
     "execution_count": 64,
     "metadata": {},
     "output_type": "execute_result"
    }
   ],
   "source": [
    "(IDENT)"
   ]
  },
  {
   "cell_type": "markdown",
   "metadata": {},
   "source": [
    "#### Booleans\n",
    "\n",
    "*Definition:*\n",
    "\n",
    "<blockquote>\n",
    "``(defmacro TRUE [&rest args] `(L a b , a ~@args))``\n",
    "</blockquote>\n",
    "\n",
    "<blockquote>\n",
    "``(defmacro FALSE [&rest args] `(L a b , b ~@args))``\n",
    "</blockquote>\n",
    "\n",
    "These two forms are also very fundamental for lambda calculus. Boolean forms takes two arguments, but return only the other.\n",
    "\n",
    "True returns the first and omits the second argument. False returns the second and omits the first argument. So they are opposites as one would expect. This switch functionality will give the logical background for the whole calculus. Upon these two primitive form, most of the other forms are based.\n",
    "\n",
    "In calchylus module, macros are provided accordingly: TRUE and FALSE. But let us first take a closer look to both forms. In true form, if arguments are passed to the function, the first argument will be returned as it is:"
   ]
  },
  {
   "cell_type": "code",
   "execution_count": 65,
   "metadata": {},
   "outputs": [
    {
     "data": {
      "text/plain": [
       "1"
      ]
     },
     "execution_count": 65,
     "metadata": {},
     "output_type": "execute_result"
    }
   ],
   "source": [
    "(𝜆 a b · a 1 2)"
   ]
  },
  {
   "cell_type": "markdown",
   "metadata": {},
   "source": [
    "In false form, the second argument is returned as it is:"
   ]
  },
  {
   "cell_type": "code",
   "execution_count": 66,
   "metadata": {},
   "outputs": [
    {
     "data": {
      "text/plain": [
       "2"
      ]
     },
     "execution_count": 66,
     "metadata": {},
     "output_type": "execute_result"
    }
   ],
   "source": [
    "(𝜆 a b · b 1 2)"
   ]
  },
  {
   "cell_type": "markdown",
   "metadata": {},
   "source": [
    "In both cases the other argument is left out as a useless option. "
   ]
  },
  {
   "cell_type": "markdown",
   "metadata": {},
   "source": [
    "#### Logic\n",
    "\n",
    "*Definition:*\n",
    "\n",
    "<blockquote>\n",
    "``\n",
    "; logic\n",
    "(defmacro COND  [&rest args] `(L p a b , (p a b) ~@args))\n",
    "(defmacro AND   [&rest args] `(L a b , (a b FALSE) ~@args))\n",
    ";(defmacro AND2  [&rest args] `(L a b , (a b a) ~@args))\n",
    "(defmacro OR    [&rest args] `(L a b , (a TRUE b) ~@args))\n",
    ";(defmacro OR2   [&rest args] `(L a b , (a a b) ~@args))\n",
    "(defmacro NOT   [&rest args] `(L p , (p FALSE TRUE) ~@args))\n",
    ";(defmacro NOT2  [&rest args] `(L p a b , (p b a) ~@args))?\n",
    "(defmacro XOR   [&rest args] `(L a b , (a (NOT b) b) ~@args))\n",
    "``\n",
    "</blockquote>\n"
   ]
  },
  {
   "cell_type": "markdown",
   "metadata": {},
   "source": [
    "#### Lists\n",
    "\n",
    "*Definition:*\n",
    "\n",
    "<blockquote>\n",
    "``\n",
    "; lists\n",
    "(defmacro NIL    [&rest args] `(FALSE ~@args))\n",
    "(defmacro PAIR   [&rest args] `(L a b s , (s a b) ~@args))\n",
    "(defmacro FIRST  [&rest args] `(TRUE ~@args))\n",
    "(defmacro SECOND [&rest args] `(FALSE ~@args))\n",
    "(defmacro HEAD   [&rest args] `(L s , (s TRUE) ~@args))\n",
    "(defmacro TAIL   [&rest args] `(L s , (s FALSE) ~@args))\n",
    "(defmacro NIL?   [&rest args] `(L s , (s FALSE TRUE) ~@args))\n",
    "``\n",
    "</blockquote>\n",
    "\n",
    "This form takes one argument, but does nothing with it. One can think it like an omitter, but also replacer because the next possible argument will be returned instead of the first. This is also very close to the idea of the boolean false form:"
   ]
  },
  {
   "cell_type": "code",
   "execution_count": 67,
   "metadata": {},
   "outputs": [
    {
     "data": {
      "text/plain": [
       "2"
      ]
     },
     "execution_count": 67,
     "metadata": {},
     "output_type": "execute_result"
    }
   ],
   "source": [
    "(FALSE 1 2)"
   ]
  },
  {
   "cell_type": "code",
   "execution_count": 68,
   "metadata": {},
   "outputs": [
    {
     "data": {
      "text/plain": [
       "2"
      ]
     },
     "execution_count": 68,
     "metadata": {},
     "output_type": "execute_result"
    }
   ],
   "source": [
    "(TRUE 2 d)"
   ]
  },
  {
   "cell_type": "code",
   "execution_count": 69,
   "metadata": {},
   "outputs": [
    {
     "data": {
      "text/plain": [
       "'(aa ac)'"
      ]
     },
     "execution_count": 69,
     "metadata": {},
     "output_type": "execute_result"
    }
   ],
   "source": [
    "(𝜆 aa · aa (𝜆 ab · (aa ab)) ac)"
   ]
  },
  {
   "cell_type": "markdown",
   "metadata": {},
   "source": [
    "#### Numbers\n",
    "\n"
   ]
  },
  {
   "cell_type": "markdown",
   "metadata": {},
   "source": [
    "#### Arithmetics\n",
    "\n"
   ]
  },
  {
   "cell_type": "code",
   "execution_count": 70,
   "metadata": {},
   "outputs": [
    {
     "data": {
      "text/plain": [
       "'(selector (L a b , a) (L a b , b))'"
      ]
     },
     "execution_count": 70,
     "metadata": {},
     "output_type": "execute_result"
    }
   ],
   "source": [
    "(with-alpha-conversion-and-macros L ,)\n",
    "(DO (LET a TRUE b FALSE)\n",
    "    (LET selector \n",
    "         (DO (LET* a selector b a) b))\n",
    "    (selector a b))"
   ]
  },
  {
   "cell_type": "markdown",
   "metadata": {},
   "source": [
    "### Sandbox test area\n",
    "$F$ $f$"
   ]
  },
  {
   "cell_type": "code",
   "execution_count": 71,
   "metadata": {},
   "outputs": [
    {
     "data": {
      "text/plain": [
       "'(n (n 1))'"
      ]
     },
     "execution_count": 71,
     "metadata": {},
     "output_type": "execute_result"
    }
   ],
   "source": [
    "#Ÿ(n (n (L x , x 1)))"
   ]
  },
  {
   "cell_type": "code",
   "execution_count": 72,
   "metadata": {},
   "outputs": [
    {
     "data": {
      "text/plain": [
       "'(a (a (a (a (a (a (a (a (a b)))))))))'"
      ]
     },
     "execution_count": 72,
     "metadata": {},
     "output_type": "execute_result"
    }
   ],
   "source": [
    "(SUMMATION THREE SUCC THREE a b)"
   ]
  },
  {
   "cell_type": "code",
   "execution_count": 73,
   "metadata": {},
   "outputs": [
    {
     "data": {
      "text/plain": [
       "'(L y , (L x y , (x (x y)) (L x y , (x (x y))) a (L x y , (x (x y)) (L x y , (x (x y))) a y)))'"
      ]
     },
     "execution_count": 73,
     "metadata": {},
     "output_type": "execute_result"
    }
   ],
   "source": [
    "(SUCC TWO TWO a )"
   ]
  },
  {
   "cell_type": "code",
   "execution_count": 74,
   "metadata": {},
   "outputs": [
    {
     "data": {
      "text/plain": [
       "'(L x , (L y , (L x , (L f n , (L n , (L s , (s (L a , (L a b , b)) (L a b , a)) n) n (L x y , (x y)) (L m n x y , (m (n x) y) (f (L n x y , (n (L g h , (h (g x))) (L x , y) (L a , a)) n)) n)) (x x)) (L x , (L f n , (L n , (L s , (s (L a , (L a b , b)) (L a b , a)) n) n (L x y , (x y)) (L m n x y , (m (n x) y) (f (L n x y , (n (L g h , (h (g x))) (L x , y) (L a , a)) n)) n)) (x x))) (L n x y , (n (L g h , (h (g x))) (L x , y) (L a , a)) (L x y , (x (x (x (x (x y))))))) (L x y , (x (x (x (x (x y))))) x) y)))'"
      ]
     },
     "execution_count": 74,
     "metadata": {},
     "output_type": "execute_result"
    }
   ],
   "source": [
    "(FACTORIAL FIVE)"
   ]
  },
  {
   "cell_type": "code",
   "execution_count": 75,
   "metadata": {},
   "outputs": [
    {
     "data": {
      "text/plain": [
       "'(L x , (L y , (L x , (L f n , (L m n , (L n , (L s , (s (L a , (L a b , b)) (L a b , a)) n) (n (L n x y , (n (L g h , (h (g x))) (L x , y) (L a , a))) m)) n (L x y , (x (x y))) (L x y , (x y)) (L m n x y , (m x (n x y)) (f (L n x y , (n (L g h , (h (g x))) (L x , y) (L a , a)) n)) (f (L n x y , (n (L g h , (h (g x))) (L x , y) (L a , a)) (L n x y , (n (L g h , (h (g x))) (L x , y) (L a , a)) n))))) (x x)) (L x , (L f n , (L m n , (L n , (L s , (s (L a , (L a b , b)) (L a b , a)) n) (n (L n x y , (n (L g h , (h (g x))) (L x , y) (L a , a))) m)) n (L x y , (x (x y))) (L x y , (x y)) (L m n x y , (m x (n x y)) (f (L n x y , (n (L g h , (h (g x))) (L x , y) (L a , a)) n)) (f (L n x y , (n (L g h , (h (g x))) (L x , y) (L a , a)) (L n x y , (n (L g h , (h (g x))) (L x , y) (L a , a)) n))))) (x x))) (L n x y , (n (L g h , (h (g x))) (L x , y) (L a , a)) (L x y , (x (x (x (x (x y))))))) x (L x , (L f n , (L m n , (L n , (L s , (s (L a , (L a b , b)) (L a b , a)) n) (n (L n x y , (n (L g h , (h (g x))) (L x , y) (L a , a))) m)) n (L x y , (x (x y))) (L x y , (x y)) (L m n x y , (m x (n x y)) (f (L n x y , (n (L g h , (h (g x))) (L x , y) (L a , a)) n)) (f (L n x y , (n (L g h , (h (g x))) (L x , y) (L a , a)) (L n x y , (n (L g h , (h (g x))) (L x , y) (L a , a)) n))))) (x x)) (L x , (L f n , (L m n , (L n , (L s , (s (L a , (L a b , b)) (L a b , a)) n) (n (L n x y , (n (L g h , (h (g x))) (L x , y) (L a , a))) m)) n (L x y , (x (x y))) (L x y , (x y)) (L m n x y , (m x (n x y)) (f (L n x y , (n (L g h , (h (g x))) (L x , y) (L a , a)) n)) (f (L n x y , (n (L g h , (h (g x))) (L x , y) (L a , a)) (L n x y , (n (L g h , (h (g x))) (L x , y) (L a , a)) n))))) (x x))) (L n x y , (n (L g h , (h (g x))) (L x , y) (L a , a)) (L n x y , (n (L g h , (h (g x))) (L x , y) (L a , a)) (L x y , (x (x (x (x (x y)))))))) x y))))'"
      ]
     },
     "execution_count": 75,
     "metadata": {},
     "output_type": "execute_result"
    }
   ],
   "source": [
    "(FIBONACCI FIVE)"
   ]
  },
  {
   "cell_type": "code",
   "execution_count": 76,
   "metadata": {},
   "outputs": [
    {
     "data": {
      "text/plain": [
       "'(L x , ((x (L g , (L h , (h (g (L g , (L h , (h (g (L a , (L a , (L b , b))))))))))) (L x , (L x , (L a , (L b , a)))) (L a , a)) (L a , a) (L x , (L y , (x y))) (L x , (L y , (L x , (L f n , (L m n , (L n , (L s , (s (L a , (L a b , b)) (L a b , a)) n) (n (L n x y , (n (L g h , (h (g x))) (L x , y) (L a , a))) m)) n (L x y , (x (x y))) (L x y , (x y)) (L m n x y , (m x (n x y)) (f (L n x y , (n (L g h , (h (g x))) (L x , y) (L a , a)) n)) (f (L n x y , (n (L g h , (h (g x))) (L x , y) (L a , a)) (L n x y , (n (L g h , (h (g x))) (L x , y) (L a , a)) n))))) (x x)) (L x , (L f n , (L m n , (L n , (L s , (s (L a , (L a b , b)) (L a b , a)) n) (n (L n x y , (n (L g h , (h (g x))) (L x , y) (L a , a))) m)) n (L x y , (x (x y))) (L x y , (x y)) (L m n x y , (m x (n x y)) (f (L n x y , (n (L g h , (h (g x))) (L x , y) (L a , a)) n)) (f (L n x y , (n (L g h , (h (g x))) (L x , y) (L a , a)) (L n x y , (n (L g h , (h (g x))) (L x , y) (L a , a)) n))))) (x x))) (L n x y , (n (L g h , (h (g x))) (L x , y) (L a , a)) x) x (L x , (L f n , (L m n , (L n , (L s , (s (L a , (L a b , b)) (L a b , a)) n) (n (L n x y , (n (L g h , (h (g x))) (L x , y) (L a , a))) m)) n (L x y , (x (x y))) (L x y , (x y)) (L m n x y , (m x (n x y)) (f (L n x y , (n (L g h , (h (g x))) (L x , y) (L a , a)) n)) (f (L n x y , (n (L g h , (h (g x))) (L x , y) (L a , a)) (L n x y , (n (L g h , (h (g x))) (L x , y) (L a , a)) n))))) (x x)) (L x , (L f n , (L m n , (L n , (L s , (s (L a , (L a b , b)) (L a b , a)) n) (n (L n x y , (n (L g h , (h (g x))) (L x , y) (L a , a))) m)) n (L x y , (x (x y))) (L x y , (x y)) (L m n x y , (m x (n x y)) (f (L n x y , (n (L g h , (h (g x))) (L x , y) (L a , a)) n)) (f (L n x y , (n (L g h , (h (g x))) (L x , y) (L a , a)) (L n x y , (n (L g h , (h (g x))) (L x , y) (L a , a)) n))))) (x x))) (L n x y , (n (L g h , (h (g x))) (L x , y) (L a , a)) (L n x y , (n (L g h , (h (g x))) (L x , y) (L a , a)) x)) x y))))))'"
      ]
     },
     "execution_count": 76,
     "metadata": {},
     "output_type": "execute_result"
    }
   ],
   "source": [
    "(FIBONACCI)"
   ]
  },
  {
   "cell_type": "markdown",
   "metadata": {},
   "source": [
    "### Self application"
   ]
  },
  {
   "cell_type": "code",
   "execution_count": 77,
   "metadata": {},
   "outputs": [
    {
     "data": {
      "text/plain": [
       "<function <lambda> at 0x00000279ABA181E0>"
      ]
     },
     "execution_count": 77,
     "metadata": {},
     "output_type": "execute_result"
    }
   ],
   "source": [
    "(with-alpha-conversion-and-macros L ,)"
   ]
  },
  {
   "cell_type": "code",
   "execution_count": 78,
   "metadata": {},
   "outputs": [
    {
     "data": {
      "text/plain": [
       "'(x (x (x (x (x (x y))))))'"
      ]
     },
     "execution_count": 78,
     "metadata": {},
     "output_type": "execute_result"
    }
   ],
   "source": [
    "(SELF (L f n , (COND (ZERO? n) ONE (PROD (f f (PRED n)) n))) THREE x y) ; 1*2*3 = 6"
   ]
  },
  {
   "cell_type": "code",
   "execution_count": 79,
   "metadata": {},
   "outputs": [
    {
     "data": {
      "text/plain": [
       "'(x (x (x (x (x (x y))))))'"
      ]
     },
     "execution_count": 79,
     "metadata": {},
     "output_type": "execute_result"
    }
   ],
   "source": [
    "; SELF\n",
    "(L f n , (f f n)\n",
    "  ; function\n",
    "  (L f n , \n",
    "    ; if n is ZERO?\n",
    "    (L f , (f (L a , (L a b , b)) (L a b , a)) n\n",
    "    ; then ONE\n",
    "    (L x y , (x y))\n",
    "    ; else PROD \n",
    "    (L m n x y , (m (n x) y)\n",
    "      ; function PRED n\n",
    "      (f f (L n x y , (n (L g h , (h (g x))) (L x , y) (L a , a)) n))\n",
    "      ; times n\n",
    "      n)))\n",
    "  ; THREE\n",
    "  (L x y , (x (x (x y)))) x y) ; 1*2*3=6"
   ]
  },
  {
   "cell_type": "code",
   "execution_count": 80,
   "metadata": {},
   "outputs": [
    {
     "data": {
      "text/plain": [
       "'(x (x (x (x (x (x y))))))'"
      ]
     },
     "execution_count": 80,
     "metadata": {},
     "output_type": "execute_result"
    }
   ],
   "source": [
    "(SELF (L f n , (ZERO? n ZERO (SUM n (f f (PRED n))))) THREE x y) ; 1*2*3 = 6"
   ]
  },
  {
   "cell_type": "code",
   "execution_count": 81,
   "metadata": {},
   "outputs": [
    {
     "data": {
      "text/plain": [
       "'(x (x (x (x (x (x y))))))'"
      ]
     },
     "execution_count": 81,
     "metadata": {},
     "output_type": "execute_result"
    }
   ],
   "source": [
    "; SELF\n",
    "(L f n , (f f n)\n",
    "  ; function\n",
    "  (L f n , \n",
    "    ; COND\n",
    "    (L p a b , (p a b) \n",
    "      ; if n is ZERO?\n",
    "      (L f , (f (L a , (L a b , b)) (L a b , a)) n)\n",
    "      ; then ZERO\n",
    "      (L x y , y)\n",
    "      ; else SUM \n",
    "      (L m n x y , (m x (n x y))\n",
    "        ; function PRED n\n",
    "        (f f (L n x y , (n (L g h , (h (g x))) (L x , y) (L a , a)) n))\n",
    "        ; times n\n",
    "        n)))\n",
    "  ; THREE\n",
    "  (L x y , (x (x (x y)))) x y) ; 1*2*3=6"
   ]
  },
  {
   "cell_type": "code",
   "execution_count": 82,
   "metadata": {},
   "outputs": [
    {
     "name": "stdout",
     "output_type": "stream",
     "text": [
      "Recursion error occured for lambda expression:  (L x , (f (x x)) (L x , (f (x x))))\n"
     ]
    }
   ],
   "source": [
    "(YCOMB a)"
   ]
  },
  {
   "cell_type": "code",
   "execution_count": 83,
   "metadata": {},
   "outputs": [
    {
     "data": {
      "text/plain": [
       "'(x (x (x (x (x (x y))))))'"
      ]
     },
     "execution_count": 83,
     "metadata": {},
     "output_type": "execute_result"
    }
   ],
   "source": [
    "(YCOMB (L f n , (ZERO? n ZERO (SUM n (f (PRED n))))) THREE x y) ; 1*2*3 = 6"
   ]
  },
  {
   "cell_type": "code",
   "execution_count": 84,
   "metadata": {},
   "outputs": [
    {
     "data": {
      "text/plain": [
       "'(x (x (x (x (x (x y))))))'"
      ]
     },
     "execution_count": 84,
     "metadata": {},
     "output_type": "execute_result"
    }
   ],
   "source": [
    "(YCOMB\n",
    "  (L f n , \n",
    "    ; COND\n",
    "    (L p a b , (p a b) \n",
    "      ; if ZERO? n\n",
    "      (L f , (f (L a , (L a b , b)) (L a b , a)) n) \n",
    "      ; then ZERO\n",
    "      (L x y , y) \n",
    "      ; else SUM \n",
    "      (L m n x y , (m x (n x y))\n",
    "         ; function PRED n\n",
    "         (f (L n x y , (n (L g h , (h (g x))) (L u , y) (L u , u)) n))\n",
    "         ; times n\n",
    "         n)))\n",
    "  (L x y , (x (x (x y)))) x y)"
   ]
  },
  {
   "cell_type": "markdown",
   "metadata": {},
   "source": [
    "#### Product function\n"
   ]
  },
  {
   "cell_type": "code",
   "execution_count": 85,
   "metadata": {},
   "outputs": [
    {
     "data": {
      "text/plain": [
       "'(x (x (x (x (x (x y))))))'"
      ]
     },
     "execution_count": 85,
     "metadata": {},
     "output_type": "execute_result"
    }
   ],
   "source": [
    "(with-alpha-conversion-and-macros L ,)\n",
    "(YCOMB (L f , (L n , (COND (ZERO? n) ONE (PROD (f (PRED n)) n)))) THREE x y) ; 1*2*3 = 6"
   ]
  },
  {
   "cell_type": "code",
   "execution_count": 86,
   "metadata": {},
   "outputs": [
    {
     "data": {
      "text/plain": [
       "'(L x , (L y , (L x , (L f , (L n , (L p , (L a , (L b , (p a b))) (L n , (L s , (s (L a , (L a , (L b , b))) (L a , (L b , a))) n) n) (L x , (L y , (x y))) (L m , (L n x y , (m (n x) y)) (f (L n , (L x , (L y , (n (L g , (L h , (h (g x)))) (L x , y) (L a , a)))) n)) n))) (x x)) (L x , (L f , (L n , (L p , (L a , (L b , (p a b))) (L n , (L s , (s (L a , (L a , (L b , b))) (L a , (L b , a))) n) n) (L x , (L y , (x y))) (L m , (L n x y , (m (n x) y)) (f (L n , (L x , (L y , (n (L g , (L h , (h (g x)))) (L x , y) (L a , a)))) n)) n))) (x x))) (L n , (L x , (L y , (n (L g , (L h , (h (g x)))) (L x , y) (L a , a)))) (L x , (L y , (x (x (x y)))))) (L x , (L y , (x (x (x y)))) x) y)))'"
      ]
     },
     "execution_count": 86,
     "metadata": {},
     "output_type": "execute_result"
    }
   ],
   "source": [
    "(L f , (L x , (f (x x)) (L x , (f (x x))))\n",
    "  (L f , (L n ,\n",
    "     (L p , (L a , (L b , (p a b)))\n",
    "       (L n , (L s , (s (L a , (L a , (L b , b))) (L a , (L b , a))) n) n)\n",
    "     (L x , (L y , (x y)))\n",
    "     (L m , (L n x y , (m (n x) y))\n",
    "        (f (L n , (L x , (L y , (n (L g , (L h , (h (g x)))) (L x , y) (L a , a)))) n))\n",
    "      n))))\n",
    "   (L x , (L y , (x (x (x y))))))"
   ]
  },
  {
   "cell_type": "code",
   "execution_count": 87,
   "metadata": {},
   "outputs": [
    {
     "data": {
      "text/plain": [
       "<function <lambda> at 0x00000279ABA180D0>"
      ]
     },
     "execution_count": 87,
     "metadata": {},
     "output_type": "execute_result"
    }
   ],
   "source": [
    "(with-alpha-conversion-and-macros L ,)"
   ]
  },
  {
   "cell_type": "code",
   "execution_count": 88,
   "metadata": {},
   "outputs": [
    {
     "data": {
      "text/plain": [
       "'(x (x (x (x (x (x y))))))'"
      ]
     },
     "execution_count": 88,
     "metadata": {},
     "output_type": "execute_result"
    }
   ],
   "source": [
    "; apply YCOMBinator to function f and number n\n",
    "(L f , (L n , (f (n n)) (L n , (f (n n))))\n",
    "  ; for function f and number n\n",
    "  (L f , (L n ,\n",
    "    ; if n is ZERO?\n",
    "    (L f , (f (L a , (L a , (L b , b))) (L a , (L b , a))) n\n",
    "    ; then return number ONE\n",
    "    (L x , (L y , (x y)))\n",
    "    ; else calculate PRODuct of a. and b.\n",
    "    (L m , (L n , (L x , (L y , (m (n x) y))) \n",
    "      ; a. apply recursive function f to PREDecessor of n\n",
    "      (f (L n , (L x , (L y , (n (L g , (L h , (h (g x)))) (L u , y) (L u , u)))) n)))\n",
    "      ; b. n\n",
    "      n))))\n",
    "  ; number THREE\n",
    "  (L x , (L y , (x (x (x y))))) x y)"
   ]
  },
  {
   "cell_type": "code",
   "execution_count": 89,
   "metadata": {},
   "outputs": [
    {
     "data": {
      "text/html": [
       "<br/>$$\\\\\\large L\\ m\\ n\\ x\\ y\\ ,\\ (m\\ x\\ (n\\ x\\ y))\\\\\\large=_{\\beta} \\\\\\large L\\ m\\ ,\\ (L\\ n\\ ,\\ (L\\ x\\ ,\\ (L\\ y\\ ,\\ (m\\ x\\ (n\\ x\\ y)))))\\\\$$"
      ],
      "text/plain": [
       "<IPython.core.display.HTML object>"
      ]
     },
     "execution_count": 89,
     "metadata": {},
     "output_type": "execute_result"
    }
   ],
   "source": [
    "#¤(SUM)"
   ]
  },
  {
   "cell_type": "code",
   "execution_count": 90,
   "metadata": {},
   "outputs": [
    {
     "data": {
      "text/html": [
       "<br/>$$\\\\\\large L\\ m\\ n\\ x\\ y\\ ,\\ (m\\ x\\ (n\\ x\\ y))\\\\\\large=_{\\beta} \\\\\\large L\\ m\\ ,\\ (L\\ n\\ ,\\ (L\\ x\\ ,\\ (L\\ y\\ ,\\ (m\\ x\\ (n\\ x\\ y)))))\\\\$$"
      ],
      "text/plain": [
       "<IPython.core.display.HTML object>"
      ]
     },
     "execution_count": 90,
     "metadata": {},
     "output_type": "execute_result"
    }
   ],
   "source": [
    "#¤(SUM)"
   ]
  },
  {
   "cell_type": "code",
   "execution_count": 91,
   "metadata": {},
   "outputs": [
    {
     "data": {
      "text/html": [
       "<br/>$$\\\\\\large L\\ f\\ x\\ ,\\ (f\\ (f\\ x))\\ (L\\ y\\ ,\\ (y^ 2))\\ 5\\\\\\large=_{\\beta} \\\\\\large (5^ 2)^ 2\\\\$$"
      ],
      "text/plain": [
       "<IPython.core.display.HTML object>"
      ]
     },
     "execution_count": 91,
     "metadata": {},
     "output_type": "execute_result"
    }
   ],
   "source": [
    "; https://stackoverflow.com/questions/36511989/lambda-calculus-reduction-evaluating-expr\n",
    "#¤(L f x , (f (f x)) (L y , (y ^ 2)) 5)"
   ]
  },
  {
   "cell_type": "code",
   "execution_count": 92,
   "metadata": {},
   "outputs": [
    {
     "data": {
      "text/html": [
       "<br/>$$\\\\\\large L\\ f\\ ,\\ (L\\ n\\ ,\\ (f\\ (n\\ n))\\ (L\\ n\\ ,\\ (f\\ (n\\ n))))\\ (L\\ f\\ n\\ ,\\ (L\\ f\\ ,\\ (f\\ (L\\ a\\ ,\\ (L\\ a\\ b\\ ,\\ b))\\ (L\\ a\\ b\\ ,\\ a))\\ n\\ (L\\ x\\ y\\ ,\\ (x\\ y))\\ (L\\ m\\ n\\ x\\ y\\ ,\\ (m\\ (n\\ x)\\ y)\\ (f\\ (L\\ n\\ x\\ y\\ ,\\ (n\\ (L\\ g\\ ,\\ (L\\ h\\ ,\\ (h\\ (g\\ x))))\\ (L\\ u\\ ,\\ y)\\ (L\\ u\\ ,\\ u))\\ n))\\ n)))\\ (L\\ x\\ y\\ ,\\ (x\\ (x\\ (x\\ y))))\\ x\\ y\\\\\\large=_{\\beta} \\\\\\large x\\ (x\\ (x\\ (x\\ (x\\ (x\\ y)))))\\\\$$"
      ],
      "text/plain": [
       "<IPython.core.display.HTML object>"
      ]
     },
     "execution_count": 92,
     "metadata": {},
     "output_type": "execute_result"
    }
   ],
   "source": [
    "#¤\n",
    "(L f , (L n , (f (n n)) (L n , (f (n n))))\n",
    "  (L f n ,\n",
    "    (L f , (f (L a , (L a b , b)) (L a b , a)) n\n",
    "    (L x y , (x y))\n",
    "    (L m n x y , (m (n x) y)\n",
    "      (f (L n x y , (n (L g , (L h , (h (g x)))) (L u , y) (L u , u)) n))\n",
    "      n)))\n",
    "  (L x y , (x (x (x y)))) x y)"
   ]
  },
  {
   "cell_type": "code",
   "execution_count": 93,
   "metadata": {},
   "outputs": [
    {
     "data": {
      "text/html": [
       "<br/>$$\\\\\\large L\\ f\\ ,\\ (L\\ n\\ ,\\ (f\\ (n\\ n))\\ (L\\ n\\ ,\\ (f\\ (n\\ n))))\\ (L\\ f\\ n\\ ,\\ (L\\ f\\ ,\\ (f\\ (L\\ a\\ ,\\ (L\\ a\\ b\\ ,\\ b))\\ (L\\ a\\ b\\ ,\\ a))\\ n\\ (L\\ x\\ y\\ ,\\ (x\\ y))\\ (L\\ m\\ n\\ x\\ y\\ ,\\ (m\\ (n\\ x)\\ y)\\ (f\\ (L\\ n\\ ,\\ (L\\ x\\ ,\\ (L\\ y\\ ,\\ (n\\ (L\\ g\\ ,\\ (L\\ h\\ ,\\ (h\\ (g\\ x))))\\ (L\\ u\\ ,\\ y)\\ (L\\ u\\ ,\\ u))))\\ n))\\ n)))\\ (L\\ x\\ y\\ ,\\ (x\\ (x\\ (x\\ (x\\ y)))))\\ x\\ y\\\\\\large=_{\\beta} \\\\\\large x\\ (x\\ (x\\ (x\\ (x\\ (x\\ (x\\ (x\\ (x\\ (x\\ (x\\ (x\\ (x\\ (x\\ (x\\ (x\\ (x\\ (x\\ (x\\ (x\\ (x\\ (x\\ (x\\ (x\\ y)))))))))))))))))))))))\\\\$$"
      ],
      "text/plain": [
       "<IPython.core.display.HTML object>"
      ]
     },
     "execution_count": 93,
     "metadata": {},
     "output_type": "execute_result"
    }
   ],
   "source": [
    "#¤\n",
    "(L f , (L n , (f (n n)) (L n , (f (n n))))\n",
    "  (L f n ,\n",
    "    (L f , (f (L a , (L a b , b)) (L a b , a)) n\n",
    "    (L x y , (x y))\n",
    "    (L m n x y , (m (n x) y)\n",
    "      (f (L n , (L x , (L y , (n (L g , (L h , (h (g x)))) (L u , y) (L u , u)))) n))\n",
    "      n)))\n",
    "  (L x y , (x (x (x (x y))))) x y)"
   ]
  },
  {
   "cell_type": "markdown",
   "metadata": {},
   "source": [
    "## Tests\n",
    "\n",
    "### Function and application constructors"
   ]
  },
  {
   "cell_type": "markdown",
   "metadata": {},
   "source": [
    "### Alpha conversion"
   ]
  },
  {
   "cell_type": "markdown",
   "metadata": {},
   "source": [
    "### Basic shorthand forms"
   ]
  },
  {
   "cell_type": "markdown",
   "metadata": {},
   "source": [
    "### List shorthand forms"
   ]
  },
  {
   "cell_type": "markdown",
   "metadata": {},
   "source": [
    "### Church numerals shorthands"
   ]
  },
  {
   "cell_type": "markdown",
   "metadata": {},
   "source": [
    "### Logic operator shorthands"
   ]
  },
  {
   "cell_type": "markdown",
   "metadata": {},
   "source": [
    "### Math function shorthands"
   ]
  },
  {
   "cell_type": "markdown",
   "metadata": {},
   "source": [
    "### Infinite loop"
   ]
  },
  {
   "cell_type": "markdown",
   "metadata": {},
   "source": [
    "## The [MIT](http://choosealicense.com/licenses/mit/) License\n",
    "\n",
    "Copyright (c) 2017 Marko Manninen"
   ]
  }
 ],
 "metadata": {
  "kernelspec": {
   "display_name": "Calysto Hy",
   "language": "hy",
   "name": "calysto_hy"
  },
  "language_info": {
   "codemirror_mode": {
    "name": "scheme"
   },
   "mimetype": "text/x-hylang",
   "name": "hy",
   "pygments_lexer": "lisp"
  }
 },
 "nbformat": 4,
 "nbformat_minor": 2
}
